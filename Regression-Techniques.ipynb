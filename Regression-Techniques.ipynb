{
 "cells": [
  {
   "cell_type": "code",
   "execution_count": 1,
   "id": "f1b4a8a0",
   "metadata": {
    "_cell_guid": "b1076dfc-b9ad-4769-8c92-a6c4dae69d19",
    "_kg_hide-input": true,
    "_kg_hide-output": true,
    "_uuid": "8f2839f25d086af736a60e9eeb907d3b93b6e0e5",
    "execution": {
     "iopub.execute_input": "2022-06-25T11:46:16.212345Z",
     "iopub.status.busy": "2022-06-25T11:46:16.211816Z",
     "iopub.status.idle": "2022-06-25T11:46:16.228158Z",
     "shell.execute_reply": "2022-06-25T11:46:16.226990Z"
    },
    "papermill": {
     "duration": 0.036574,
     "end_time": "2022-06-25T11:46:16.230999",
     "exception": false,
     "start_time": "2022-06-25T11:46:16.194425",
     "status": "completed"
    },
    "tags": []
   },
   "outputs": [
    {
     "name": "stdout",
     "output_type": "stream",
     "text": [
      "/kaggle/input/house-prices-advanced-regression-techniques/sample_submission.csv\n",
      "/kaggle/input/house-prices-advanced-regression-techniques/data_description.txt\n",
      "/kaggle/input/house-prices-advanced-regression-techniques/train.csv\n",
      "/kaggle/input/house-prices-advanced-regression-techniques/test.csv\n"
     ]
    }
   ],
   "source": [
    "# This Python 3 environment comes with many helpful analytics libraries installed\n",
    "# It is defined by the kaggle/python Docker image: https://github.com/kaggle/docker-python\n",
    "# For example, here's several helpful packages to load\n",
    "\n",
    "import numpy as np # linear algebra\n",
    "import pandas as pd # data processing, CSV file I/O (e.g. pd.read_csv)\n",
    "\n",
    "# Input data files are available in the read-only \"../input/\" directory\n",
    "# For example, running this (by clicking run or pressing Shift+Enter) will list all files under the input directory\n",
    "\n",
    "import os\n",
    "for dirname, _, filenames in os.walk('/kaggle/input'):\n",
    "    for filename in filenames:\n",
    "        print(os.path.join(dirname, filename))\n",
    "\n",
    "# You can write up to 20GB to the current directory (/kaggle/working/) that gets preserved as output when you create a version using \"Save & Run All\" \n",
    "# You can also write temporary files to /kaggle/temp/, but they won't be saved outside of the current session"
   ]
  },
  {
   "cell_type": "markdown",
   "id": "64ace380",
   "metadata": {
    "papermill": {
     "duration": 0.014105,
     "end_time": "2022-06-25T11:46:16.259820",
     "exception": false,
     "start_time": "2022-06-25T11:46:16.245715",
     "status": "completed"
    },
    "tags": []
   },
   "source": [
    "## Preprocesado de datos"
   ]
  },
  {
   "cell_type": "markdown",
   "id": "b97c9f9d",
   "metadata": {
    "papermill": {
     "duration": 0.013837,
     "end_time": "2022-06-25T11:46:16.287878",
     "exception": false,
     "start_time": "2022-06-25T11:46:16.274041",
     "status": "completed"
    },
    "tags": []
   },
   "source": [
    "##### En este apartado, en primer lugar cargaremos las primersa líbrerias y tambíen  los datos.\n",
    "\n",
    "##### El segundo paso es visualizar los datos y gestionar los nulos de la mejor forma posible.\n",
    "\n",
    "**TIP :** *Para que tu codigo sea más eficaz y en casa de necesitarlo realizar futuras actualizaciones es recomendable el uso de funciones*"
   ]
  },
  {
   "cell_type": "code",
   "execution_count": 2,
   "id": "13cab541",
   "metadata": {
    "execution": {
     "iopub.execute_input": "2022-06-25T11:46:16.318654Z",
     "iopub.status.busy": "2022-06-25T11:46:16.318250Z",
     "iopub.status.idle": "2022-06-25T11:46:16.323183Z",
     "shell.execute_reply": "2022-06-25T11:46:16.321956Z"
    },
    "papermill": {
     "duration": 0.023605,
     "end_time": "2022-06-25T11:46:16.325570",
     "exception": false,
     "start_time": "2022-06-25T11:46:16.301965",
     "status": "completed"
    },
    "tags": []
   },
   "outputs": [],
   "source": [
    "import pandas as pd\n",
    "import numpy as np"
   ]
  },
  {
   "cell_type": "code",
   "execution_count": 3,
   "id": "8a8149c9",
   "metadata": {
    "execution": {
     "iopub.execute_input": "2022-06-25T11:46:16.357577Z",
     "iopub.status.busy": "2022-06-25T11:46:16.357184Z",
     "iopub.status.idle": "2022-06-25T11:46:16.433628Z",
     "shell.execute_reply": "2022-06-25T11:46:16.432624Z"
    },
    "papermill": {
     "duration": 0.09658,
     "end_time": "2022-06-25T11:46:16.436289",
     "exception": false,
     "start_time": "2022-06-25T11:46:16.339709",
     "status": "completed"
    },
    "tags": []
   },
   "outputs": [],
   "source": [
    "train = pd.read_csv('../input/house-prices-advanced-regression-techniques/train.csv')\n",
    "test= pd.read_csv('../input/house-prices-advanced-regression-techniques/test.csv')"
   ]
  },
  {
   "cell_type": "markdown",
   "id": "38acebef",
   "metadata": {
    "papermill": {
     "duration": 0.014147,
     "end_time": "2022-06-25T11:46:16.464671",
     "exception": false,
     "start_time": "2022-06-25T11:46:16.450524",
     "status": "completed"
    },
    "tags": []
   },
   "source": [
    "Visualizamos como es el dataframe"
   ]
  },
  {
   "cell_type": "code",
   "execution_count": 4,
   "id": "cb9b1899",
   "metadata": {
    "execution": {
     "iopub.execute_input": "2022-06-25T11:46:16.494872Z",
     "iopub.status.busy": "2022-06-25T11:46:16.494462Z",
     "iopub.status.idle": "2022-06-25T11:46:16.532547Z",
     "shell.execute_reply": "2022-06-25T11:46:16.531622Z"
    },
    "papermill": {
     "duration": 0.058005,
     "end_time": "2022-06-25T11:46:16.536721",
     "exception": false,
     "start_time": "2022-06-25T11:46:16.478716",
     "status": "completed"
    },
    "tags": []
   },
   "outputs": [
    {
     "name": "stdout",
     "output_type": "stream",
     "text": [
      "<class 'pandas.core.frame.DataFrame'>\n",
      "RangeIndex: 1460 entries, 0 to 1459\n",
      "Data columns (total 81 columns):\n",
      " #   Column         Non-Null Count  Dtype  \n",
      "---  ------         --------------  -----  \n",
      " 0   Id             1460 non-null   int64  \n",
      " 1   MSSubClass     1460 non-null   int64  \n",
      " 2   MSZoning       1460 non-null   object \n",
      " 3   LotFrontage    1201 non-null   float64\n",
      " 4   LotArea        1460 non-null   int64  \n",
      " 5   Street         1460 non-null   object \n",
      " 6   Alley          91 non-null     object \n",
      " 7   LotShape       1460 non-null   object \n",
      " 8   LandContour    1460 non-null   object \n",
      " 9   Utilities      1460 non-null   object \n",
      " 10  LotConfig      1460 non-null   object \n",
      " 11  LandSlope      1460 non-null   object \n",
      " 12  Neighborhood   1460 non-null   object \n",
      " 13  Condition1     1460 non-null   object \n",
      " 14  Condition2     1460 non-null   object \n",
      " 15  BldgType       1460 non-null   object \n",
      " 16  HouseStyle     1460 non-null   object \n",
      " 17  OverallQual    1460 non-null   int64  \n",
      " 18  OverallCond    1460 non-null   int64  \n",
      " 19  YearBuilt      1460 non-null   int64  \n",
      " 20  YearRemodAdd   1460 non-null   int64  \n",
      " 21  RoofStyle      1460 non-null   object \n",
      " 22  RoofMatl       1460 non-null   object \n",
      " 23  Exterior1st    1460 non-null   object \n",
      " 24  Exterior2nd    1460 non-null   object \n",
      " 25  MasVnrType     1452 non-null   object \n",
      " 26  MasVnrArea     1452 non-null   float64\n",
      " 27  ExterQual      1460 non-null   object \n",
      " 28  ExterCond      1460 non-null   object \n",
      " 29  Foundation     1460 non-null   object \n",
      " 30  BsmtQual       1423 non-null   object \n",
      " 31  BsmtCond       1423 non-null   object \n",
      " 32  BsmtExposure   1422 non-null   object \n",
      " 33  BsmtFinType1   1423 non-null   object \n",
      " 34  BsmtFinSF1     1460 non-null   int64  \n",
      " 35  BsmtFinType2   1422 non-null   object \n",
      " 36  BsmtFinSF2     1460 non-null   int64  \n",
      " 37  BsmtUnfSF      1460 non-null   int64  \n",
      " 38  TotalBsmtSF    1460 non-null   int64  \n",
      " 39  Heating        1460 non-null   object \n",
      " 40  HeatingQC      1460 non-null   object \n",
      " 41  CentralAir     1460 non-null   object \n",
      " 42  Electrical     1459 non-null   object \n",
      " 43  1stFlrSF       1460 non-null   int64  \n",
      " 44  2ndFlrSF       1460 non-null   int64  \n",
      " 45  LowQualFinSF   1460 non-null   int64  \n",
      " 46  GrLivArea      1460 non-null   int64  \n",
      " 47  BsmtFullBath   1460 non-null   int64  \n",
      " 48  BsmtHalfBath   1460 non-null   int64  \n",
      " 49  FullBath       1460 non-null   int64  \n",
      " 50  HalfBath       1460 non-null   int64  \n",
      " 51  BedroomAbvGr   1460 non-null   int64  \n",
      " 52  KitchenAbvGr   1460 non-null   int64  \n",
      " 53  KitchenQual    1460 non-null   object \n",
      " 54  TotRmsAbvGrd   1460 non-null   int64  \n",
      " 55  Functional     1460 non-null   object \n",
      " 56  Fireplaces     1460 non-null   int64  \n",
      " 57  FireplaceQu    770 non-null    object \n",
      " 58  GarageType     1379 non-null   object \n",
      " 59  GarageYrBlt    1379 non-null   float64\n",
      " 60  GarageFinish   1379 non-null   object \n",
      " 61  GarageCars     1460 non-null   int64  \n",
      " 62  GarageArea     1460 non-null   int64  \n",
      " 63  GarageQual     1379 non-null   object \n",
      " 64  GarageCond     1379 non-null   object \n",
      " 65  PavedDrive     1460 non-null   object \n",
      " 66  WoodDeckSF     1460 non-null   int64  \n",
      " 67  OpenPorchSF    1460 non-null   int64  \n",
      " 68  EnclosedPorch  1460 non-null   int64  \n",
      " 69  3SsnPorch      1460 non-null   int64  \n",
      " 70  ScreenPorch    1460 non-null   int64  \n",
      " 71  PoolArea       1460 non-null   int64  \n",
      " 72  PoolQC         7 non-null      object \n",
      " 73  Fence          281 non-null    object \n",
      " 74  MiscFeature    54 non-null     object \n",
      " 75  MiscVal        1460 non-null   int64  \n",
      " 76  MoSold         1460 non-null   int64  \n",
      " 77  YrSold         1460 non-null   int64  \n",
      " 78  SaleType       1460 non-null   object \n",
      " 79  SaleCondition  1460 non-null   object \n",
      " 80  SalePrice      1460 non-null   int64  \n",
      "dtypes: float64(3), int64(35), object(43)\n",
      "memory usage: 924.0+ KB\n"
     ]
    }
   ],
   "source": [
    "train.info()"
   ]
  },
  {
   "cell_type": "code",
   "execution_count": 5,
   "id": "0635a920",
   "metadata": {
    "execution": {
     "iopub.execute_input": "2022-06-25T11:46:16.568768Z",
     "iopub.status.busy": "2022-06-25T11:46:16.568121Z",
     "iopub.status.idle": "2022-06-25T11:46:16.580707Z",
     "shell.execute_reply": "2022-06-25T11:46:16.579721Z"
    },
    "papermill": {
     "duration": 0.031302,
     "end_time": "2022-06-25T11:46:16.583291",
     "exception": false,
     "start_time": "2022-06-25T11:46:16.551989",
     "status": "completed"
    },
    "tags": []
   },
   "outputs": [],
   "source": [
    "def preprocesado(df):\n",
    "    df=df.drop(['Alley'], axis=1) # Eliminamos la columna Alley\n",
    "    df=df.dropna(subset=['MasVnrType']) # Eliminamos las filas con nulos\n",
    "    df['BsmtFinType2']=df['BsmtFinType2'].fillna('Unf') # Asumimos los nulos como Unf (Sin terminar)\n",
    "    df['LotFrontage']=df['LotFrontage'].fillna(df['LotFrontage'].median()) # Imputamos los nulos con la mediana\n",
    "    df['BsmtQual']=df['BsmtQual'].fillna(0) # Imputamos los nulos por 0 (No tienen sotano)\n",
    "    df['BsmtCond']=df['BsmtCond'].fillna(0) # Imputamos los nulos por 0 (No tienen sotano)\n",
    "    df['BsmtExposure']=df['BsmtExposure'].fillna(0) # Imputamos los nulos por 0 (No tienen sotano)\n",
    "    df['BsmtFinType1']=df['BsmtFinType1'].fillna(0) # Imputamos los nulos por 0 (No tienen sotano)\n",
    "    df=df.dropna(subset=['Electrical']) # Eliminamos el error en Electrical\n",
    "    df['FireplaceQu']=df['FireplaceQu'].fillna(0) # Imputamos los nulos por 0 (No tienen chimenea)\n",
    "    df['GarageType']=df['FireplaceQu'].fillna('NonHave') # Imputamos los nulos por 'NonHave' (No tienen garaje)\n",
    "    df['GarageYrBlt']=df['GarageYrBlt'].fillna(0) # Imputamos los nulos por 0 (Indicamos que los que no tienen garaje)\n",
    "    df['GarageFinish']=df['GarageFinish'].fillna('NonHave') # Imputamos los nulos por 'NonHave' (No tienen garaje)\n",
    "    df['GarageQual']=df['GarageQual'].fillna(0) # Indicamos que el garaje no existe\n",
    "    df['GarageCond']=df['GarageCond'].fillna(0) # Indicamos que el garaje no existe\n",
    "    df=df.drop(['PoolQC'], axis=1) # Eliminamos la columna Calidad de la piscina (Praticamente toda vacia)\n",
    "    df['MiscFeature']=df['MiscFeature'].fillna('NonHave') # Indicamos que no tiene características extras\n",
    "    df['Fence']=df['Fence'].fillna('NonHave') # Indicamos que no tiene vallas\n",
    "    return df"
   ]
  },
  {
   "cell_type": "code",
   "execution_count": 6,
   "id": "338e7dfd",
   "metadata": {
    "execution": {
     "iopub.execute_input": "2022-06-25T11:46:16.613896Z",
     "iopub.status.busy": "2022-06-25T11:46:16.613247Z",
     "iopub.status.idle": "2022-06-25T11:46:16.636574Z",
     "shell.execute_reply": "2022-06-25T11:46:16.635344Z"
    },
    "papermill": {
     "duration": 0.041608,
     "end_time": "2022-06-25T11:46:16.639177",
     "exception": false,
     "start_time": "2022-06-25T11:46:16.597569",
     "status": "completed"
    },
    "tags": []
   },
   "outputs": [],
   "source": [
    "train=preprocesado(train)"
   ]
  },
  {
   "cell_type": "markdown",
   "id": "182246db",
   "metadata": {
    "papermill": {
     "duration": 0.013898,
     "end_time": "2022-06-25T11:46:16.667322",
     "exception": false,
     "start_time": "2022-06-25T11:46:16.653424",
     "status": "completed"
    },
    "tags": []
   },
   "source": [
    "## Features Selection"
   ]
  },
  {
   "cell_type": "markdown",
   "id": "8b9e7a4e",
   "metadata": {
    "papermill": {
     "duration": 0.014077,
     "end_time": "2022-06-25T11:46:16.695628",
     "exception": false,
     "start_time": "2022-06-25T11:46:16.681551",
     "status": "completed"
    },
    "tags": []
   },
   "source": [
    "##### En esta sección vamos a seleccionar solo las variables que creamos que tienen sentido para nuestro modelo, cada elección tiene que tener un porque.\n",
    "##### Sobrecargar un modelo puede provocar largos periodos de espera y hacer que nuestro modelo no encuentre las mejores relaciones.\n",
    "\n",
    "*Es necesario leerse el apartado Data Field de la página '[Datos](https://www.kaggle.com/competitions/house-prices-advanced-regression-techniques/data)' de la descripción de la competición*"
   ]
  },
  {
   "cell_type": "code",
   "execution_count": 7,
   "id": "d1bde499",
   "metadata": {
    "execution": {
     "iopub.execute_input": "2022-06-25T11:46:16.725957Z",
     "iopub.status.busy": "2022-06-25T11:46:16.725258Z",
     "iopub.status.idle": "2022-06-25T11:46:16.737144Z",
     "shell.execute_reply": "2022-06-25T11:46:16.736142Z"
    },
    "papermill": {
     "duration": 0.029916,
     "end_time": "2022-06-25T11:46:16.739602",
     "exception": false,
     "start_time": "2022-06-25T11:46:16.709686",
     "status": "completed"
    },
    "tags": []
   },
   "outputs": [],
   "source": [
    "features=['MSSubClass','MSZoning','LandContour','Utilities','LotConfig','Neighborhood','BldgType','HouseStyle','OverallQual','OverallCond','YearRemodAdd','ExterQual','ExterCond','BsmtCond','Heating','HeatingQC','CentralAir','Electrical','GrLivArea','FullBath','KitchenQual','TotRmsAbvGrd','FireplaceQu','GarageCars','GarageCond','Fence','MiscVal','SaleType','SaleCondition']\n",
    "target=['SalePrice']"
   ]
  },
  {
   "cell_type": "code",
   "execution_count": 8,
   "id": "c6752c3c",
   "metadata": {
    "execution": {
     "iopub.execute_input": "2022-06-25T11:46:16.770654Z",
     "iopub.status.busy": "2022-06-25T11:46:16.769937Z",
     "iopub.status.idle": "2022-06-25T11:46:16.774391Z",
     "shell.execute_reply": "2022-06-25T11:46:16.773553Z"
    },
    "papermill": {
     "duration": 0.022874,
     "end_time": "2022-06-25T11:46:16.776642",
     "exception": false,
     "start_time": "2022-06-25T11:46:16.753768",
     "status": "completed"
    },
    "tags": []
   },
   "outputs": [],
   "source": [
    "def select_features(df):\n",
    "    train_df=df[features+target]\n",
    "    return train_df"
   ]
  },
  {
   "cell_type": "code",
   "execution_count": 9,
   "id": "b9238132",
   "metadata": {
    "execution": {
     "iopub.execute_input": "2022-06-25T11:46:16.807625Z",
     "iopub.status.busy": "2022-06-25T11:46:16.806940Z",
     "iopub.status.idle": "2022-06-25T11:46:16.812711Z",
     "shell.execute_reply": "2022-06-25T11:46:16.811520Z"
    },
    "papermill": {
     "duration": 0.024084,
     "end_time": "2022-06-25T11:46:16.815083",
     "exception": false,
     "start_time": "2022-06-25T11:46:16.790999",
     "status": "completed"
    },
    "tags": []
   },
   "outputs": [],
   "source": [
    "train_df=select_features(train)"
   ]
  },
  {
   "cell_type": "markdown",
   "id": "8c19489b",
   "metadata": {
    "papermill": {
     "duration": 0.014181,
     "end_time": "2022-06-25T11:46:16.843576",
     "exception": false,
     "start_time": "2022-06-25T11:46:16.829395",
     "status": "completed"
    },
    "tags": []
   },
   "source": [
    "### Modelado con PCA"
   ]
  },
  {
   "cell_type": "code",
   "execution_count": 10,
   "id": "e03aea2d",
   "metadata": {
    "execution": {
     "iopub.execute_input": "2022-06-25T11:46:16.874864Z",
     "iopub.status.busy": "2022-06-25T11:46:16.873818Z",
     "iopub.status.idle": "2022-06-25T11:46:16.902659Z",
     "shell.execute_reply": "2022-06-25T11:46:16.901401Z"
    },
    "papermill": {
     "duration": 0.046925,
     "end_time": "2022-06-25T11:46:16.905168",
     "exception": false,
     "start_time": "2022-06-25T11:46:16.858243",
     "status": "completed"
    },
    "tags": []
   },
   "outputs": [
    {
     "name": "stdout",
     "output_type": "stream",
     "text": [
      "----------------------\n",
      "Media de cada variable\n",
      "----------------------\n"
     ]
    },
    {
     "name": "stderr",
     "output_type": "stream",
     "text": [
      "/opt/conda/lib/python3.7/site-packages/ipykernel_launcher.py:4: FutureWarning: Dropping of nuisance columns in DataFrame reductions (with 'numeric_only=None') is deprecated; in a future version this will raise TypeError.  Select only valid columns before calling the reduction.\n",
      "  after removing the cwd from sys.path.\n"
     ]
    },
    {
     "data": {
      "text/plain": [
       "MSSubClass          56.933150\n",
       "OverallQual          6.093728\n",
       "OverallCond          5.579600\n",
       "YearRemodAdd      1984.760165\n",
       "GrLivArea         1514.174363\n",
       "FullBath             1.562371\n",
       "TotRmsAbvGrd         6.516885\n",
       "GarageCars           1.764990\n",
       "MiscVal             43.758787\n",
       "SalePrice       180624.101999\n",
       "dtype: float64"
      ]
     },
     "execution_count": 10,
     "metadata": {},
     "output_type": "execute_result"
    }
   ],
   "source": [
    "print('----------------------')\n",
    "print('Media de cada variable')\n",
    "print('----------------------')\n",
    "train_df.mean(axis=0)"
   ]
  },
  {
   "cell_type": "code",
   "execution_count": 11,
   "id": "7c72455f",
   "metadata": {
    "execution": {
     "iopub.execute_input": "2022-06-25T11:46:16.936186Z",
     "iopub.status.busy": "2022-06-25T11:46:16.935450Z",
     "iopub.status.idle": "2022-06-25T11:46:16.953708Z",
     "shell.execute_reply": "2022-06-25T11:46:16.951985Z"
    },
    "papermill": {
     "duration": 0.037577,
     "end_time": "2022-06-25T11:46:16.957268",
     "exception": false,
     "start_time": "2022-06-25T11:46:16.919691",
     "status": "completed"
    },
    "tags": []
   },
   "outputs": [
    {
     "name": "stdout",
     "output_type": "stream",
     "text": [
      "-------------------------\n",
      "Varianza de cada variable\n",
      "-------------------------\n"
     ]
    },
    {
     "name": "stderr",
     "output_type": "stream",
     "text": [
      "/opt/conda/lib/python3.7/site-packages/ipykernel_launcher.py:4: FutureWarning: Dropping of nuisance columns in DataFrame reductions (with 'numeric_only=None') is deprecated; in a future version this will raise TypeError.  Select only valid columns before calling the reduction.\n",
      "  after removing the cwd from sys.path.\n"
     ]
    },
    {
     "data": {
      "text/plain": [
       "MSSubClass      1.793553e+03\n",
       "OverallQual     1.908450e+00\n",
       "OverallCond     1.239694e+00\n",
       "YearRemodAdd    4.264776e+02\n",
       "GrLivArea       2.764651e+05\n",
       "FullBath        3.028313e-01\n",
       "TotRmsAbvGrd    2.645749e+00\n",
       "GarageCars      5.605941e-01\n",
       "MiscVal         2.476540e+05\n",
       "SalePrice       6.290414e+09\n",
       "dtype: float64"
      ]
     },
     "execution_count": 11,
     "metadata": {},
     "output_type": "execute_result"
    }
   ],
   "source": [
    "print('-------------------------')\n",
    "print('Varianza de cada variable')\n",
    "print('-------------------------')\n",
    "train_df.var(axis=0)"
   ]
  },
  {
   "cell_type": "code",
   "execution_count": 12,
   "id": "1227c2bd",
   "metadata": {
    "execution": {
     "iopub.execute_input": "2022-06-25T11:46:16.989744Z",
     "iopub.status.busy": "2022-06-25T11:46:16.988758Z",
     "iopub.status.idle": "2022-06-25T11:46:17.030415Z",
     "shell.execute_reply": "2022-06-25T11:46:17.028740Z"
    },
    "papermill": {
     "duration": 0.060512,
     "end_time": "2022-06-25T11:46:17.033080",
     "exception": false,
     "start_time": "2022-06-25T11:46:16.972568",
     "status": "completed"
    },
    "tags": []
   },
   "outputs": [
    {
     "name": "stderr",
     "output_type": "stream",
     "text": [
      "/opt/conda/lib/python3.7/site-packages/pandas/core/frame.py:3641: SettingWithCopyWarning: \n",
      "A value is trying to be set on a copy of a slice from a DataFrame.\n",
      "Try using .loc[row_indexer,col_indexer] = value instead\n",
      "\n",
      "See the caveats in the documentation: https://pandas.pydata.org/pandas-docs/stable/user_guide/indexing.html#returning-a-view-versus-a-copy\n",
      "  self[k1] = value[k2]\n"
     ]
    },
    {
     "data": {
      "text/html": [
       "<div>\n",
       "<style scoped>\n",
       "    .dataframe tbody tr th:only-of-type {\n",
       "        vertical-align: middle;\n",
       "    }\n",
       "\n",
       "    .dataframe tbody tr th {\n",
       "        vertical-align: top;\n",
       "    }\n",
       "\n",
       "    .dataframe thead th {\n",
       "        text-align: right;\n",
       "    }\n",
       "</style>\n",
       "<table border=\"1\" class=\"dataframe\">\n",
       "  <thead>\n",
       "    <tr style=\"text-align: right;\">\n",
       "      <th></th>\n",
       "      <th>MSSubClass</th>\n",
       "      <th>OverallQual</th>\n",
       "      <th>OverallCond</th>\n",
       "      <th>YearRemodAdd</th>\n",
       "      <th>GrLivArea</th>\n",
       "      <th>FullBath</th>\n",
       "      <th>TotRmsAbvGrd</th>\n",
       "      <th>GarageCars</th>\n",
       "      <th>MiscVal</th>\n",
       "    </tr>\n",
       "  </thead>\n",
       "  <tbody>\n",
       "    <tr>\n",
       "      <th>0</th>\n",
       "      <td>0.235294</td>\n",
       "      <td>0.666667</td>\n",
       "      <td>0.500</td>\n",
       "      <td>0.883333</td>\n",
       "      <td>0.259231</td>\n",
       "      <td>0.666667</td>\n",
       "      <td>0.500000</td>\n",
       "      <td>0.50</td>\n",
       "      <td>0.00000</td>\n",
       "    </tr>\n",
       "    <tr>\n",
       "      <th>1</th>\n",
       "      <td>0.000000</td>\n",
       "      <td>0.555556</td>\n",
       "      <td>0.875</td>\n",
       "      <td>0.433333</td>\n",
       "      <td>0.174830</td>\n",
       "      <td>0.666667</td>\n",
       "      <td>0.333333</td>\n",
       "      <td>0.50</td>\n",
       "      <td>0.00000</td>\n",
       "    </tr>\n",
       "    <tr>\n",
       "      <th>2</th>\n",
       "      <td>0.235294</td>\n",
       "      <td>0.666667</td>\n",
       "      <td>0.500</td>\n",
       "      <td>0.866667</td>\n",
       "      <td>0.273549</td>\n",
       "      <td>0.666667</td>\n",
       "      <td>0.333333</td>\n",
       "      <td>0.50</td>\n",
       "      <td>0.00000</td>\n",
       "    </tr>\n",
       "    <tr>\n",
       "      <th>3</th>\n",
       "      <td>0.294118</td>\n",
       "      <td>0.666667</td>\n",
       "      <td>0.500</td>\n",
       "      <td>0.333333</td>\n",
       "      <td>0.260550</td>\n",
       "      <td>0.333333</td>\n",
       "      <td>0.416667</td>\n",
       "      <td>0.75</td>\n",
       "      <td>0.00000</td>\n",
       "    </tr>\n",
       "    <tr>\n",
       "      <th>4</th>\n",
       "      <td>0.235294</td>\n",
       "      <td>0.777778</td>\n",
       "      <td>0.500</td>\n",
       "      <td>0.833333</td>\n",
       "      <td>0.351168</td>\n",
       "      <td>0.666667</td>\n",
       "      <td>0.583333</td>\n",
       "      <td>0.75</td>\n",
       "      <td>0.00000</td>\n",
       "    </tr>\n",
       "    <tr>\n",
       "      <th>...</th>\n",
       "      <td>...</td>\n",
       "      <td>...</td>\n",
       "      <td>...</td>\n",
       "      <td>...</td>\n",
       "      <td>...</td>\n",
       "      <td>...</td>\n",
       "      <td>...</td>\n",
       "      <td>...</td>\n",
       "      <td>...</td>\n",
       "    </tr>\n",
       "    <tr>\n",
       "      <th>1455</th>\n",
       "      <td>0.235294</td>\n",
       "      <td>0.555556</td>\n",
       "      <td>0.500</td>\n",
       "      <td>0.833333</td>\n",
       "      <td>0.247362</td>\n",
       "      <td>0.666667</td>\n",
       "      <td>0.416667</td>\n",
       "      <td>0.50</td>\n",
       "      <td>0.00000</td>\n",
       "    </tr>\n",
       "    <tr>\n",
       "      <th>1456</th>\n",
       "      <td>0.000000</td>\n",
       "      <td>0.555556</td>\n",
       "      <td>0.625</td>\n",
       "      <td>0.633333</td>\n",
       "      <td>0.327619</td>\n",
       "      <td>0.666667</td>\n",
       "      <td>0.416667</td>\n",
       "      <td>0.50</td>\n",
       "      <td>0.00000</td>\n",
       "    </tr>\n",
       "    <tr>\n",
       "      <th>1457</th>\n",
       "      <td>0.294118</td>\n",
       "      <td>0.666667</td>\n",
       "      <td>1.000</td>\n",
       "      <td>0.933333</td>\n",
       "      <td>0.377920</td>\n",
       "      <td>0.666667</td>\n",
       "      <td>0.583333</td>\n",
       "      <td>0.25</td>\n",
       "      <td>0.16129</td>\n",
       "    </tr>\n",
       "    <tr>\n",
       "      <th>1458</th>\n",
       "      <td>0.000000</td>\n",
       "      <td>0.444444</td>\n",
       "      <td>0.625</td>\n",
       "      <td>0.766667</td>\n",
       "      <td>0.140166</td>\n",
       "      <td>0.333333</td>\n",
       "      <td>0.250000</td>\n",
       "      <td>0.25</td>\n",
       "      <td>0.00000</td>\n",
       "    </tr>\n",
       "    <tr>\n",
       "      <th>1459</th>\n",
       "      <td>0.000000</td>\n",
       "      <td>0.444444</td>\n",
       "      <td>0.625</td>\n",
       "      <td>0.250000</td>\n",
       "      <td>0.173700</td>\n",
       "      <td>0.333333</td>\n",
       "      <td>0.333333</td>\n",
       "      <td>0.25</td>\n",
       "      <td>0.00000</td>\n",
       "    </tr>\n",
       "  </tbody>\n",
       "</table>\n",
       "<p>1451 rows × 9 columns</p>\n",
       "</div>"
      ],
      "text/plain": [
       "      MSSubClass  OverallQual  OverallCond  YearRemodAdd  GrLivArea  FullBath  \\\n",
       "0       0.235294     0.666667        0.500      0.883333   0.259231  0.666667   \n",
       "1       0.000000     0.555556        0.875      0.433333   0.174830  0.666667   \n",
       "2       0.235294     0.666667        0.500      0.866667   0.273549  0.666667   \n",
       "3       0.294118     0.666667        0.500      0.333333   0.260550  0.333333   \n",
       "4       0.235294     0.777778        0.500      0.833333   0.351168  0.666667   \n",
       "...          ...          ...          ...           ...        ...       ...   \n",
       "1455    0.235294     0.555556        0.500      0.833333   0.247362  0.666667   \n",
       "1456    0.000000     0.555556        0.625      0.633333   0.327619  0.666667   \n",
       "1457    0.294118     0.666667        1.000      0.933333   0.377920  0.666667   \n",
       "1458    0.000000     0.444444        0.625      0.766667   0.140166  0.333333   \n",
       "1459    0.000000     0.444444        0.625      0.250000   0.173700  0.333333   \n",
       "\n",
       "      TotRmsAbvGrd  GarageCars  MiscVal  \n",
       "0         0.500000        0.50  0.00000  \n",
       "1         0.333333        0.50  0.00000  \n",
       "2         0.333333        0.50  0.00000  \n",
       "3         0.416667        0.75  0.00000  \n",
       "4         0.583333        0.75  0.00000  \n",
       "...            ...         ...      ...  \n",
       "1455      0.416667        0.50  0.00000  \n",
       "1456      0.416667        0.50  0.00000  \n",
       "1457      0.583333        0.25  0.16129  \n",
       "1458      0.250000        0.25  0.00000  \n",
       "1459      0.333333        0.25  0.00000  \n",
       "\n",
       "[1451 rows x 9 columns]"
      ]
     },
     "execution_count": 12,
     "metadata": {},
     "output_type": "execute_result"
    }
   ],
   "source": [
    "#Normalizamos las variable numéricas\n",
    "def minmax_norm(df):\n",
    "    return (df - df.min()) / ( df.max() - df.min())\n",
    "\n",
    "num_cols=train_df.select_dtypes(exclude=['object'])\n",
    "num_cols=num_cols.columns.to_list()\n",
    "num_cols.remove('SalePrice')\n",
    "train_df[num_cols] = minmax_norm(train_df[num_cols])\n",
    "train_df[num_cols]"
   ]
  },
  {
   "cell_type": "code",
   "execution_count": 13,
   "id": "f992bf63",
   "metadata": {
    "execution": {
     "iopub.execute_input": "2022-06-25T11:46:17.066862Z",
     "iopub.status.busy": "2022-06-25T11:46:17.065748Z",
     "iopub.status.idle": "2022-06-25T11:46:18.369728Z",
     "shell.execute_reply": "2022-06-25T11:46:18.368512Z"
    },
    "papermill": {
     "duration": 1.324115,
     "end_time": "2022-06-25T11:46:18.372984",
     "exception": false,
     "start_time": "2022-06-25T11:46:17.048869",
     "status": "completed"
    },
    "tags": []
   },
   "outputs": [],
   "source": [
    "from sklearn.decomposition import PCA\n",
    "from sklearn.pipeline import make_pipeline\n",
    "# Entrenamiento modelo PCA con escalado de los datos\n",
    "# ==============================================================================\n",
    "pca_pipe = make_pipeline(PCA())\n",
    "pca_pipe.fit(train_df[num_cols])\n",
    "\n",
    "# Se extrae el modelo entrenado del pipeline\n",
    "modelo_pca = pca_pipe.named_steps['pca']"
   ]
  },
  {
   "cell_type": "code",
   "execution_count": 14,
   "id": "5b89d0f9",
   "metadata": {
    "execution": {
     "iopub.execute_input": "2022-06-25T11:46:18.406919Z",
     "iopub.status.busy": "2022-06-25T11:46:18.406225Z",
     "iopub.status.idle": "2022-06-25T11:46:18.427577Z",
     "shell.execute_reply": "2022-06-25T11:46:18.426568Z"
    },
    "papermill": {
     "duration": 0.041888,
     "end_time": "2022-06-25T11:46:18.430416",
     "exception": false,
     "start_time": "2022-06-25T11:46:18.388528",
     "status": "completed"
    },
    "tags": []
   },
   "outputs": [
    {
     "data": {
      "text/html": [
       "<div>\n",
       "<style scoped>\n",
       "    .dataframe tbody tr th:only-of-type {\n",
       "        vertical-align: middle;\n",
       "    }\n",
       "\n",
       "    .dataframe tbody tr th {\n",
       "        vertical-align: top;\n",
       "    }\n",
       "\n",
       "    .dataframe thead th {\n",
       "        text-align: right;\n",
       "    }\n",
       "</style>\n",
       "<table border=\"1\" class=\"dataframe\">\n",
       "  <thead>\n",
       "    <tr style=\"text-align: right;\">\n",
       "      <th></th>\n",
       "      <th>MSSubClass</th>\n",
       "      <th>OverallQual</th>\n",
       "      <th>OverallCond</th>\n",
       "      <th>YearRemodAdd</th>\n",
       "      <th>GrLivArea</th>\n",
       "      <th>FullBath</th>\n",
       "      <th>TotRmsAbvGrd</th>\n",
       "      <th>GarageCars</th>\n",
       "      <th>MiscVal</th>\n",
       "    </tr>\n",
       "  </thead>\n",
       "  <tbody>\n",
       "    <tr>\n",
       "      <th>0</th>\n",
       "      <td>-0.057086</td>\n",
       "      <td>-0.286445</td>\n",
       "      <td>0.006607</td>\n",
       "      <td>-0.833504</td>\n",
       "      <td>-0.130784</td>\n",
       "      <td>-0.307091</td>\n",
       "      <td>-0.139739</td>\n",
       "      <td>-0.298292</td>\n",
       "      <td>0.001516</td>\n",
       "    </tr>\n",
       "    <tr>\n",
       "      <th>1</th>\n",
       "      <td>0.979655</td>\n",
       "      <td>0.002226</td>\n",
       "      <td>-0.067351</td>\n",
       "      <td>-0.110657</td>\n",
       "      <td>0.044947</td>\n",
       "      <td>0.126297</td>\n",
       "      <td>0.049899</td>\n",
       "      <td>-0.055019</td>\n",
       "      <td>-0.000985</td>\n",
       "    </tr>\n",
       "    <tr>\n",
       "      <th>2</th>\n",
       "      <td>0.138499</td>\n",
       "      <td>-0.252280</td>\n",
       "      <td>0.251395</td>\n",
       "      <td>0.502777</td>\n",
       "      <td>-0.277908</td>\n",
       "      <td>-0.435326</td>\n",
       "      <td>-0.381021</td>\n",
       "      <td>-0.435037</td>\n",
       "      <td>0.003509</td>\n",
       "    </tr>\n",
       "    <tr>\n",
       "      <th>3</th>\n",
       "      <td>-0.076017</td>\n",
       "      <td>-0.043697</td>\n",
       "      <td>0.523225</td>\n",
       "      <td>-0.004938</td>\n",
       "      <td>0.240881</td>\n",
       "      <td>0.350535</td>\n",
       "      <td>0.436419</td>\n",
       "      <td>-0.588948</td>\n",
       "      <td>0.017410</td>\n",
       "    </tr>\n",
       "    <tr>\n",
       "      <th>4</th>\n",
       "      <td>0.106423</td>\n",
       "      <td>0.196077</td>\n",
       "      <td>0.734819</td>\n",
       "      <td>-0.121414</td>\n",
       "      <td>0.074764</td>\n",
       "      <td>-0.391056</td>\n",
       "      <td>0.077003</td>\n",
       "      <td>0.480656</td>\n",
       "      <td>0.007300</td>\n",
       "    </tr>\n",
       "    <tr>\n",
       "      <th>5</th>\n",
       "      <td>0.015464</td>\n",
       "      <td>0.405558</td>\n",
       "      <td>-0.329903</td>\n",
       "      <td>0.068335</td>\n",
       "      <td>0.260641</td>\n",
       "      <td>-0.625154</td>\n",
       "      <td>0.438126</td>\n",
       "      <td>-0.266592</td>\n",
       "      <td>-0.000688</td>\n",
       "    </tr>\n",
       "    <tr>\n",
       "      <th>6</th>\n",
       "      <td>0.019613</td>\n",
       "      <td>-0.792708</td>\n",
       "      <td>-0.096459</td>\n",
       "      <td>0.143619</td>\n",
       "      <td>0.115043</td>\n",
       "      <td>-0.177916</td>\n",
       "      <td>0.476225</td>\n",
       "      <td>0.263701</td>\n",
       "      <td>0.009029</td>\n",
       "    </tr>\n",
       "    <tr>\n",
       "      <th>7</th>\n",
       "      <td>-0.010289</td>\n",
       "      <td>-0.145174</td>\n",
       "      <td>-0.011095</td>\n",
       "      <td>0.013364</td>\n",
       "      <td>0.870571</td>\n",
       "      <td>-0.044288</td>\n",
       "      <td>-0.465615</td>\n",
       "      <td>-0.014396</td>\n",
       "      <td>-0.040716</td>\n",
       "    </tr>\n",
       "    <tr>\n",
       "      <th>8</th>\n",
       "      <td>0.000527</td>\n",
       "      <td>0.002179</td>\n",
       "      <td>-0.015256</td>\n",
       "      <td>-0.000343</td>\n",
       "      <td>0.031097</td>\n",
       "      <td>-0.001760</td>\n",
       "      <td>-0.029550</td>\n",
       "      <td>0.005525</td>\n",
       "      <td>0.998944</td>\n",
       "    </tr>\n",
       "  </tbody>\n",
       "</table>\n",
       "</div>"
      ],
      "text/plain": [
       "   MSSubClass  OverallQual  OverallCond  YearRemodAdd  GrLivArea  FullBath  \\\n",
       "0   -0.057086    -0.286445     0.006607     -0.833504  -0.130784 -0.307091   \n",
       "1    0.979655     0.002226    -0.067351     -0.110657   0.044947  0.126297   \n",
       "2    0.138499    -0.252280     0.251395      0.502777  -0.277908 -0.435326   \n",
       "3   -0.076017    -0.043697     0.523225     -0.004938   0.240881  0.350535   \n",
       "4    0.106423     0.196077     0.734819     -0.121414   0.074764 -0.391056   \n",
       "5    0.015464     0.405558    -0.329903      0.068335   0.260641 -0.625154   \n",
       "6    0.019613    -0.792708    -0.096459      0.143619   0.115043 -0.177916   \n",
       "7   -0.010289    -0.145174    -0.011095      0.013364   0.870571 -0.044288   \n",
       "8    0.000527     0.002179    -0.015256     -0.000343   0.031097 -0.001760   \n",
       "\n",
       "   TotRmsAbvGrd  GarageCars   MiscVal  \n",
       "0     -0.139739   -0.298292  0.001516  \n",
       "1      0.049899   -0.055019 -0.000985  \n",
       "2     -0.381021   -0.435037  0.003509  \n",
       "3      0.436419   -0.588948  0.017410  \n",
       "4      0.077003    0.480656  0.007300  \n",
       "5      0.438126   -0.266592 -0.000688  \n",
       "6      0.476225    0.263701  0.009029  \n",
       "7     -0.465615   -0.014396 -0.040716  \n",
       "8     -0.029550    0.005525  0.998944  "
      ]
     },
     "execution_count": 14,
     "metadata": {},
     "output_type": "execute_result"
    }
   ],
   "source": [
    "pd.DataFrame(\n",
    "    data    = modelo_pca.components_,\n",
    "    columns = train_df[num_cols].columns\n",
    ")"
   ]
  },
  {
   "cell_type": "code",
   "execution_count": 15,
   "id": "2a991239",
   "metadata": {
    "execution": {
     "iopub.execute_input": "2022-06-25T11:46:18.464814Z",
     "iopub.status.busy": "2022-06-25T11:46:18.464405Z",
     "iopub.status.idle": "2022-06-25T11:46:18.469755Z",
     "shell.execute_reply": "2022-06-25T11:46:18.468462Z"
    },
    "papermill": {
     "duration": 0.025257,
     "end_time": "2022-06-25T11:46:18.472390",
     "exception": false,
     "start_time": "2022-06-25T11:46:18.447133",
     "status": "completed"
    },
    "tags": []
   },
   "outputs": [],
   "source": [
    "import matplotlib.pyplot as plt\n",
    "import matplotlib.font_manager\n",
    "from matplotlib import style"
   ]
  },
  {
   "cell_type": "code",
   "execution_count": 16,
   "id": "32a80725",
   "metadata": {
    "execution": {
     "iopub.execute_input": "2022-06-25T11:46:18.507140Z",
     "iopub.status.busy": "2022-06-25T11:46:18.506302Z",
     "iopub.status.idle": "2022-06-25T11:46:18.778469Z",
     "shell.execute_reply": "2022-06-25T11:46:18.777144Z"
    },
    "papermill": {
     "duration": 0.292315,
     "end_time": "2022-06-25T11:46:18.781047",
     "exception": false,
     "start_time": "2022-06-25T11:46:18.488732",
     "status": "completed"
    },
    "tags": []
   },
   "outputs": [
    {
     "name": "stdout",
     "output_type": "stream",
     "text": [
      "------------------------------------------\n",
      "Porcentaje de varianza explicada acumulada\n",
      "------------------------------------------\n",
      "[0.4718856  0.66755337 0.81348341 0.87763859 0.93105835 0.96296426\n",
      " 0.99123986 0.99682255 1.        ]\n"
     ]
    },
    {
     "data": {
      "image/png": "[encoded data removed]",
      "text/plain": [
       "<Figure size 432x288 with 1 Axes>"
      ]
     },
     "metadata": {
      "needs_background": "light"
     },
     "output_type": "display_data"
    }
   ],
   "source": [
    "# Porcentaje de varianza explicada acumulada\n",
    "# ==============================================================================\n",
    "prop_varianza_acum = modelo_pca.explained_variance_ratio_.cumsum()\n",
    "print('------------------------------------------')\n",
    "print('Porcentaje de varianza explicada acumulada')\n",
    "print('------------------------------------------')\n",
    "print(prop_varianza_acum)\n",
    "\n",
    "fig, ax = plt.subplots(nrows=1, ncols=1, figsize=(6, 4))\n",
    "ax.plot(\n",
    "    np.arange(len(train_df[num_cols].columns)) + 1,\n",
    "    prop_varianza_acum,\n",
    "    marker = 'o'\n",
    ")\n",
    "\n",
    "for x, y in zip(np.arange(len(train_df[num_cols].columns)) + 1, prop_varianza_acum):\n",
    "    label = round(y, 2)\n",
    "    ax.annotate(\n",
    "        label,\n",
    "        (x,y),\n",
    "        textcoords=\"offset points\",\n",
    "        xytext=(0,10),\n",
    "        ha='center'\n",
    "    )\n",
    "    \n",
    "ax.set_ylim(0, 1.1)\n",
    "ax.set_xticks(np.arange(modelo_pca.n_components_) + 1)\n",
    "ax.set_title('Porcentaje de varianza explicada acumulada')\n",
    "ax.set_xlabel('Componente principal')\n",
    "ax.set_ylabel('Por. varianza acumulada');"
   ]
  },
  {
   "cell_type": "code",
   "execution_count": 17,
   "id": "3fecef88",
   "metadata": {
    "execution": {
     "iopub.execute_input": "2022-06-25T11:46:18.815030Z",
     "iopub.status.busy": "2022-06-25T11:46:18.814622Z",
     "iopub.status.idle": "2022-06-25T11:46:18.838135Z",
     "shell.execute_reply": "2022-06-25T11:46:18.836986Z"
    },
    "papermill": {
     "duration": 0.043181,
     "end_time": "2022-06-25T11:46:18.840396",
     "exception": false,
     "start_time": "2022-06-25T11:46:18.797215",
     "status": "completed"
    },
    "tags": []
   },
   "outputs": [
    {
     "data": {
      "text/html": [
       "<div>\n",
       "<style scoped>\n",
       "    .dataframe tbody tr th:only-of-type {\n",
       "        vertical-align: middle;\n",
       "    }\n",
       "\n",
       "    .dataframe tbody tr th {\n",
       "        vertical-align: top;\n",
       "    }\n",
       "\n",
       "    .dataframe thead th {\n",
       "        text-align: right;\n",
       "    }\n",
       "</style>\n",
       "<table border=\"1\" class=\"dataframe\">\n",
       "  <thead>\n",
       "    <tr style=\"text-align: right;\">\n",
       "      <th></th>\n",
       "      <th>PC1</th>\n",
       "      <th>PC2</th>\n",
       "      <th>PC3</th>\n",
       "      <th>PC4</th>\n",
       "      <th>PC5</th>\n",
       "      <th>PC6</th>\n",
       "      <th>PC7</th>\n",
       "      <th>PC8</th>\n",
       "      <th>PC9</th>\n",
       "    </tr>\n",
       "  </thead>\n",
       "  <tbody>\n",
       "    <tr>\n",
       "      <th>0</th>\n",
       "      <td>-0.368159</td>\n",
       "      <td>0.012157</td>\n",
       "      <td>-0.034693</td>\n",
       "      <td>0.034128</td>\n",
       "      <td>-0.085034</td>\n",
       "      <td>0.042701</td>\n",
       "      <td>0.023795</td>\n",
       "      <td>-0.042558</td>\n",
       "      <td>-0.004027</td>\n",
       "    </tr>\n",
       "    <tr>\n",
       "      <th>1</th>\n",
       "      <td>0.088984</td>\n",
       "      <td>-0.206169</td>\n",
       "      <td>-0.084268</td>\n",
       "      <td>0.162234</td>\n",
       "      <td>0.179188</td>\n",
       "      <td>-0.255483</td>\n",
       "      <td>-0.082622</td>\n",
       "      <td>-0.030056</td>\n",
       "      <td>-0.007660</td>\n",
       "    </tr>\n",
       "    <tr>\n",
       "      <th>2</th>\n",
       "      <td>-0.332849</td>\n",
       "      <td>0.006328</td>\n",
       "      <td>0.016451</td>\n",
       "      <td>-0.035077</td>\n",
       "      <td>-0.094774</td>\n",
       "      <td>-0.027727</td>\n",
       "      <td>-0.056322</td>\n",
       "      <td>0.047286</td>\n",
       "      <td>0.001349</td>\n",
       "    </tr>\n",
       "    <tr>\n",
       "      <th>3</th>\n",
       "      <td>0.126174</td>\n",
       "      <td>0.070692</td>\n",
       "      <td>-0.235339</td>\n",
       "      <td>-0.267760</td>\n",
       "      <td>0.232201</td>\n",
       "      <td>0.111597</td>\n",
       "      <td>0.031655</td>\n",
       "      <td>0.000599</td>\n",
       "      <td>0.000664</td>\n",
       "    </tr>\n",
       "    <tr>\n",
       "      <th>4</th>\n",
       "      <td>-0.456552</td>\n",
       "      <td>0.012473</td>\n",
       "      <td>-0.253924</td>\n",
       "      <td>-0.059203</td>\n",
       "      <td>0.076277</td>\n",
       "      <td>0.078171</td>\n",
       "      <td>0.044723</td>\n",
       "      <td>-0.021720</td>\n",
       "      <td>-0.001990</td>\n",
       "    </tr>\n",
       "  </tbody>\n",
       "</table>\n",
       "</div>"
      ],
      "text/plain": [
       "        PC1       PC2       PC3       PC4       PC5       PC6       PC7  \\\n",
       "0 -0.368159  0.012157 -0.034693  0.034128 -0.085034  0.042701  0.023795   \n",
       "1  0.088984 -0.206169 -0.084268  0.162234  0.179188 -0.255483 -0.082622   \n",
       "2 -0.332849  0.006328  0.016451 -0.035077 -0.094774 -0.027727 -0.056322   \n",
       "3  0.126174  0.070692 -0.235339 -0.267760  0.232201  0.111597  0.031655   \n",
       "4 -0.456552  0.012473 -0.253924 -0.059203  0.076277  0.078171  0.044723   \n",
       "\n",
       "        PC8       PC9  \n",
       "0 -0.042558 -0.004027  \n",
       "1 -0.030056 -0.007660  \n",
       "2  0.047286  0.001349  \n",
       "3  0.000599  0.000664  \n",
       "4 -0.021720 -0.001990  "
      ]
     },
     "execution_count": 17,
     "metadata": {},
     "output_type": "execute_result"
    }
   ],
   "source": [
    "# Proyección de las observaciones de entrenamiento\n",
    "# ==============================================================================\n",
    "proyecciones = pca_pipe.transform(X=train_df[num_cols])\n",
    "proyecciones = pd.DataFrame(\n",
    "    proyecciones,\n",
    "    columns = ['PC1', 'PC2', 'PC3', 'PC4','PC5','PC6','PC7','PC8','PC9'],\n",
    "    index   = train_df[num_cols].index\n",
    ")\n",
    "proyecciones.head()"
   ]
  },
  {
   "cell_type": "code",
   "execution_count": 18,
   "id": "ae57d8fe",
   "metadata": {
    "execution": {
     "iopub.execute_input": "2022-06-25T11:46:18.875181Z",
     "iopub.status.busy": "2022-06-25T11:46:18.874763Z",
     "iopub.status.idle": "2022-06-25T11:46:18.883597Z",
     "shell.execute_reply": "2022-06-25T11:46:18.882454Z"
    },
    "papermill": {
     "duration": 0.029066,
     "end_time": "2022-06-25T11:46:18.886020",
     "exception": false,
     "start_time": "2022-06-25T11:46:18.856954",
     "status": "completed"
    },
    "tags": []
   },
   "outputs": [],
   "source": [
    "train_df=pd.concat([train_df, proyecciones], axis=1,)\n"
   ]
  },
  {
   "cell_type": "code",
   "execution_count": 19,
   "id": "7fd26c5d",
   "metadata": {
    "execution": {
     "iopub.execute_input": "2022-06-25T11:46:18.920213Z",
     "iopub.status.busy": "2022-06-25T11:46:18.919772Z",
     "iopub.status.idle": "2022-06-25T11:46:18.931991Z",
     "shell.execute_reply": "2022-06-25T11:46:18.930949Z"
    },
    "papermill": {
     "duration": 0.031898,
     "end_time": "2022-06-25T11:46:18.934250",
     "exception": false,
     "start_time": "2022-06-25T11:46:18.902352",
     "status": "completed"
    },
    "tags": []
   },
   "outputs": [
    {
     "data": {
      "text/plain": [
       "0      -0.368159\n",
       "1       0.088984\n",
       "2      -0.332849\n",
       "3       0.126174\n",
       "4      -0.456552\n",
       "          ...   \n",
       "1455   -0.281459\n",
       "1456   -0.110996\n",
       "1457   -0.362238\n",
       "1458    0.034440\n",
       "1459    0.449053\n",
       "Name: PC1, Length: 1451, dtype: float64"
      ]
     },
     "execution_count": 19,
     "metadata": {},
     "output_type": "execute_result"
    }
   ],
   "source": [
    "train_df=train_df.drop(num_cols,axis=1)\n",
    "train_df['PC1']"
   ]
  },
  {
   "cell_type": "code",
   "execution_count": 20,
   "id": "48404f83",
   "metadata": {
    "execution": {
     "iopub.execute_input": "2022-06-25T11:46:18.968788Z",
     "iopub.status.busy": "2022-06-25T11:46:18.968413Z",
     "iopub.status.idle": "2022-06-25T11:46:18.999585Z",
     "shell.execute_reply": "2022-06-25T11:46:18.998241Z"
    },
    "papermill": {
     "duration": 0.051629,
     "end_time": "2022-06-25T11:46:19.002263",
     "exception": false,
     "start_time": "2022-06-25T11:46:18.950634",
     "status": "completed"
    },
    "tags": []
   },
   "outputs": [
    {
     "data": {
      "text/html": [
       "<div>\n",
       "<style scoped>\n",
       "    .dataframe tbody tr th:only-of-type {\n",
       "        vertical-align: middle;\n",
       "    }\n",
       "\n",
       "    .dataframe tbody tr th {\n",
       "        vertical-align: top;\n",
       "    }\n",
       "\n",
       "    .dataframe thead th {\n",
       "        text-align: right;\n",
       "    }\n",
       "</style>\n",
       "<table border=\"1\" class=\"dataframe\">\n",
       "  <thead>\n",
       "    <tr style=\"text-align: right;\">\n",
       "      <th></th>\n",
       "      <th>MSZoning</th>\n",
       "      <th>LandContour</th>\n",
       "      <th>Utilities</th>\n",
       "      <th>LotConfig</th>\n",
       "      <th>Neighborhood</th>\n",
       "      <th>BldgType</th>\n",
       "      <th>HouseStyle</th>\n",
       "      <th>ExterQual</th>\n",
       "      <th>ExterCond</th>\n",
       "      <th>BsmtCond</th>\n",
       "      <th>...</th>\n",
       "      <th>SalePrice</th>\n",
       "      <th>PC1</th>\n",
       "      <th>PC2</th>\n",
       "      <th>PC3</th>\n",
       "      <th>PC4</th>\n",
       "      <th>PC5</th>\n",
       "      <th>PC6</th>\n",
       "      <th>PC7</th>\n",
       "      <th>PC8</th>\n",
       "      <th>PC9</th>\n",
       "    </tr>\n",
       "  </thead>\n",
       "  <tbody>\n",
       "    <tr>\n",
       "      <th>0</th>\n",
       "      <td>RL</td>\n",
       "      <td>Lvl</td>\n",
       "      <td>AllPub</td>\n",
       "      <td>Inside</td>\n",
       "      <td>CollgCr</td>\n",
       "      <td>1Fam</td>\n",
       "      <td>2Story</td>\n",
       "      <td>Gd</td>\n",
       "      <td>TA</td>\n",
       "      <td>TA</td>\n",
       "      <td>...</td>\n",
       "      <td>208500</td>\n",
       "      <td>-0.368159</td>\n",
       "      <td>0.012157</td>\n",
       "      <td>-0.034693</td>\n",
       "      <td>0.034128</td>\n",
       "      <td>-0.085034</td>\n",
       "      <td>0.042701</td>\n",
       "      <td>0.023795</td>\n",
       "      <td>-0.042558</td>\n",
       "      <td>-0.004027</td>\n",
       "    </tr>\n",
       "    <tr>\n",
       "      <th>1</th>\n",
       "      <td>RL</td>\n",
       "      <td>Lvl</td>\n",
       "      <td>AllPub</td>\n",
       "      <td>FR2</td>\n",
       "      <td>Veenker</td>\n",
       "      <td>1Fam</td>\n",
       "      <td>1Story</td>\n",
       "      <td>TA</td>\n",
       "      <td>TA</td>\n",
       "      <td>TA</td>\n",
       "      <td>...</td>\n",
       "      <td>181500</td>\n",
       "      <td>0.088984</td>\n",
       "      <td>-0.206169</td>\n",
       "      <td>-0.084268</td>\n",
       "      <td>0.162234</td>\n",
       "      <td>0.179188</td>\n",
       "      <td>-0.255483</td>\n",
       "      <td>-0.082622</td>\n",
       "      <td>-0.030056</td>\n",
       "      <td>-0.007660</td>\n",
       "    </tr>\n",
       "    <tr>\n",
       "      <th>2</th>\n",
       "      <td>RL</td>\n",
       "      <td>Lvl</td>\n",
       "      <td>AllPub</td>\n",
       "      <td>Inside</td>\n",
       "      <td>CollgCr</td>\n",
       "      <td>1Fam</td>\n",
       "      <td>2Story</td>\n",
       "      <td>Gd</td>\n",
       "      <td>TA</td>\n",
       "      <td>TA</td>\n",
       "      <td>...</td>\n",
       "      <td>223500</td>\n",
       "      <td>-0.332849</td>\n",
       "      <td>0.006328</td>\n",
       "      <td>0.016451</td>\n",
       "      <td>-0.035077</td>\n",
       "      <td>-0.094774</td>\n",
       "      <td>-0.027727</td>\n",
       "      <td>-0.056322</td>\n",
       "      <td>0.047286</td>\n",
       "      <td>0.001349</td>\n",
       "    </tr>\n",
       "    <tr>\n",
       "      <th>3</th>\n",
       "      <td>RL</td>\n",
       "      <td>Lvl</td>\n",
       "      <td>AllPub</td>\n",
       "      <td>Corner</td>\n",
       "      <td>Crawfor</td>\n",
       "      <td>1Fam</td>\n",
       "      <td>2Story</td>\n",
       "      <td>TA</td>\n",
       "      <td>TA</td>\n",
       "      <td>Gd</td>\n",
       "      <td>...</td>\n",
       "      <td>140000</td>\n",
       "      <td>0.126174</td>\n",
       "      <td>0.070692</td>\n",
       "      <td>-0.235339</td>\n",
       "      <td>-0.267760</td>\n",
       "      <td>0.232201</td>\n",
       "      <td>0.111597</td>\n",
       "      <td>0.031655</td>\n",
       "      <td>0.000599</td>\n",
       "      <td>0.000664</td>\n",
       "    </tr>\n",
       "    <tr>\n",
       "      <th>4</th>\n",
       "      <td>RL</td>\n",
       "      <td>Lvl</td>\n",
       "      <td>AllPub</td>\n",
       "      <td>FR2</td>\n",
       "      <td>NoRidge</td>\n",
       "      <td>1Fam</td>\n",
       "      <td>2Story</td>\n",
       "      <td>Gd</td>\n",
       "      <td>TA</td>\n",
       "      <td>TA</td>\n",
       "      <td>...</td>\n",
       "      <td>250000</td>\n",
       "      <td>-0.456552</td>\n",
       "      <td>0.012473</td>\n",
       "      <td>-0.253924</td>\n",
       "      <td>-0.059203</td>\n",
       "      <td>0.076277</td>\n",
       "      <td>0.078171</td>\n",
       "      <td>0.044723</td>\n",
       "      <td>-0.021720</td>\n",
       "      <td>-0.001990</td>\n",
       "    </tr>\n",
       "    <tr>\n",
       "      <th>...</th>\n",
       "      <td>...</td>\n",
       "      <td>...</td>\n",
       "      <td>...</td>\n",
       "      <td>...</td>\n",
       "      <td>...</td>\n",
       "      <td>...</td>\n",
       "      <td>...</td>\n",
       "      <td>...</td>\n",
       "      <td>...</td>\n",
       "      <td>...</td>\n",
       "      <td>...</td>\n",
       "      <td>...</td>\n",
       "      <td>...</td>\n",
       "      <td>...</td>\n",
       "      <td>...</td>\n",
       "      <td>...</td>\n",
       "      <td>...</td>\n",
       "      <td>...</td>\n",
       "      <td>...</td>\n",
       "      <td>...</td>\n",
       "      <td>...</td>\n",
       "    </tr>\n",
       "    <tr>\n",
       "      <th>1455</th>\n",
       "      <td>RL</td>\n",
       "      <td>Lvl</td>\n",
       "      <td>AllPub</td>\n",
       "      <td>Inside</td>\n",
       "      <td>Gilbert</td>\n",
       "      <td>1Fam</td>\n",
       "      <td>2Story</td>\n",
       "      <td>TA</td>\n",
       "      <td>TA</td>\n",
       "      <td>TA</td>\n",
       "      <td>...</td>\n",
       "      <td>175000</td>\n",
       "      <td>-0.281459</td>\n",
       "      <td>0.012751</td>\n",
       "      <td>0.003249</td>\n",
       "      <td>0.000003</td>\n",
       "      <td>-0.108054</td>\n",
       "      <td>-0.045382</td>\n",
       "      <td>0.063642</td>\n",
       "      <td>0.001372</td>\n",
       "      <td>-0.002159</td>\n",
       "    </tr>\n",
       "    <tr>\n",
       "      <th>1456</th>\n",
       "      <td>RL</td>\n",
       "      <td>Lvl</td>\n",
       "      <td>AllPub</td>\n",
       "      <td>Inside</td>\n",
       "      <td>NWAmes</td>\n",
       "      <td>1Fam</td>\n",
       "      <td>1Story</td>\n",
       "      <td>TA</td>\n",
       "      <td>TA</td>\n",
       "      <td>TA</td>\n",
       "      <td>...</td>\n",
       "      <td>210000</td>\n",
       "      <td>-0.110996</td>\n",
       "      <td>-0.200437</td>\n",
       "      <td>-0.120774</td>\n",
       "      <td>0.103612</td>\n",
       "      <td>-0.010959</td>\n",
       "      <td>-0.083007</td>\n",
       "      <td>0.027479</td>\n",
       "      <td>0.069602</td>\n",
       "      <td>-0.001625</td>\n",
       "    </tr>\n",
       "    <tr>\n",
       "      <th>1457</th>\n",
       "      <td>RL</td>\n",
       "      <td>Lvl</td>\n",
       "      <td>AllPub</td>\n",
       "      <td>Inside</td>\n",
       "      <td>Crawfor</td>\n",
       "      <td>1Fam</td>\n",
       "      <td>2Story</td>\n",
       "      <td>Ex</td>\n",
       "      <td>Gd</td>\n",
       "      <td>Gd</td>\n",
       "      <td>...</td>\n",
       "      <td>266500</td>\n",
       "      <td>-0.362238</td>\n",
       "      <td>0.053664</td>\n",
       "      <td>0.168879</td>\n",
       "      <td>0.506025</td>\n",
       "      <td>0.178869</td>\n",
       "      <td>0.016058</td>\n",
       "      <td>-0.027229</td>\n",
       "      <td>0.013515</td>\n",
       "      <td>0.149326</td>\n",
       "    </tr>\n",
       "    <tr>\n",
       "      <th>1458</th>\n",
       "      <td>RL</td>\n",
       "      <td>Lvl</td>\n",
       "      <td>AllPub</td>\n",
       "      <td>Inside</td>\n",
       "      <td>NAmes</td>\n",
       "      <td>1Fam</td>\n",
       "      <td>1Story</td>\n",
       "      <td>TA</td>\n",
       "      <td>TA</td>\n",
       "      <td>TA</td>\n",
       "      <td>...</td>\n",
       "      <td>142125</td>\n",
       "      <td>0.034440</td>\n",
       "      <td>-0.260524</td>\n",
       "      <td>0.343760</td>\n",
       "      <td>0.020311</td>\n",
       "      <td>-0.065595</td>\n",
       "      <td>0.034196</td>\n",
       "      <td>0.027151</td>\n",
       "      <td>0.020288</td>\n",
       "      <td>-0.003612</td>\n",
       "    </tr>\n",
       "    <tr>\n",
       "      <th>1459</th>\n",
       "      <td>RL</td>\n",
       "      <td>Lvl</td>\n",
       "      <td>AllPub</td>\n",
       "      <td>Inside</td>\n",
       "      <td>Edwards</td>\n",
       "      <td>1Fam</td>\n",
       "      <td>1Story</td>\n",
       "      <td>Gd</td>\n",
       "      <td>TA</td>\n",
       "      <td>TA</td>\n",
       "      <td>...</td>\n",
       "      <td>147500</td>\n",
       "      <td>0.449053</td>\n",
       "      <td>-0.197686</td>\n",
       "      <td>0.042921</td>\n",
       "      <td>0.067308</td>\n",
       "      <td>0.006060</td>\n",
       "      <td>0.044141</td>\n",
       "      <td>-0.003509</td>\n",
       "      <td>0.003776</td>\n",
       "      <td>-0.004855</td>\n",
       "    </tr>\n",
       "  </tbody>\n",
       "</table>\n",
       "<p>1451 rows × 30 columns</p>\n",
       "</div>"
      ],
      "text/plain": [
       "     MSZoning LandContour Utilities LotConfig Neighborhood BldgType  \\\n",
       "0          RL         Lvl    AllPub    Inside      CollgCr     1Fam   \n",
       "1          RL         Lvl    AllPub       FR2      Veenker     1Fam   \n",
       "2          RL         Lvl    AllPub    Inside      CollgCr     1Fam   \n",
       "3          RL         Lvl    AllPub    Corner      Crawfor     1Fam   \n",
       "4          RL         Lvl    AllPub       FR2      NoRidge     1Fam   \n",
       "...       ...         ...       ...       ...          ...      ...   \n",
       "1455       RL         Lvl    AllPub    Inside      Gilbert     1Fam   \n",
       "1456       RL         Lvl    AllPub    Inside       NWAmes     1Fam   \n",
       "1457       RL         Lvl    AllPub    Inside      Crawfor     1Fam   \n",
       "1458       RL         Lvl    AllPub    Inside        NAmes     1Fam   \n",
       "1459       RL         Lvl    AllPub    Inside      Edwards     1Fam   \n",
       "\n",
       "     HouseStyle ExterQual ExterCond BsmtCond  ... SalePrice       PC1  \\\n",
       "0        2Story        Gd        TA       TA  ...    208500 -0.368159   \n",
       "1        1Story        TA        TA       TA  ...    181500  0.088984   \n",
       "2        2Story        Gd        TA       TA  ...    223500 -0.332849   \n",
       "3        2Story        TA        TA       Gd  ...    140000  0.126174   \n",
       "4        2Story        Gd        TA       TA  ...    250000 -0.456552   \n",
       "...         ...       ...       ...      ...  ...       ...       ...   \n",
       "1455     2Story        TA        TA       TA  ...    175000 -0.281459   \n",
       "1456     1Story        TA        TA       TA  ...    210000 -0.110996   \n",
       "1457     2Story        Ex        Gd       Gd  ...    266500 -0.362238   \n",
       "1458     1Story        TA        TA       TA  ...    142125  0.034440   \n",
       "1459     1Story        Gd        TA       TA  ...    147500  0.449053   \n",
       "\n",
       "           PC2       PC3       PC4       PC5       PC6       PC7       PC8  \\\n",
       "0     0.012157 -0.034693  0.034128 -0.085034  0.042701  0.023795 -0.042558   \n",
       "1    -0.206169 -0.084268  0.162234  0.179188 -0.255483 -0.082622 -0.030056   \n",
       "2     0.006328  0.016451 -0.035077 -0.094774 -0.027727 -0.056322  0.047286   \n",
       "3     0.070692 -0.235339 -0.267760  0.232201  0.111597  0.031655  0.000599   \n",
       "4     0.012473 -0.253924 -0.059203  0.076277  0.078171  0.044723 -0.021720   \n",
       "...        ...       ...       ...       ...       ...       ...       ...   \n",
       "1455  0.012751  0.003249  0.000003 -0.108054 -0.045382  0.063642  0.001372   \n",
       "1456 -0.200437 -0.120774  0.103612 -0.010959 -0.083007  0.027479  0.069602   \n",
       "1457  0.053664  0.168879  0.506025  0.178869  0.016058 -0.027229  0.013515   \n",
       "1458 -0.260524  0.343760  0.020311 -0.065595  0.034196  0.027151  0.020288   \n",
       "1459 -0.197686  0.042921  0.067308  0.006060  0.044141 -0.003509  0.003776   \n",
       "\n",
       "           PC9  \n",
       "0    -0.004027  \n",
       "1    -0.007660  \n",
       "2     0.001349  \n",
       "3     0.000664  \n",
       "4    -0.001990  \n",
       "...        ...  \n",
       "1455 -0.002159  \n",
       "1456 -0.001625  \n",
       "1457  0.149326  \n",
       "1458 -0.003612  \n",
       "1459 -0.004855  \n",
       "\n",
       "[1451 rows x 30 columns]"
      ]
     },
     "execution_count": 20,
     "metadata": {},
     "output_type": "execute_result"
    }
   ],
   "source": [
    "train_df"
   ]
  },
  {
   "cell_type": "markdown",
   "id": "7ad99500",
   "metadata": {
    "papermill": {
     "duration": 0.016778,
     "end_time": "2022-06-25T11:46:19.036478",
     "exception": false,
     "start_time": "2022-06-25T11:46:19.019700",
     "status": "completed"
    },
    "tags": []
   },
   "source": [
    "### Enoding V. Categóricas"
   ]
  },
  {
   "cell_type": "code",
   "execution_count": 21,
   "id": "5410b6c2",
   "metadata": {
    "execution": {
     "iopub.execute_input": "2022-06-25T11:46:19.072668Z",
     "iopub.status.busy": "2022-06-25T11:46:19.071783Z",
     "iopub.status.idle": "2022-06-25T11:46:19.079884Z",
     "shell.execute_reply": "2022-06-25T11:46:19.079118Z"
    },
    "papermill": {
     "duration": 0.028573,
     "end_time": "2022-06-25T11:46:19.081933",
     "exception": false,
     "start_time": "2022-06-25T11:46:19.053360",
     "status": "completed"
    },
    "tags": []
   },
   "outputs": [
    {
     "data": {
      "text/plain": [
       "NonHave    1170\n",
       "MnPrv       157\n",
       "GdPrv        59\n",
       "GdWo         54\n",
       "MnWw         11\n",
       "Name: Fence, dtype: int64"
      ]
     },
     "execution_count": 21,
     "metadata": {},
     "output_type": "execute_result"
    }
   ],
   "source": [
    "train_df['Fence'].value_counts()"
   ]
  },
  {
   "cell_type": "code",
   "execution_count": 22,
   "id": "5c8e4223",
   "metadata": {
    "execution": {
     "iopub.execute_input": "2022-06-25T11:46:19.118311Z",
     "iopub.status.busy": "2022-06-25T11:46:19.117375Z",
     "iopub.status.idle": "2022-06-25T11:46:19.127286Z",
     "shell.execute_reply": "2022-06-25T11:46:19.126300Z"
    },
    "papermill": {
     "duration": 0.030528,
     "end_time": "2022-06-25T11:46:19.129634",
     "exception": false,
     "start_time": "2022-06-25T11:46:19.099106",
     "status": "completed"
    },
    "tags": []
   },
   "outputs": [],
   "source": [
    "train_df['BsmtCond']=train_df['BsmtCond'].replace(0,'NonHave')\n",
    "train_df['FireplaceQu']=train_df['FireplaceQu'].replace(0,'NonHave')\n",
    "train_df['GarageCond']=train_df['GarageCond'].replace(0,'NonHave')"
   ]
  },
  {
   "cell_type": "code",
   "execution_count": 23,
   "id": "4622abac",
   "metadata": {
    "execution": {
     "iopub.execute_input": "2022-06-25T11:46:19.167202Z",
     "iopub.status.busy": "2022-06-25T11:46:19.166371Z",
     "iopub.status.idle": "2022-06-25T11:46:19.177836Z",
     "shell.execute_reply": "2022-06-25T11:46:19.176761Z"
    },
    "papermill": {
     "duration": 0.03344,
     "end_time": "2022-06-25T11:46:19.180279",
     "exception": false,
     "start_time": "2022-06-25T11:46:19.146839",
     "status": "completed"
    },
    "tags": []
   },
   "outputs": [
    {
     "data": {
      "text/plain": [
       "['MSZoning',\n",
       " 'LandContour',\n",
       " 'LotConfig',\n",
       " 'Neighborhood',\n",
       " 'BldgType',\n",
       " 'HouseStyle',\n",
       " 'ExterCond',\n",
       " 'Heating',\n",
       " 'CentralAir',\n",
       " 'Electrical',\n",
       " 'SaleType',\n",
       " 'SaleCondition']"
      ]
     },
     "execution_count": 23,
     "metadata": {},
     "output_type": "execute_result"
    }
   ],
   "source": [
    "object_cols=train_df.select_dtypes(include=['object'])\n",
    "object_cols=object_cols.columns.to_list()\n",
    "ordinal_cols=['Utilities','ExterQual','BsmtCond','HeatingQC','KitchenQual','FireplaceQu',\n",
    "              'GarageCond','Fence']\n",
    "object_cols = [i for i in object_cols if i not in ordinal_cols]\n",
    "object_cols"
   ]
  },
  {
   "cell_type": "code",
   "execution_count": 24,
   "id": "a3732407",
   "metadata": {
    "execution": {
     "iopub.execute_input": "2022-06-25T11:46:19.217181Z",
     "iopub.status.busy": "2022-06-25T11:46:19.216404Z",
     "iopub.status.idle": "2022-06-25T11:46:19.232202Z",
     "shell.execute_reply": "2022-06-25T11:46:19.231230Z"
    },
    "papermill": {
     "duration": 0.037304,
     "end_time": "2022-06-25T11:46:19.234795",
     "exception": false,
     "start_time": "2022-06-25T11:46:19.197491",
     "status": "completed"
    },
    "tags": []
   },
   "outputs": [],
   "source": [
    "# Codificación lineal\n",
    "from sklearn.preprocessing import OrdinalEncoder\n",
    "ordinal_encoder = OrdinalEncoder()\n",
    "train_df[ordinal_cols] = ordinal_encoder.fit_transform(train_df[ordinal_cols])"
   ]
  },
  {
   "cell_type": "code",
   "execution_count": 25,
   "id": "59eb2fb9",
   "metadata": {
    "execution": {
     "iopub.execute_input": "2022-06-25T11:46:19.271879Z",
     "iopub.status.busy": "2022-06-25T11:46:19.271038Z",
     "iopub.status.idle": "2022-06-25T11:46:19.290212Z",
     "shell.execute_reply": "2022-06-25T11:46:19.289280Z"
    },
    "papermill": {
     "duration": 0.040733,
     "end_time": "2022-06-25T11:46:19.292786",
     "exception": false,
     "start_time": "2022-06-25T11:46:19.252053",
     "status": "completed"
    },
    "tags": []
   },
   "outputs": [],
   "source": [
    "# ONE HOT Encoding\n",
    "train_df=pd.get_dummies(data=train_df, columns=object_cols)"
   ]
  },
  {
   "cell_type": "code",
   "execution_count": 26,
   "id": "e62306cb",
   "metadata": {
    "execution": {
     "iopub.execute_input": "2022-06-25T11:46:19.329886Z",
     "iopub.status.busy": "2022-06-25T11:46:19.329086Z",
     "iopub.status.idle": "2022-06-25T11:46:19.355312Z",
     "shell.execute_reply": "2022-06-25T11:46:19.354160Z"
    },
    "papermill": {
     "duration": 0.047829,
     "end_time": "2022-06-25T11:46:19.357834",
     "exception": false,
     "start_time": "2022-06-25T11:46:19.310005",
     "status": "completed"
    },
    "tags": []
   },
   "outputs": [
    {
     "data": {
      "text/html": [
       "<div>\n",
       "<style scoped>\n",
       "    .dataframe tbody tr th:only-of-type {\n",
       "        vertical-align: middle;\n",
       "    }\n",
       "\n",
       "    .dataframe tbody tr th {\n",
       "        vertical-align: top;\n",
       "    }\n",
       "\n",
       "    .dataframe thead th {\n",
       "        text-align: right;\n",
       "    }\n",
       "</style>\n",
       "<table border=\"1\" class=\"dataframe\">\n",
       "  <thead>\n",
       "    <tr style=\"text-align: right;\">\n",
       "      <th></th>\n",
       "      <th>Utilities</th>\n",
       "      <th>ExterQual</th>\n",
       "      <th>BsmtCond</th>\n",
       "      <th>HeatingQC</th>\n",
       "      <th>KitchenQual</th>\n",
       "      <th>FireplaceQu</th>\n",
       "      <th>GarageCond</th>\n",
       "      <th>Fence</th>\n",
       "      <th>SalePrice</th>\n",
       "      <th>PC1</th>\n",
       "      <th>...</th>\n",
       "      <th>SaleType_ConLw</th>\n",
       "      <th>SaleType_New</th>\n",
       "      <th>SaleType_Oth</th>\n",
       "      <th>SaleType_WD</th>\n",
       "      <th>SaleCondition_Abnorml</th>\n",
       "      <th>SaleCondition_AdjLand</th>\n",
       "      <th>SaleCondition_Alloca</th>\n",
       "      <th>SaleCondition_Family</th>\n",
       "      <th>SaleCondition_Normal</th>\n",
       "      <th>SaleCondition_Partial</th>\n",
       "    </tr>\n",
       "  </thead>\n",
       "  <tbody>\n",
       "    <tr>\n",
       "      <th>0</th>\n",
       "      <td>0.0</td>\n",
       "      <td>2.0</td>\n",
       "      <td>4.0</td>\n",
       "      <td>0.0</td>\n",
       "      <td>2.0</td>\n",
       "      <td>3.0</td>\n",
       "      <td>5.0</td>\n",
       "      <td>4.0</td>\n",
       "      <td>208500</td>\n",
       "      <td>-0.368159</td>\n",
       "      <td>...</td>\n",
       "      <td>0</td>\n",
       "      <td>0</td>\n",
       "      <td>0</td>\n",
       "      <td>1</td>\n",
       "      <td>0</td>\n",
       "      <td>0</td>\n",
       "      <td>0</td>\n",
       "      <td>0</td>\n",
       "      <td>1</td>\n",
       "      <td>0</td>\n",
       "    </tr>\n",
       "    <tr>\n",
       "      <th>1</th>\n",
       "      <td>0.0</td>\n",
       "      <td>3.0</td>\n",
       "      <td>4.0</td>\n",
       "      <td>0.0</td>\n",
       "      <td>3.0</td>\n",
       "      <td>5.0</td>\n",
       "      <td>5.0</td>\n",
       "      <td>4.0</td>\n",
       "      <td>181500</td>\n",
       "      <td>0.088984</td>\n",
       "      <td>...</td>\n",
       "      <td>0</td>\n",
       "      <td>0</td>\n",
       "      <td>0</td>\n",
       "      <td>1</td>\n",
       "      <td>0</td>\n",
       "      <td>0</td>\n",
       "      <td>0</td>\n",
       "      <td>0</td>\n",
       "      <td>1</td>\n",
       "      <td>0</td>\n",
       "    </tr>\n",
       "    <tr>\n",
       "      <th>2</th>\n",
       "      <td>0.0</td>\n",
       "      <td>2.0</td>\n",
       "      <td>4.0</td>\n",
       "      <td>0.0</td>\n",
       "      <td>2.0</td>\n",
       "      <td>5.0</td>\n",
       "      <td>5.0</td>\n",
       "      <td>4.0</td>\n",
       "      <td>223500</td>\n",
       "      <td>-0.332849</td>\n",
       "      <td>...</td>\n",
       "      <td>0</td>\n",
       "      <td>0</td>\n",
       "      <td>0</td>\n",
       "      <td>1</td>\n",
       "      <td>0</td>\n",
       "      <td>0</td>\n",
       "      <td>0</td>\n",
       "      <td>0</td>\n",
       "      <td>1</td>\n",
       "      <td>0</td>\n",
       "    </tr>\n",
       "    <tr>\n",
       "      <th>3</th>\n",
       "      <td>0.0</td>\n",
       "      <td>3.0</td>\n",
       "      <td>1.0</td>\n",
       "      <td>2.0</td>\n",
       "      <td>2.0</td>\n",
       "      <td>2.0</td>\n",
       "      <td>5.0</td>\n",
       "      <td>4.0</td>\n",
       "      <td>140000</td>\n",
       "      <td>0.126174</td>\n",
       "      <td>...</td>\n",
       "      <td>0</td>\n",
       "      <td>0</td>\n",
       "      <td>0</td>\n",
       "      <td>1</td>\n",
       "      <td>1</td>\n",
       "      <td>0</td>\n",
       "      <td>0</td>\n",
       "      <td>0</td>\n",
       "      <td>0</td>\n",
       "      <td>0</td>\n",
       "    </tr>\n",
       "    <tr>\n",
       "      <th>4</th>\n",
       "      <td>0.0</td>\n",
       "      <td>2.0</td>\n",
       "      <td>4.0</td>\n",
       "      <td>0.0</td>\n",
       "      <td>2.0</td>\n",
       "      <td>5.0</td>\n",
       "      <td>5.0</td>\n",
       "      <td>4.0</td>\n",
       "      <td>250000</td>\n",
       "      <td>-0.456552</td>\n",
       "      <td>...</td>\n",
       "      <td>0</td>\n",
       "      <td>0</td>\n",
       "      <td>0</td>\n",
       "      <td>1</td>\n",
       "      <td>0</td>\n",
       "      <td>0</td>\n",
       "      <td>0</td>\n",
       "      <td>0</td>\n",
       "      <td>1</td>\n",
       "      <td>0</td>\n",
       "    </tr>\n",
       "  </tbody>\n",
       "</table>\n",
       "<p>5 rows × 103 columns</p>\n",
       "</div>"
      ],
      "text/plain": [
       "   Utilities  ExterQual  BsmtCond  HeatingQC  KitchenQual  FireplaceQu  \\\n",
       "0        0.0        2.0       4.0        0.0          2.0          3.0   \n",
       "1        0.0        3.0       4.0        0.0          3.0          5.0   \n",
       "2        0.0        2.0       4.0        0.0          2.0          5.0   \n",
       "3        0.0        3.0       1.0        2.0          2.0          2.0   \n",
       "4        0.0        2.0       4.0        0.0          2.0          5.0   \n",
       "\n",
       "   GarageCond  Fence  SalePrice       PC1  ...  SaleType_ConLw  SaleType_New  \\\n",
       "0         5.0    4.0     208500 -0.368159  ...               0             0   \n",
       "1         5.0    4.0     181500  0.088984  ...               0             0   \n",
       "2         5.0    4.0     223500 -0.332849  ...               0             0   \n",
       "3         5.0    4.0     140000  0.126174  ...               0             0   \n",
       "4         5.0    4.0     250000 -0.456552  ...               0             0   \n",
       "\n",
       "   SaleType_Oth  SaleType_WD  SaleCondition_Abnorml  SaleCondition_AdjLand  \\\n",
       "0             0            1                      0                      0   \n",
       "1             0            1                      0                      0   \n",
       "2             0            1                      0                      0   \n",
       "3             0            1                      1                      0   \n",
       "4             0            1                      0                      0   \n",
       "\n",
       "   SaleCondition_Alloca  SaleCondition_Family  SaleCondition_Normal  \\\n",
       "0                     0                     0                     1   \n",
       "1                     0                     0                     1   \n",
       "2                     0                     0                     1   \n",
       "3                     0                     0                     0   \n",
       "4                     0                     0                     1   \n",
       "\n",
       "   SaleCondition_Partial  \n",
       "0                      0  \n",
       "1                      0  \n",
       "2                      0  \n",
       "3                      0  \n",
       "4                      0  \n",
       "\n",
       "[5 rows x 103 columns]"
      ]
     },
     "execution_count": 26,
     "metadata": {},
     "output_type": "execute_result"
    }
   ],
   "source": [
    "train_df.head()"
   ]
  },
  {
   "cell_type": "code",
   "execution_count": 27,
   "id": "883c7ebe",
   "metadata": {
    "execution": {
     "iopub.execute_input": "2022-06-25T11:46:19.395084Z",
     "iopub.status.busy": "2022-06-25T11:46:19.394680Z",
     "iopub.status.idle": "2022-06-25T11:46:19.404544Z",
     "shell.execute_reply": "2022-06-25T11:46:19.403343Z"
    },
    "papermill": {
     "duration": 0.03119,
     "end_time": "2022-06-25T11:46:19.406910",
     "exception": false,
     "start_time": "2022-06-25T11:46:19.375720",
     "status": "completed"
    },
    "tags": []
   },
   "outputs": [
    {
     "data": {
      "text/plain": [
       "['Utilities',\n",
       " 'ExterQual',\n",
       " 'BsmtCond',\n",
       " 'HeatingQC',\n",
       " 'KitchenQual',\n",
       " 'FireplaceQu',\n",
       " 'GarageCond',\n",
       " 'Fence',\n",
       " 'PC1',\n",
       " 'PC2',\n",
       " 'PC3',\n",
       " 'PC4',\n",
       " 'PC5',\n",
       " 'PC6',\n",
       " 'PC7',\n",
       " 'PC8',\n",
       " 'MSZoning_C (all)',\n",
       " 'MSZoning_FV',\n",
       " 'MSZoning_RH',\n",
       " 'MSZoning_RL',\n",
       " 'MSZoning_RM',\n",
       " 'LandContour_Bnk',\n",
       " 'LandContour_HLS',\n",
       " 'LandContour_Low',\n",
       " 'LandContour_Lvl',\n",
       " 'LotConfig_Corner',\n",
       " 'LotConfig_CulDSac',\n",
       " 'LotConfig_FR2',\n",
       " 'LotConfig_FR3',\n",
       " 'LotConfig_Inside',\n",
       " 'Neighborhood_Blmngtn',\n",
       " 'Neighborhood_Blueste',\n",
       " 'Neighborhood_BrDale',\n",
       " 'Neighborhood_BrkSide',\n",
       " 'Neighborhood_ClearCr',\n",
       " 'Neighborhood_CollgCr',\n",
       " 'Neighborhood_Crawfor',\n",
       " 'Neighborhood_Edwards',\n",
       " 'Neighborhood_Gilbert',\n",
       " 'Neighborhood_IDOTRR',\n",
       " 'Neighborhood_MeadowV',\n",
       " 'Neighborhood_Mitchel',\n",
       " 'Neighborhood_NAmes',\n",
       " 'Neighborhood_NPkVill',\n",
       " 'Neighborhood_NWAmes',\n",
       " 'Neighborhood_NoRidge',\n",
       " 'Neighborhood_NridgHt',\n",
       " 'Neighborhood_OldTown',\n",
       " 'Neighborhood_SWISU',\n",
       " 'Neighborhood_Sawyer',\n",
       " 'Neighborhood_SawyerW',\n",
       " 'Neighborhood_Somerst',\n",
       " 'Neighborhood_StoneBr',\n",
       " 'Neighborhood_Timber',\n",
       " 'Neighborhood_Veenker',\n",
       " 'BldgType_1Fam',\n",
       " 'BldgType_2fmCon',\n",
       " 'BldgType_Duplex',\n",
       " 'BldgType_Twnhs',\n",
       " 'BldgType_TwnhsE',\n",
       " 'HouseStyle_1.5Fin',\n",
       " 'HouseStyle_1.5Unf',\n",
       " 'HouseStyle_1Story',\n",
       " 'HouseStyle_2.5Fin',\n",
       " 'HouseStyle_2.5Unf',\n",
       " 'HouseStyle_2Story',\n",
       " 'HouseStyle_SFoyer',\n",
       " 'HouseStyle_SLvl',\n",
       " 'ExterCond_Ex',\n",
       " 'ExterCond_Fa',\n",
       " 'ExterCond_Gd',\n",
       " 'ExterCond_Po',\n",
       " 'ExterCond_TA',\n",
       " 'Heating_Floor',\n",
       " 'Heating_GasA',\n",
       " 'Heating_GasW',\n",
       " 'Heating_Grav',\n",
       " 'Heating_OthW',\n",
       " 'Heating_Wall',\n",
       " 'CentralAir_N',\n",
       " 'CentralAir_Y',\n",
       " 'Electrical_FuseA',\n",
       " 'Electrical_FuseF',\n",
       " 'Electrical_FuseP',\n",
       " 'Electrical_Mix',\n",
       " 'Electrical_SBrkr',\n",
       " 'SaleType_COD',\n",
       " 'SaleType_CWD',\n",
       " 'SaleType_Con',\n",
       " 'SaleType_ConLD',\n",
       " 'SaleType_ConLI',\n",
       " 'SaleType_ConLw',\n",
       " 'SaleType_New',\n",
       " 'SaleType_Oth',\n",
       " 'SaleType_WD',\n",
       " 'SaleCondition_Abnorml',\n",
       " 'SaleCondition_AdjLand',\n",
       " 'SaleCondition_Alloca',\n",
       " 'SaleCondition_Family',\n",
       " 'SaleCondition_Normal',\n",
       " 'SaleCondition_Partial']"
      ]
     },
     "execution_count": 27,
     "metadata": {},
     "output_type": "execute_result"
    }
   ],
   "source": [
    "features=train_df.columns.tolist()\n",
    "features.remove('SalePrice')\n",
    "features.remove('PC9')\n",
    "features"
   ]
  },
  {
   "cell_type": "code",
   "execution_count": 28,
   "id": "a98ac347",
   "metadata": {
    "execution": {
     "iopub.execute_input": "2022-06-25T11:46:19.444945Z",
     "iopub.status.busy": "2022-06-25T11:46:19.444144Z",
     "iopub.status.idle": "2022-06-25T11:46:19.455249Z",
     "shell.execute_reply": "2022-06-25T11:46:19.454321Z"
    },
    "papermill": {
     "duration": 0.03303,
     "end_time": "2022-06-25T11:46:19.457794",
     "exception": false,
     "start_time": "2022-06-25T11:46:19.424764",
     "status": "completed"
    },
    "tags": []
   },
   "outputs": [],
   "source": [
    "from sklearn.model_selection import train_test_split\n",
    "X_train, X_test, y_train, y_test = train_test_split(train_df[features], train_df[target], test_size=0.2, random_state=123)"
   ]
  },
  {
   "cell_type": "markdown",
   "id": "f85d0b02",
   "metadata": {
    "papermill": {
     "duration": 0.017764,
     "end_time": "2022-06-25T11:46:19.493383",
     "exception": false,
     "start_time": "2022-06-25T11:46:19.475619",
     "status": "completed"
    },
    "tags": []
   },
   "source": [
    "## Técnicas multiples de regresión "
   ]
  },
  {
   "cell_type": "markdown",
   "id": "c1f13bea",
   "metadata": {
    "papermill": {
     "duration": 0.017623,
     "end_time": "2022-06-25T11:46:19.528974",
     "exception": false,
     "start_time": "2022-06-25T11:46:19.511351",
     "status": "completed"
    },
    "tags": []
   },
   "source": [
    "### Regresión lineal multiple"
   ]
  },
  {
   "cell_type": "code",
   "execution_count": 29,
   "id": "49f31354",
   "metadata": {
    "execution": {
     "iopub.execute_input": "2022-06-25T11:46:19.567719Z",
     "iopub.status.busy": "2022-06-25T11:46:19.566926Z",
     "iopub.status.idle": "2022-06-25T11:46:19.598411Z",
     "shell.execute_reply": "2022-06-25T11:46:19.597192Z"
    },
    "papermill": {
     "duration": 0.055103,
     "end_time": "2022-06-25T11:46:19.601967",
     "exception": false,
     "start_time": "2022-06-25T11:46:19.546864",
     "status": "completed"
    },
    "tags": []
   },
   "outputs": [
    {
     "data": {
      "text/plain": [
       "LinearRegression()"
      ]
     },
     "execution_count": 29,
     "metadata": {},
     "output_type": "execute_result"
    }
   ],
   "source": [
    "from sklearn.linear_model import LinearRegression\n",
    "\n",
    "linearregress = LinearRegression()\n",
    "\n",
    "linearregress.fit(X_train, y_train)"
   ]
  },
  {
   "cell_type": "code",
   "execution_count": 30,
   "id": "4b69528f",
   "metadata": {
    "execution": {
     "iopub.execute_input": "2022-06-25T11:46:19.671135Z",
     "iopub.status.busy": "2022-06-25T11:46:19.670528Z",
     "iopub.status.idle": "2022-06-25T11:46:19.716543Z",
     "shell.execute_reply": "2022-06-25T11:46:19.715029Z"
    },
    "papermill": {
     "duration": 0.085461,
     "end_time": "2022-06-25T11:46:19.720875",
     "exception": false,
     "start_time": "2022-06-25T11:46:19.635414",
     "status": "completed"
    },
    "tags": []
   },
   "outputs": [
    {
     "data": {
      "text/plain": [
       "13808972994806.707"
      ]
     },
     "execution_count": 30,
     "metadata": {},
     "output_type": "execute_result"
    }
   ],
   "source": [
    "from sklearn.metrics import mean_absolute_error\n",
    "\n",
    "predicted_linear = linearregress.predict(X_test)\n",
    "linear_error=mean_absolute_error(y_test, predicted_linear)\n",
    "linear_error"
   ]
  },
  {
   "cell_type": "markdown",
   "id": "5ef6c5e2",
   "metadata": {
    "papermill": {
     "duration": 0.033328,
     "end_time": "2022-06-25T11:46:19.788247",
     "exception": false,
     "start_time": "2022-06-25T11:46:19.754919",
     "status": "completed"
    },
    "tags": []
   },
   "source": [
    "### Árbol de decisión"
   ]
  },
  {
   "cell_type": "code",
   "execution_count": 31,
   "id": "f8b2f1da",
   "metadata": {
    "execution": {
     "iopub.execute_input": "2022-06-25T11:46:19.834196Z",
     "iopub.status.busy": "2022-06-25T11:46:19.833717Z",
     "iopub.status.idle": "2022-06-25T11:46:19.926700Z",
     "shell.execute_reply": "2022-06-25T11:46:19.925587Z"
    },
    "papermill": {
     "duration": 0.115491,
     "end_time": "2022-06-25T11:46:19.929360",
     "exception": false,
     "start_time": "2022-06-25T11:46:19.813869",
     "status": "completed"
    },
    "tags": []
   },
   "outputs": [
    {
     "data": {
      "text/plain": [
       "DecisionTreeRegressor(random_state=123)"
      ]
     },
     "execution_count": 31,
     "metadata": {},
     "output_type": "execute_result"
    }
   ],
   "source": [
    "from sklearn.tree import DecisionTreeRegressor\n",
    "\n",
    "treeregress = DecisionTreeRegressor(random_state=123)\n",
    "\n",
    "treeregress.fit(X_train, y_train)"
   ]
  },
  {
   "cell_type": "code",
   "execution_count": 32,
   "id": "e497293b",
   "metadata": {
    "execution": {
     "iopub.execute_input": "2022-06-25T11:46:19.967635Z",
     "iopub.status.busy": "2022-06-25T11:46:19.966868Z",
     "iopub.status.idle": "2022-06-25T11:46:19.981391Z",
     "shell.execute_reply": "2022-06-25T11:46:19.980314Z"
    },
    "papermill": {
     "duration": 0.036205,
     "end_time": "2022-06-25T11:46:19.983700",
     "exception": false,
     "start_time": "2022-06-25T11:46:19.947495",
     "status": "completed"
    },
    "tags": []
   },
   "outputs": [
    {
     "data": {
      "text/plain": [
       "28880.680412371134"
      ]
     },
     "execution_count": 32,
     "metadata": {},
     "output_type": "execute_result"
    }
   ],
   "source": [
    "from sklearn.metrics import mean_absolute_error\n",
    "\n",
    "predicted_tree = treeregress.predict(X_test)\n",
    "tree_error=mean_absolute_error(y_test, predicted_tree)\n",
    "tree_error"
   ]
  },
  {
   "cell_type": "markdown",
   "id": "ef2f86d4",
   "metadata": {
    "papermill": {
     "duration": 0.017753,
     "end_time": "2022-06-25T11:46:20.019410",
     "exception": false,
     "start_time": "2022-06-25T11:46:20.001657",
     "status": "completed"
    },
    "tags": []
   },
   "source": [
    "### Random Forest"
   ]
  },
  {
   "cell_type": "code",
   "execution_count": 33,
   "id": "4caf5bf1",
   "metadata": {
    "execution": {
     "iopub.execute_input": "2022-06-25T11:46:20.058056Z",
     "iopub.status.busy": "2022-06-25T11:46:20.056804Z",
     "iopub.status.idle": "2022-06-25T11:46:21.389653Z",
     "shell.execute_reply": "2022-06-25T11:46:21.388241Z"
    },
    "papermill": {
     "duration": 1.354734,
     "end_time": "2022-06-25T11:46:21.392257",
     "exception": false,
     "start_time": "2022-06-25T11:46:20.037523",
     "status": "completed"
    },
    "tags": []
   },
   "outputs": [
    {
     "name": "stderr",
     "output_type": "stream",
     "text": [
      "/opt/conda/lib/python3.7/site-packages/ipykernel_launcher.py:4: DataConversionWarning: A column-vector y was passed when a 1d array was expected. Please change the shape of y to (n_samples,), for example using ravel().\n",
      "  after removing the cwd from sys.path.\n"
     ]
    },
    {
     "data": {
      "text/plain": [
       "RandomForestRegressor(random_state=123)"
      ]
     },
     "execution_count": 33,
     "metadata": {},
     "output_type": "execute_result"
    }
   ],
   "source": [
    "from sklearn.ensemble import RandomForestRegressor\n",
    "randomregress = RandomForestRegressor(random_state=123)\n",
    "\n",
    "randomregress.fit(X_train, y_train)"
   ]
  },
  {
   "cell_type": "code",
   "execution_count": 34,
   "id": "beac2a86",
   "metadata": {
    "execution": {
     "iopub.execute_input": "2022-06-25T11:46:21.443226Z",
     "iopub.status.busy": "2022-06-25T11:46:21.442001Z",
     "iopub.status.idle": "2022-06-25T11:46:21.473495Z",
     "shell.execute_reply": "2022-06-25T11:46:21.472108Z"
    },
    "papermill": {
     "duration": 0.065289,
     "end_time": "2022-06-25T11:46:21.476161",
     "exception": false,
     "start_time": "2022-06-25T11:46:21.410872",
     "status": "completed"
    },
    "tags": []
   },
   "outputs": [
    {
     "data": {
      "text/plain": [
       "20695.738555473738"
      ]
     },
     "execution_count": 34,
     "metadata": {},
     "output_type": "execute_result"
    }
   ],
   "source": [
    "predicted_random = randomregress.predict(X_test)\n",
    "random_error=mean_absolute_error(y_test, predicted_random)\n",
    "random_error"
   ]
  },
  {
   "cell_type": "markdown",
   "id": "919d1f5c",
   "metadata": {
    "papermill": {
     "duration": 0.01862,
     "end_time": "2022-06-25T11:46:21.513771",
     "exception": false,
     "start_time": "2022-06-25T11:46:21.495151",
     "status": "completed"
    },
    "tags": []
   },
   "source": [
    "### XG REGRESSOR"
   ]
  },
  {
   "cell_type": "code",
   "execution_count": 35,
   "id": "f88059aa",
   "metadata": {
    "execution": {
     "iopub.execute_input": "2022-06-25T11:46:21.553771Z",
     "iopub.status.busy": "2022-06-25T11:46:21.553325Z",
     "iopub.status.idle": "2022-06-25T11:46:21.662338Z",
     "shell.execute_reply": "2022-06-25T11:46:21.660995Z"
    },
    "papermill": {
     "duration": 0.132578,
     "end_time": "2022-06-25T11:46:21.665353",
     "exception": false,
     "start_time": "2022-06-25T11:46:21.532775",
     "status": "completed"
    },
    "tags": []
   },
   "outputs": [],
   "source": [
    "from xgboost import XGBRegressor\n",
    "from sklearn.model_selection import GridSearchCV, RepeatedKFold\n",
    "import multiprocessing"
   ]
  },
  {
   "cell_type": "code",
   "execution_count": 36,
   "id": "dae70182",
   "metadata": {
    "execution": {
     "iopub.execute_input": "2022-06-25T11:46:21.705261Z",
     "iopub.status.busy": "2022-06-25T11:46:21.704829Z",
     "iopub.status.idle": "2022-06-25T11:49:04.267811Z",
     "shell.execute_reply": "2022-06-25T11:49:04.266410Z"
    },
    "papermill": {
     "duration": 162.586066,
     "end_time": "2022-06-25T11:49:04.270590",
     "exception": false,
     "start_time": "2022-06-25T11:46:21.684524",
     "status": "completed"
    },
    "tags": []
   },
   "outputs": [
    {
     "name": "stderr",
     "output_type": "stream",
     "text": [
      "/opt/conda/lib/python3.7/site-packages/xgboost/sklearn.py:797: UserWarning: `eval_metric` in `fit` method is deprecated for better compatibility with scikit-learn, use `eval_metric` in constructor or`set_params` instead.\n",
      "  UserWarning,\n",
      "/opt/conda/lib/python3.7/site-packages/xgboost/sklearn.py:797: UserWarning: `early_stopping_rounds` in `fit` method is deprecated for better compatibility with scikit-learn, use `early_stopping_rounds` in constructor or`set_params` instead.\n",
      "  UserWarning,\n",
      "/opt/conda/lib/python3.7/site-packages/xgboost/sklearn.py:797: UserWarning: `eval_metric` in `fit` method is deprecated for better compatibility with scikit-learn, use `eval_metric` in constructor or`set_params` instead.\n",
      "  UserWarning,\n",
      "/opt/conda/lib/python3.7/site-packages/xgboost/sklearn.py:797: UserWarning: `early_stopping_rounds` in `fit` method is deprecated for better compatibility with scikit-learn, use `early_stopping_rounds` in constructor or`set_params` instead.\n",
      "  UserWarning,\n",
      "/opt/conda/lib/python3.7/site-packages/xgboost/sklearn.py:797: UserWarning: `eval_metric` in `fit` method is deprecated for better compatibility with scikit-learn, use `eval_metric` in constructor or`set_params` instead.\n",
      "  UserWarning,\n",
      "/opt/conda/lib/python3.7/site-packages/xgboost/sklearn.py:797: UserWarning: `early_stopping_rounds` in `fit` method is deprecated for better compatibility with scikit-learn, use `early_stopping_rounds` in constructor or`set_params` instead.\n",
      "  UserWarning,\n",
      "/opt/conda/lib/python3.7/site-packages/xgboost/sklearn.py:797: UserWarning: `eval_metric` in `fit` method is deprecated for better compatibility with scikit-learn, use `eval_metric` in constructor or`set_params` instead.\n",
      "  UserWarning,\n",
      "/opt/conda/lib/python3.7/site-packages/xgboost/sklearn.py:797: UserWarning: `early_stopping_rounds` in `fit` method is deprecated for better compatibility with scikit-learn, use `early_stopping_rounds` in constructor or`set_params` instead.\n",
      "  UserWarning,\n",
      "/opt/conda/lib/python3.7/site-packages/xgboost/sklearn.py:797: UserWarning: `eval_metric` in `fit` method is deprecated for better compatibility with scikit-learn, use `eval_metric` in constructor or`set_params` instead.\n",
      "  UserWarning,\n",
      "/opt/conda/lib/python3.7/site-packages/xgboost/sklearn.py:797: UserWarning: `early_stopping_rounds` in `fit` method is deprecated for better compatibility with scikit-learn, use `early_stopping_rounds` in constructor or`set_params` instead.\n",
      "  UserWarning,\n",
      "/opt/conda/lib/python3.7/site-packages/xgboost/sklearn.py:797: UserWarning: `eval_metric` in `fit` method is deprecated for better compatibility with scikit-learn, use `eval_metric` in constructor or`set_params` instead.\n",
      "  UserWarning,\n",
      "/opt/conda/lib/python3.7/site-packages/xgboost/sklearn.py:797: UserWarning: `early_stopping_rounds` in `fit` method is deprecated for better compatibility with scikit-learn, use `early_stopping_rounds` in constructor or`set_params` instead.\n",
      "  UserWarning,\n",
      "/opt/conda/lib/python3.7/site-packages/xgboost/sklearn.py:797: UserWarning: `eval_metric` in `fit` method is deprecated for better compatibility with scikit-learn, use `eval_metric` in constructor or`set_params` instead.\n",
      "  UserWarning,\n",
      "/opt/conda/lib/python3.7/site-packages/xgboost/sklearn.py:797: UserWarning: `early_stopping_rounds` in `fit` method is deprecated for better compatibility with scikit-learn, use `early_stopping_rounds` in constructor or`set_params` instead.\n",
      "  UserWarning,\n",
      "/opt/conda/lib/python3.7/site-packages/xgboost/sklearn.py:797: UserWarning: `eval_metric` in `fit` method is deprecated for better compatibility with scikit-learn, use `eval_metric` in constructor or`set_params` instead.\n",
      "  UserWarning,\n",
      "/opt/conda/lib/python3.7/site-packages/xgboost/sklearn.py:797: UserWarning: `early_stopping_rounds` in `fit` method is deprecated for better compatibility with scikit-learn, use `early_stopping_rounds` in constructor or`set_params` instead.\n",
      "  UserWarning,\n",
      "/opt/conda/lib/python3.7/site-packages/xgboost/sklearn.py:797: UserWarning: `eval_metric` in `fit` method is deprecated for better compatibility with scikit-learn, use `eval_metric` in constructor or`set_params` instead.\n",
      "  UserWarning,\n",
      "/opt/conda/lib/python3.7/site-packages/xgboost/sklearn.py:797: UserWarning: `early_stopping_rounds` in `fit` method is deprecated for better compatibility with scikit-learn, use `early_stopping_rounds` in constructor or`set_params` instead.\n",
      "  UserWarning,\n",
      "/opt/conda/lib/python3.7/site-packages/xgboost/sklearn.py:797: UserWarning: `eval_metric` in `fit` method is deprecated for better compatibility with scikit-learn, use `eval_metric` in constructor or`set_params` instead.\n",
      "  UserWarning,\n",
      "/opt/conda/lib/python3.7/site-packages/xgboost/sklearn.py:797: UserWarning: `early_stopping_rounds` in `fit` method is deprecated for better compatibility with scikit-learn, use `early_stopping_rounds` in constructor or`set_params` instead.\n",
      "  UserWarning,\n",
      "/opt/conda/lib/python3.7/site-packages/xgboost/sklearn.py:797: UserWarning: `eval_metric` in `fit` method is deprecated for better compatibility with scikit-learn, use `eval_metric` in constructor or`set_params` instead.\n",
      "  UserWarning,\n",
      "/opt/conda/lib/python3.7/site-packages/xgboost/sklearn.py:797: UserWarning: `early_stopping_rounds` in `fit` method is deprecated for better compatibility with scikit-learn, use `early_stopping_rounds` in constructor or`set_params` instead.\n",
      "  UserWarning,\n",
      "/opt/conda/lib/python3.7/site-packages/xgboost/sklearn.py:797: UserWarning: `eval_metric` in `fit` method is deprecated for better compatibility with scikit-learn, use `eval_metric` in constructor or`set_params` instead.\n",
      "  UserWarning,\n",
      "/opt/conda/lib/python3.7/site-packages/xgboost/sklearn.py:797: UserWarning: `early_stopping_rounds` in `fit` method is deprecated for better compatibility with scikit-learn, use `early_stopping_rounds` in constructor or`set_params` instead.\n",
      "  UserWarning,\n",
      "/opt/conda/lib/python3.7/site-packages/xgboost/sklearn.py:797: UserWarning: `eval_metric` in `fit` method is deprecated for better compatibility with scikit-learn, use `eval_metric` in constructor or`set_params` instead.\n",
      "  UserWarning,\n",
      "/opt/conda/lib/python3.7/site-packages/xgboost/sklearn.py:797: UserWarning: `early_stopping_rounds` in `fit` method is deprecated for better compatibility with scikit-learn, use `early_stopping_rounds` in constructor or`set_params` instead.\n",
      "  UserWarning,\n",
      "/opt/conda/lib/python3.7/site-packages/xgboost/sklearn.py:797: UserWarning: `eval_metric` in `fit` method is deprecated for better compatibility with scikit-learn, use `eval_metric` in constructor or`set_params` instead.\n",
      "  UserWarning,\n",
      "/opt/conda/lib/python3.7/site-packages/xgboost/sklearn.py:797: UserWarning: `early_stopping_rounds` in `fit` method is deprecated for better compatibility with scikit-learn, use `early_stopping_rounds` in constructor or`set_params` instead.\n",
      "  UserWarning,\n",
      "/opt/conda/lib/python3.7/site-packages/xgboost/sklearn.py:797: UserWarning: `eval_metric` in `fit` method is deprecated for better compatibility with scikit-learn, use `eval_metric` in constructor or`set_params` instead.\n",
      "  UserWarning,\n",
      "/opt/conda/lib/python3.7/site-packages/xgboost/sklearn.py:797: UserWarning: `early_stopping_rounds` in `fit` method is deprecated for better compatibility with scikit-learn, use `early_stopping_rounds` in constructor or`set_params` instead.\n",
      "  UserWarning,\n",
      "/opt/conda/lib/python3.7/site-packages/xgboost/sklearn.py:797: UserWarning: `eval_metric` in `fit` method is deprecated for better compatibility with scikit-learn, use `eval_metric` in constructor or`set_params` instead.\n",
      "  UserWarning,\n",
      "/opt/conda/lib/python3.7/site-packages/xgboost/sklearn.py:797: UserWarning: `early_stopping_rounds` in `fit` method is deprecated for better compatibility with scikit-learn, use `early_stopping_rounds` in constructor or`set_params` instead.\n",
      "  UserWarning,\n",
      "/opt/conda/lib/python3.7/site-packages/xgboost/sklearn.py:797: UserWarning: `eval_metric` in `fit` method is deprecated for better compatibility with scikit-learn, use `eval_metric` in constructor or`set_params` instead.\n",
      "  UserWarning,\n",
      "/opt/conda/lib/python3.7/site-packages/xgboost/sklearn.py:797: UserWarning: `early_stopping_rounds` in `fit` method is deprecated for better compatibility with scikit-learn, use `early_stopping_rounds` in constructor or`set_params` instead.\n",
      "  UserWarning,\n",
      "/opt/conda/lib/python3.7/site-packages/xgboost/sklearn.py:797: UserWarning: `eval_metric` in `fit` method is deprecated for better compatibility with scikit-learn, use `eval_metric` in constructor or`set_params` instead.\n",
      "  UserWarning,\n",
      "/opt/conda/lib/python3.7/site-packages/xgboost/sklearn.py:797: UserWarning: `early_stopping_rounds` in `fit` method is deprecated for better compatibility with scikit-learn, use `early_stopping_rounds` in constructor or`set_params` instead.\n",
      "  UserWarning,\n"
     ]
    },
    {
     "data": {
      "text/html": [
       "<div>\n",
       "<style scoped>\n",
       "    .dataframe tbody tr th:only-of-type {\n",
       "        vertical-align: middle;\n",
       "    }\n",
       "\n",
       "    .dataframe tbody tr th {\n",
       "        vertical-align: top;\n",
       "    }\n",
       "\n",
       "    .dataframe thead th {\n",
       "        text-align: right;\n",
       "    }\n",
       "</style>\n",
       "<table border=\"1\" class=\"dataframe\">\n",
       "  <thead>\n",
       "    <tr style=\"text-align: right;\">\n",
       "      <th></th>\n",
       "      <th>param_booster</th>\n",
       "      <th>param_learning_rate</th>\n",
       "      <th>param_max_depth</th>\n",
       "      <th>param_subsample</th>\n",
       "      <th>mean_test_score</th>\n",
       "      <th>std_test_score</th>\n",
       "      <th>mean_train_score</th>\n",
       "      <th>std_train_score</th>\n",
       "    </tr>\n",
       "  </thead>\n",
       "  <tbody>\n",
       "    <tr>\n",
       "      <th>2</th>\n",
       "      <td>gbtree</td>\n",
       "      <td>0.01</td>\n",
       "      <td>5</td>\n",
       "      <td>0.5</td>\n",
       "      <td>-19340.720461</td>\n",
       "      <td>822.520351</td>\n",
       "      <td>-9680.194282</td>\n",
       "      <td>1657.377586</td>\n",
       "    </tr>\n",
       "    <tr>\n",
       "      <th>4</th>\n",
       "      <td>gbtree</td>\n",
       "      <td>0.01</td>\n",
       "      <td>10</td>\n",
       "      <td>0.5</td>\n",
       "      <td>-19343.948903</td>\n",
       "      <td>852.668956</td>\n",
       "      <td>-4293.467504</td>\n",
       "      <td>1416.791866</td>\n",
       "    </tr>\n",
       "    <tr>\n",
       "      <th>6</th>\n",
       "      <td>gbtree</td>\n",
       "      <td>0.01</td>\n",
       "      <td>20</td>\n",
       "      <td>0.5</td>\n",
       "      <td>-19439.028936</td>\n",
       "      <td>814.182529</td>\n",
       "      <td>-2578.615704</td>\n",
       "      <td>1611.279401</td>\n",
       "    </tr>\n",
       "    <tr>\n",
       "      <th>9</th>\n",
       "      <td>gbtree</td>\n",
       "      <td>0.1</td>\n",
       "      <td>3</td>\n",
       "      <td>1</td>\n",
       "      <td>-20056.919672</td>\n",
       "      <td>492.541038</td>\n",
       "      <td>-6088.277764</td>\n",
       "      <td>3773.404874</td>\n",
       "    </tr>\n",
       "  </tbody>\n",
       "</table>\n",
       "</div>"
      ],
      "text/plain": [
       "  param_booster param_learning_rate param_max_depth param_subsample  \\\n",
       "2        gbtree                0.01               5             0.5   \n",
       "4        gbtree                0.01              10             0.5   \n",
       "6        gbtree                0.01              20             0.5   \n",
       "9        gbtree                 0.1               3               1   \n",
       "\n",
       "   mean_test_score  std_test_score  mean_train_score  std_train_score  \n",
       "2    -19340.720461      822.520351      -9680.194282      1657.377586  \n",
       "4    -19343.948903      852.668956      -4293.467504      1416.791866  \n",
       "6    -19439.028936      814.182529      -2578.615704      1611.279401  \n",
       "9    -20056.919672      492.541038      -6088.277764      3773.404874  "
      ]
     },
     "execution_count": 36,
     "metadata": {},
     "output_type": "execute_result"
    }
   ],
   "source": [
    "# Grid de hiperparámetros evaluados\n",
    "# ==============================================================================\n",
    "param_grid = {'max_depth'        : [3, 5, 10, 20],\n",
    "              'subsample'        : [0.5, 1],\n",
    "              'learning_rate'    : [0.01, 0.1],\n",
    "              'booster'          : ['gbtree']\n",
    "             }\n",
    "\n",
    "\n",
    "# Crear conjunto de validación\n",
    "# ==============================================================================\n",
    "np.random.seed(123)\n",
    "idx_validacion = np.random.choice(\n",
    "                    X_train.shape[0],\n",
    "                    size= int(X_train.shape[0]*0.1),\n",
    "                    replace=False\n",
    "                 )\n",
    "\n",
    "X_val = X_train.iloc[idx_validacion, :].copy()\n",
    "y_val = y_train.iloc[idx_validacion].copy()\n",
    "\n",
    "X_train_grid = X_train.reset_index(drop = True).drop(idx_validacion, axis = 0).copy()\n",
    "y_train_grid = y_train.reset_index(drop = True).drop(idx_validacion, axis = 0).copy()\n",
    "\n",
    "# XGBoost necesita pasar los paramétros específicos del entrenamiento al llamar\n",
    "# al método .fit()\n",
    "fit_params = {\"early_stopping_rounds\" : 5, \n",
    "              \"eval_metric\"           : \"rmse\", \n",
    "              \"eval_set\"              : [(X_val, y_val)],\n",
    "              \"verbose\"               : 0\n",
    "             }\n",
    "\n",
    "# Búsqueda por grid search con validación cruzada\n",
    "# ==============================================================================\n",
    "grid = GridSearchCV(\n",
    "        estimator  = XGBRegressor(\n",
    "                        n_estimators = 1000,\n",
    "                        random_state = 123\n",
    "                    ),\n",
    "        param_grid = param_grid,\n",
    "        scoring    = 'neg_mean_absolute_error',\n",
    "        n_jobs     = multiprocessing.cpu_count() - 1,\n",
    "        cv         = RepeatedKFold(n_splits=3, n_repeats=1, random_state=123), \n",
    "        refit      = True,\n",
    "        verbose    = 0,\n",
    "        return_train_score = True\n",
    "       )\n",
    "\n",
    "grid.fit(X = X_train, y = y_train, **fit_params)\n",
    "\n",
    "# Resultados\n",
    "# ==============================================================================\n",
    "resultados = pd.DataFrame(grid.cv_results_)\n",
    "resultados.filter(regex = '(param.*|mean_t|std_t)') \\\n",
    "    .drop(columns = 'params') \\\n",
    "    .sort_values('mean_test_score', ascending = False) \\\n",
    "    .head(4)"
   ]
  },
  {
   "cell_type": "code",
   "execution_count": 37,
   "id": "c5332981",
   "metadata": {
    "execution": {
     "iopub.execute_input": "2022-06-25T11:49:04.313329Z",
     "iopub.status.busy": "2022-06-25T11:49:04.312902Z",
     "iopub.status.idle": "2022-06-25T11:49:04.411638Z",
     "shell.execute_reply": "2022-06-25T11:49:04.410300Z"
    },
    "papermill": {
     "duration": 0.124293,
     "end_time": "2022-06-25T11:49:04.415021",
     "exception": false,
     "start_time": "2022-06-25T11:49:04.290728",
     "status": "completed"
    },
    "tags": []
   },
   "outputs": [
    {
     "name": "stdout",
     "output_type": "stream",
     "text": [
      "----------------------------------------\n",
      "Mejores hiperparámetros encontrados (cv)\n",
      "----------------------------------------\n",
      "{'booster': 'gbtree', 'learning_rate': 0.01, 'max_depth': 5, 'subsample': 0.5} : -19340.72046077234 neg_mean_absolute_error\n",
      "Número de árboles incluidos en el modelo: 925\n"
     ]
    }
   ],
   "source": [
    "# Mejores hiperparámetros por validación cruzada\n",
    "# ==============================================================================\n",
    "print(\"----------------------------------------\")\n",
    "print(\"Mejores hiperparámetros encontrados (cv)\")\n",
    "print(\"----------------------------------------\")\n",
    "print(grid.best_params_, \":\", grid.best_score_, grid.scoring)\n",
    "\n",
    "# Número de árboles del modelo final (early stopping)\n",
    "# ==============================================================================\n",
    "n_arboles_incluidos = len(grid.best_estimator_.get_booster().get_dump())\n",
    "print(f\"Número de árboles incluidos en el modelo: {n_arboles_incluidos}\")"
   ]
  },
  {
   "cell_type": "code",
   "execution_count": 38,
   "id": "a5de963b",
   "metadata": {
    "execution": {
     "iopub.execute_input": "2022-06-25T11:49:04.457027Z",
     "iopub.status.busy": "2022-06-25T11:49:04.455999Z",
     "iopub.status.idle": "2022-06-25T11:49:04.480895Z",
     "shell.execute_reply": "2022-06-25T11:49:04.479949Z"
    },
    "papermill": {
     "duration": 0.048589,
     "end_time": "2022-06-25T11:49:04.483807",
     "exception": false,
     "start_time": "2022-06-25T11:49:04.435218",
     "status": "completed"
    },
    "tags": []
   },
   "outputs": [
    {
     "data": {
      "text/plain": [
       "18822.256604381444"
      ]
     },
     "execution_count": 38,
     "metadata": {},
     "output_type": "execute_result"
    }
   ],
   "source": [
    "XGregress = grid.best_estimator_\n",
    "predicted_XG = XGregress.predict(X_test)\n",
    "XG_error=mean_absolute_error(y_test, predicted_XG)\n",
    "XG_error"
   ]
  },
  {
   "cell_type": "markdown",
   "id": "f5b3c5ae",
   "metadata": {
    "papermill": {
     "duration": 0.019514,
     "end_time": "2022-06-25T11:49:04.523495",
     "exception": false,
     "start_time": "2022-06-25T11:49:04.503981",
     "status": "completed"
    },
    "tags": []
   },
   "source": [
    "### LightGBM\n",
    "\n",
    "*Añadimos GridSearchCV"
   ]
  },
  {
   "cell_type": "code",
   "execution_count": 39,
   "id": "8a5c0d61",
   "metadata": {
    "execution": {
     "iopub.execute_input": "2022-06-25T11:49:04.564708Z",
     "iopub.status.busy": "2022-06-25T11:49:04.563978Z",
     "iopub.status.idle": "2022-06-25T11:49:05.540334Z",
     "shell.execute_reply": "2022-06-25T11:49:05.539027Z"
    },
    "papermill": {
     "duration": 1.000048,
     "end_time": "2022-06-25T11:49:05.543224",
     "exception": false,
     "start_time": "2022-06-25T11:49:04.543176",
     "status": "completed"
    },
    "tags": []
   },
   "outputs": [
    {
     "data": {
      "text/html": [
       "<style type='text/css'>\n",
       ".datatable table.frame { margin-bottom: 0; }\n",
       ".datatable table.frame thead { border-bottom: none; }\n",
       ".datatable table.frame tr.coltypes td {  color: #FFFFFF;  line-height: 6px;  padding: 0 0.5em;}\n",
       ".datatable .bool    { background: #DDDD99; }\n",
       ".datatable .object  { background: #565656; }\n",
       ".datatable .int     { background: #5D9E5D; }\n",
       ".datatable .float   { background: #4040CC; }\n",
       ".datatable .str     { background: #CC4040; }\n",
       ".datatable .time    { background: #40CC40; }\n",
       ".datatable .row_index {  background: var(--jp-border-color3);  border-right: 1px solid var(--jp-border-color0);  color: var(--jp-ui-font-color3);  font-size: 9px;}\n",
       ".datatable .frame tbody td { text-align: left; }\n",
       ".datatable .frame tr.coltypes .row_index {  background: var(--jp-border-color0);}\n",
       ".datatable th:nth-child(2) { padding-left: 12px; }\n",
       ".datatable .hellipsis {  color: var(--jp-cell-editor-border-color);}\n",
       ".datatable .vellipsis {  background: var(--jp-layout-color0);  color: var(--jp-cell-editor-border-color);}\n",
       ".datatable .na {  color: var(--jp-cell-editor-border-color);  font-size: 80%;}\n",
       ".datatable .sp {  opacity: 0.25;}\n",
       ".datatable .footer { font-size: 9px; }\n",
       ".datatable .frame_dimensions {  background: var(--jp-border-color3);  border-top: 1px solid var(--jp-border-color0);  color: var(--jp-ui-font-color3);  display: inline-block;  opacity: 0.6;  padding: 1px 10px 1px 5px;}\n",
       "</style>\n"
      ],
      "text/plain": [
       "<IPython.core.display.HTML object>"
      ]
     },
     "metadata": {},
     "output_type": "display_data"
    }
   ],
   "source": [
    "from lightgbm.sklearn import LGBMRegressor\n"
   ]
  },
  {
   "cell_type": "code",
   "execution_count": 40,
   "id": "2f7175c5",
   "metadata": {
    "execution": {
     "iopub.execute_input": "2022-06-25T11:49:05.584383Z",
     "iopub.status.busy": "2022-06-25T11:49:05.583950Z",
     "iopub.status.idle": "2022-06-25T11:51:13.419255Z",
     "shell.execute_reply": "2022-06-25T11:51:13.418087Z"
    },
    "papermill": {
     "duration": 127.878034,
     "end_time": "2022-06-25T11:51:13.441353",
     "exception": false,
     "start_time": "2022-06-25T11:49:05.563319",
     "status": "completed"
    },
    "tags": []
   },
   "outputs": [
    {
     "data": {
      "text/html": [
       "<div>\n",
       "<style scoped>\n",
       "    .dataframe tbody tr th:only-of-type {\n",
       "        vertical-align: middle;\n",
       "    }\n",
       "\n",
       "    .dataframe tbody tr th {\n",
       "        vertical-align: top;\n",
       "    }\n",
       "\n",
       "    .dataframe thead th {\n",
       "        text-align: right;\n",
       "    }\n",
       "</style>\n",
       "<table border=\"1\" class=\"dataframe\">\n",
       "  <thead>\n",
       "    <tr style=\"text-align: right;\">\n",
       "      <th></th>\n",
       "      <th>param_boosting_type</th>\n",
       "      <th>param_learning_rate</th>\n",
       "      <th>param_max_depth</th>\n",
       "      <th>param_n_estimators</th>\n",
       "      <th>param_subsample</th>\n",
       "      <th>mean_test_score</th>\n",
       "      <th>std_test_score</th>\n",
       "      <th>mean_train_score</th>\n",
       "      <th>std_train_score</th>\n",
       "    </tr>\n",
       "  </thead>\n",
       "  <tbody>\n",
       "    <tr>\n",
       "      <th>12</th>\n",
       "      <td>gbdt</td>\n",
       "      <td>0.01</td>\n",
       "      <td>10</td>\n",
       "      <td>1000</td>\n",
       "      <td>0.5</td>\n",
       "      <td>-20661.058998</td>\n",
       "      <td>1243.975119</td>\n",
       "      <td>-8943.608513</td>\n",
       "      <td>45.749084</td>\n",
       "    </tr>\n",
       "    <tr>\n",
       "      <th>13</th>\n",
       "      <td>gbdt</td>\n",
       "      <td>0.01</td>\n",
       "      <td>10</td>\n",
       "      <td>1000</td>\n",
       "      <td>1</td>\n",
       "      <td>-20661.058998</td>\n",
       "      <td>1243.975119</td>\n",
       "      <td>-8943.608513</td>\n",
       "      <td>45.749084</td>\n",
       "    </tr>\n",
       "    <tr>\n",
       "      <th>24</th>\n",
       "      <td>gbdt</td>\n",
       "      <td>0.1</td>\n",
       "      <td>5</td>\n",
       "      <td>100</td>\n",
       "      <td>0.5</td>\n",
       "      <td>-20709.003234</td>\n",
       "      <td>1125.829433</td>\n",
       "      <td>-11949.610927</td>\n",
       "      <td>156.491177</td>\n",
       "    </tr>\n",
       "    <tr>\n",
       "      <th>25</th>\n",
       "      <td>gbdt</td>\n",
       "      <td>0.1</td>\n",
       "      <td>5</td>\n",
       "      <td>100</td>\n",
       "      <td>1</td>\n",
       "      <td>-20709.003234</td>\n",
       "      <td>1125.829433</td>\n",
       "      <td>-11949.610927</td>\n",
       "      <td>156.491177</td>\n",
       "    </tr>\n",
       "  </tbody>\n",
       "</table>\n",
       "</div>"
      ],
      "text/plain": [
       "   param_boosting_type param_learning_rate param_max_depth param_n_estimators  \\\n",
       "12                gbdt                0.01              10               1000   \n",
       "13                gbdt                0.01              10               1000   \n",
       "24                gbdt                 0.1               5                100   \n",
       "25                gbdt                 0.1               5                100   \n",
       "\n",
       "   param_subsample  mean_test_score  std_test_score  mean_train_score  \\\n",
       "12             0.5    -20661.058998     1243.975119      -8943.608513   \n",
       "13               1    -20661.058998     1243.975119      -8943.608513   \n",
       "24             0.5    -20709.003234     1125.829433     -11949.610927   \n",
       "25               1    -20709.003234     1125.829433     -11949.610927   \n",
       "\n",
       "    std_train_score  \n",
       "12        45.749084  \n",
       "13        45.749084  \n",
       "24       156.491177  \n",
       "25       156.491177  "
      ]
     },
     "execution_count": 40,
     "metadata": {},
     "output_type": "execute_result"
    }
   ],
   "source": [
    "# Grid de hiperparámetros evaluados\n",
    "# ==============================================================================\n",
    "param_grid = {'n_estimators'     : [100, 500, 1000, 5000],\n",
    "              'max_depth'        : [5, 10, 20],\n",
    "              'subsample'        : [0.5, 1],\n",
    "              'learning_rate'    : [0.01, 0.1],\n",
    "              'boosting_type'    : ['gbdt']\n",
    "             }\n",
    "\n",
    "# Búsqueda por grid search con validación cruzada\n",
    "# ==============================================================================\n",
    "grid = GridSearchCV(\n",
    "        estimator  = LGBMRegressor(random_state=123),\n",
    "        param_grid = param_grid,\n",
    "        scoring    = 'neg_mean_absolute_error',\n",
    "        n_jobs     = multiprocessing.cpu_count() - 1,\n",
    "        cv         = RepeatedKFold(n_splits=3, n_repeats=1, random_state=123), \n",
    "        refit      = True,\n",
    "        verbose    = 0,\n",
    "        return_train_score = True\n",
    "       )\n",
    "\n",
    "grid.fit(X = X_train, y = y_train)\n",
    "\n",
    "# Resultados\n",
    "# ==============================================================================\n",
    "resultados = pd.DataFrame(grid.cv_results_)\n",
    "resultados.filter(regex = '(param.*|mean_t|std_t)') \\\n",
    "    .drop(columns = 'params') \\\n",
    "    .sort_values('mean_test_score', ascending = False) \\\n",
    "    .head(4)"
   ]
  },
  {
   "cell_type": "code",
   "execution_count": 41,
   "id": "4e71185a",
   "metadata": {
    "execution": {
     "iopub.execute_input": "2022-06-25T11:51:13.484016Z",
     "iopub.status.busy": "2022-06-25T11:51:13.482853Z",
     "iopub.status.idle": "2022-06-25T11:51:13.490614Z",
     "shell.execute_reply": "2022-06-25T11:51:13.489230Z"
    },
    "papermill": {
     "duration": 0.033233,
     "end_time": "2022-06-25T11:51:13.494450",
     "exception": false,
     "start_time": "2022-06-25T11:51:13.461217",
     "status": "completed"
    },
    "tags": []
   },
   "outputs": [
    {
     "name": "stdout",
     "output_type": "stream",
     "text": [
      "----------------------------------------\n",
      "Mejores hiperparámetros encontrados (cv)\n",
      "----------------------------------------\n",
      "{'boosting_type': 'gbdt', 'learning_rate': 0.01, 'max_depth': 10, 'n_estimators': 1000, 'subsample': 0.5} : -20661.058998290544 neg_mean_absolute_error\n"
     ]
    }
   ],
   "source": [
    "# Mejores hiperparámetros por validación cruzada\n",
    "# ==============================================================================\n",
    "print(\"----------------------------------------\")\n",
    "print(\"Mejores hiperparámetros encontrados (cv)\")\n",
    "print(\"----------------------------------------\")\n",
    "print(grid.best_params_, \":\", grid.best_score_, grid.scoring)"
   ]
  },
  {
   "cell_type": "code",
   "execution_count": 42,
   "id": "5677d72d",
   "metadata": {
    "execution": {
     "iopub.execute_input": "2022-06-25T11:51:13.537267Z",
     "iopub.status.busy": "2022-06-25T11:51:13.536536Z",
     "iopub.status.idle": "2022-06-25T11:51:13.564501Z",
     "shell.execute_reply": "2022-06-25T11:51:13.563389Z"
    },
    "papermill": {
     "duration": 0.05234,
     "end_time": "2022-06-25T11:51:13.567251",
     "exception": false,
     "start_time": "2022-06-25T11:51:13.514911",
     "status": "completed"
    },
    "tags": []
   },
   "outputs": [
    {
     "data": {
      "text/plain": [
       "19920.59479142774"
      ]
     },
     "execution_count": 42,
     "metadata": {},
     "output_type": "execute_result"
    }
   ],
   "source": [
    "Light_regress = grid.best_estimator_\n",
    "predicted_Light = Light_regress.predict(X = X_test,)\n",
    "Light_error=mean_absolute_error(y_test, predicted_Light)\n",
    "Light_error"
   ]
  },
  {
   "cell_type": "code",
   "execution_count": 43,
   "id": "b6b5372e",
   "metadata": {
    "execution": {
     "iopub.execute_input": "2022-06-25T11:51:13.611431Z",
     "iopub.status.busy": "2022-06-25T11:51:13.610652Z",
     "iopub.status.idle": "2022-06-25T11:51:53.208287Z",
     "shell.execute_reply": "2022-06-25T11:51:53.207328Z"
    },
    "papermill": {
     "duration": 39.641633,
     "end_time": "2022-06-25T11:51:53.230347",
     "exception": false,
     "start_time": "2022-06-25T11:51:13.588714",
     "status": "completed"
    },
    "tags": []
   },
   "outputs": [
    {
     "data": {
      "text/html": [
       "<div>\n",
       "<style scoped>\n",
       "    .dataframe tbody tr th:only-of-type {\n",
       "        vertical-align: middle;\n",
       "    }\n",
       "\n",
       "    .dataframe tbody tr th {\n",
       "        vertical-align: top;\n",
       "    }\n",
       "\n",
       "    .dataframe thead th {\n",
       "        text-align: right;\n",
       "    }\n",
       "</style>\n",
       "<table border=\"1\" class=\"dataframe\">\n",
       "  <thead>\n",
       "    <tr style=\"text-align: right;\">\n",
       "      <th></th>\n",
       "      <th>importances_mean</th>\n",
       "      <th>importances_std</th>\n",
       "      <th>feature</th>\n",
       "    </tr>\n",
       "  </thead>\n",
       "  <tbody>\n",
       "    <tr>\n",
       "      <th>8</th>\n",
       "      <td>53662.846328</td>\n",
       "      <td>1260.009115</td>\n",
       "      <td>PC1</td>\n",
       "    </tr>\n",
       "    <tr>\n",
       "      <th>10</th>\n",
       "      <td>18793.472946</td>\n",
       "      <td>445.169936</td>\n",
       "      <td>PC3</td>\n",
       "    </tr>\n",
       "    <tr>\n",
       "      <th>15</th>\n",
       "      <td>8896.400791</td>\n",
       "      <td>446.957205</td>\n",
       "      <td>PC8</td>\n",
       "    </tr>\n",
       "    <tr>\n",
       "      <th>13</th>\n",
       "      <td>4822.724004</td>\n",
       "      <td>117.205254</td>\n",
       "      <td>PC6</td>\n",
       "    </tr>\n",
       "    <tr>\n",
       "      <th>12</th>\n",
       "      <td>4239.284592</td>\n",
       "      <td>149.175982</td>\n",
       "      <td>PC5</td>\n",
       "    </tr>\n",
       "    <tr>\n",
       "      <th>...</th>\n",
       "      <td>...</td>\n",
       "      <td>...</td>\n",
       "      <td>...</td>\n",
       "    </tr>\n",
       "    <tr>\n",
       "      <th>32</th>\n",
       "      <td>0.000000</td>\n",
       "      <td>0.000000</td>\n",
       "      <td>Neighborhood_BrDale</td>\n",
       "    </tr>\n",
       "    <tr>\n",
       "      <th>75</th>\n",
       "      <td>0.000000</td>\n",
       "      <td>0.000000</td>\n",
       "      <td>Heating_GasW</td>\n",
       "    </tr>\n",
       "    <tr>\n",
       "      <th>76</th>\n",
       "      <td>0.000000</td>\n",
       "      <td>0.000000</td>\n",
       "      <td>Heating_Grav</td>\n",
       "    </tr>\n",
       "    <tr>\n",
       "      <th>77</th>\n",
       "      <td>0.000000</td>\n",
       "      <td>0.000000</td>\n",
       "      <td>Heating_OthW</td>\n",
       "    </tr>\n",
       "    <tr>\n",
       "      <th>0</th>\n",
       "      <td>0.000000</td>\n",
       "      <td>0.000000</td>\n",
       "      <td>Utilities</td>\n",
       "    </tr>\n",
       "  </tbody>\n",
       "</table>\n",
       "<p>101 rows × 3 columns</p>\n",
       "</div>"
      ],
      "text/plain": [
       "    importances_mean  importances_std              feature\n",
       "8       53662.846328      1260.009115                  PC1\n",
       "10      18793.472946       445.169936                  PC3\n",
       "15       8896.400791       446.957205                  PC8\n",
       "13       4822.724004       117.205254                  PC6\n",
       "12       4239.284592       149.175982                  PC5\n",
       "..               ...              ...                  ...\n",
       "32          0.000000         0.000000  Neighborhood_BrDale\n",
       "75          0.000000         0.000000         Heating_GasW\n",
       "76          0.000000         0.000000         Heating_Grav\n",
       "77          0.000000         0.000000         Heating_OthW\n",
       "0           0.000000         0.000000            Utilities\n",
       "\n",
       "[101 rows x 3 columns]"
      ]
     },
     "execution_count": 43,
     "metadata": {},
     "output_type": "execute_result"
    }
   ],
   "source": [
    "from sklearn.inspection import permutation_importance\n",
    "importancia = permutation_importance(\n",
    "                estimator    = Light_regress,\n",
    "                X            = X_train,\n",
    "                y            = y_train,\n",
    "                n_repeats    = 5,\n",
    "                scoring      = 'neg_root_mean_squared_error',\n",
    "                n_jobs       = multiprocessing.cpu_count() - 1,\n",
    "                random_state = 123\n",
    "             )\n",
    "\n",
    "# Se almacenan los resultados (media y desviación) en un dataframe\n",
    "df_importancia = pd.DataFrame(\n",
    "                    {k: importancia[k] for k in ['importances_mean', 'importances_std']}\n",
    "                 )\n",
    "df_importancia['feature'] = X_train.columns\n",
    "df_importancia.sort_values('importances_mean', ascending=False)"
   ]
  },
  {
   "cell_type": "code",
   "execution_count": null,
   "id": "b252c770",
   "metadata": {
    "papermill": {
     "duration": 0.021091,
     "end_time": "2022-06-25T11:51:53.271927",
     "exception": false,
     "start_time": "2022-06-25T11:51:53.250836",
     "status": "completed"
    },
    "tags": []
   },
   "outputs": [],
   "source": []
  }
 ],
 "metadata": {
  "kernelspec": {
   "display_name": "Python 3",
   "language": "python",
   "name": "python3"
  },
  "language_info": {
   "codemirror_mode": {
    "name": "ipython",
    "version": 3
   },
   "file_extension": ".py",
   "mimetype": "text/x-python",
   "name": "python",
   "nbconvert_exporter": "python",
   "pygments_lexer": "ipython3",
   "version": "3.7.12"
  },
  "papermill": {
   "default_parameters": {},
   "duration": 350.044752,
   "end_time": "2022-06-25T11:51:55.914532",
   "environment_variables": {},
   "exception": null,
   "input_path": "__notebook__.ipynb",
   "output_path": "__notebook__.ipynb",
   "parameters": {},
   "start_time": "2022-06-25T11:46:05.869780",
   "version": "2.3.4"
  }
 },
 "nbformat": 4,
 "nbformat_minor": 5
}
