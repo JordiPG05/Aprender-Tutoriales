{
 "cells": [
  {
   "cell_type": "code",
   "execution_count": 1,
   "id": "b4f98153",
   "metadata": {
    "_cell_guid": "b1076dfc-b9ad-4769-8c92-a6c4dae69d19",
    "_kg_hide-input": true,
    "_kg_hide-output": true,
    "_uuid": "8f2839f25d086af736a60e9eeb907d3b93b6e0e5",
    "execution": {
     "iopub.execute_input": "2022-06-22T21:58:22.455338Z",
     "iopub.status.busy": "2022-06-22T21:58:22.454896Z",
     "iopub.status.idle": "2022-06-22T21:58:22.469362Z",
     "shell.execute_reply": "2022-06-22T21:58:22.468024Z"
    },
    "papermill": {
     "duration": 0.022753,
     "end_time": "2022-06-22T21:58:22.471860",
     "exception": false,
     "start_time": "2022-06-22T21:58:22.449107",
     "status": "completed"
    },
    "tags": []
   },
   "outputs": [
    {
     "name": "stdout",
     "output_type": "stream",
     "text": [
      "/kaggle/input/house-prices-advanced-regression-techniques/sample_submission.csv\n",
      "/kaggle/input/house-prices-advanced-regression-techniques/data_description.txt\n",
      "/kaggle/input/house-prices-advanced-regression-techniques/train.csv\n",
      "/kaggle/input/house-prices-advanced-regression-techniques/test.csv\n"
     ]
    }
   ],
   "source": [
    "# This Python 3 environment comes with many helpful analytics libraries installed\n",
    "# It is defined by the kaggle/python Docker image: https://github.com/kaggle/docker-python\n",
    "# For example, here's several helpful packages to load\n",
    "\n",
    "import numpy as np # linear algebra\n",
    "import pandas as pd # data processing, CSV file I/O (e.g. pd.read_csv)\n",
    "\n",
    "# Input data files are available in the read-only \"../input/\" directory\n",
    "# For example, running this (by clicking run or pressing Shift+Enter) will list all files under the input directory\n",
    "\n",
    "import os\n",
    "for dirname, _, filenames in os.walk('/kaggle/input'):\n",
    "    for filename in filenames:\n",
    "        print(os.path.join(dirname, filename))\n",
    "\n",
    "# You can write up to 20GB to the current directory (/kaggle/working/) that gets preserved as output when you create a version using \"Save & Run All\" \n",
    "# You can also write temporary files to /kaggle/temp/, but they won't be saved outside of the current session"
   ]
  },
  {
   "cell_type": "markdown",
   "id": "8827c7e8",
   "metadata": {
    "papermill": {
     "duration": 0.003218,
     "end_time": "2022-06-22T21:58:22.478783",
     "exception": false,
     "start_time": "2022-06-22T21:58:22.475565",
     "status": "completed"
    },
    "tags": []
   },
   "source": [
    "## Preprocesado de datos"
   ]
  },
  {
   "cell_type": "markdown",
   "id": "607eea11",
   "metadata": {
    "papermill": {
     "duration": 0.002988,
     "end_time": "2022-06-22T21:58:22.484905",
     "exception": false,
     "start_time": "2022-06-22T21:58:22.481917",
     "status": "completed"
    },
    "tags": []
   },
   "source": [
    "##### En este apartado, en primer lugar cargaremos las primersa líbrerias y tambíen  los datos.\n",
    "\n",
    "##### El segundo paso es visualizar los datos y gestionar los nulos de la mejor forma posible.\n",
    "\n",
    "**TIP :** *Para que tu codigo sea más eficaz y en casa de necesitarlo realizar futuras actualizaciones es recomendable el uso de funciones*"
   ]
  },
  {
   "cell_type": "code",
   "execution_count": 2,
   "id": "56f0da98",
   "metadata": {
    "execution": {
     "iopub.execute_input": "2022-06-22T21:58:22.493499Z",
     "iopub.status.busy": "2022-06-22T21:58:22.492885Z",
     "iopub.status.idle": "2022-06-22T21:58:22.496572Z",
     "shell.execute_reply": "2022-06-22T21:58:22.495835Z"
    },
    "papermill": {
     "duration": 0.010495,
     "end_time": "2022-06-22T21:58:22.498573",
     "exception": false,
     "start_time": "2022-06-22T21:58:22.488078",
     "status": "completed"
    },
    "tags": []
   },
   "outputs": [],
   "source": [
    "import pandas as pd\n",
    "import numpy as np"
   ]
  },
  {
   "cell_type": "code",
   "execution_count": 3,
   "id": "b1997095",
   "metadata": {
    "execution": {
     "iopub.execute_input": "2022-06-22T21:58:22.506895Z",
     "iopub.status.busy": "2022-06-22T21:58:22.506517Z",
     "iopub.status.idle": "2022-06-22T21:58:22.569471Z",
     "shell.execute_reply": "2022-06-22T21:58:22.568442Z"
    },
    "papermill": {
     "duration": 0.070053,
     "end_time": "2022-06-22T21:58:22.571854",
     "exception": false,
     "start_time": "2022-06-22T21:58:22.501801",
     "status": "completed"
    },
    "tags": []
   },
   "outputs": [],
   "source": [
    "train = pd.read_csv('../input/house-prices-advanced-regression-techniques/train.csv')\n",
    "test= pd.read_csv('../input/house-prices-advanced-regression-techniques/test.csv')"
   ]
  },
  {
   "cell_type": "markdown",
   "id": "93010dbe",
   "metadata": {
    "papermill": {
     "duration": 0.003021,
     "end_time": "2022-06-22T21:58:22.578256",
     "exception": false,
     "start_time": "2022-06-22T21:58:22.575235",
     "status": "completed"
    },
    "tags": []
   },
   "source": [
    "Visualizamos como es el dataframe"
   ]
  },
  {
   "cell_type": "code",
   "execution_count": 4,
   "id": "bb3c0eb8",
   "metadata": {
    "execution": {
     "iopub.execute_input": "2022-06-22T21:58:22.586749Z",
     "iopub.status.busy": "2022-06-22T21:58:22.586068Z",
     "iopub.status.idle": "2022-06-22T21:58:22.621376Z",
     "shell.execute_reply": "2022-06-22T21:58:22.620175Z"
    },
    "papermill": {
     "duration": 0.042442,
     "end_time": "2022-06-22T21:58:22.623882",
     "exception": false,
     "start_time": "2022-06-22T21:58:22.581440",
     "status": "completed"
    },
    "tags": []
   },
   "outputs": [
    {
     "name": "stdout",
     "output_type": "stream",
     "text": [
      "<class 'pandas.core.frame.DataFrame'>\n",
      "RangeIndex: 1460 entries, 0 to 1459\n",
      "Data columns (total 81 columns):\n",
      " #   Column         Non-Null Count  Dtype  \n",
      "---  ------         --------------  -----  \n",
      " 0   Id             1460 non-null   int64  \n",
      " 1   MSSubClass     1460 non-null   int64  \n",
      " 2   MSZoning       1460 non-null   object \n",
      " 3   LotFrontage    1201 non-null   float64\n",
      " 4   LotArea        1460 non-null   int64  \n",
      " 5   Street         1460 non-null   object \n",
      " 6   Alley          91 non-null     object \n",
      " 7   LotShape       1460 non-null   object \n",
      " 8   LandContour    1460 non-null   object \n",
      " 9   Utilities      1460 non-null   object \n",
      " 10  LotConfig      1460 non-null   object \n",
      " 11  LandSlope      1460 non-null   object \n",
      " 12  Neighborhood   1460 non-null   object \n",
      " 13  Condition1     1460 non-null   object \n",
      " 14  Condition2     1460 non-null   object \n",
      " 15  BldgType       1460 non-null   object \n",
      " 16  HouseStyle     1460 non-null   object \n",
      " 17  OverallQual    1460 non-null   int64  \n",
      " 18  OverallCond    1460 non-null   int64  \n",
      " 19  YearBuilt      1460 non-null   int64  \n",
      " 20  YearRemodAdd   1460 non-null   int64  \n",
      " 21  RoofStyle      1460 non-null   object \n",
      " 22  RoofMatl       1460 non-null   object \n",
      " 23  Exterior1st    1460 non-null   object \n",
      " 24  Exterior2nd    1460 non-null   object \n",
      " 25  MasVnrType     1452 non-null   object \n",
      " 26  MasVnrArea     1452 non-null   float64\n",
      " 27  ExterQual      1460 non-null   object \n",
      " 28  ExterCond      1460 non-null   object \n",
      " 29  Foundation     1460 non-null   object \n",
      " 30  BsmtQual       1423 non-null   object \n",
      " 31  BsmtCond       1423 non-null   object \n",
      " 32  BsmtExposure   1422 non-null   object \n",
      " 33  BsmtFinType1   1423 non-null   object \n",
      " 34  BsmtFinSF1     1460 non-null   int64  \n",
      " 35  BsmtFinType2   1422 non-null   object \n",
      " 36  BsmtFinSF2     1460 non-null   int64  \n",
      " 37  BsmtUnfSF      1460 non-null   int64  \n",
      " 38  TotalBsmtSF    1460 non-null   int64  \n",
      " 39  Heating        1460 non-null   object \n",
      " 40  HeatingQC      1460 non-null   object \n",
      " 41  CentralAir     1460 non-null   object \n",
      " 42  Electrical     1459 non-null   object \n",
      " 43  1stFlrSF       1460 non-null   int64  \n",
      " 44  2ndFlrSF       1460 non-null   int64  \n",
      " 45  LowQualFinSF   1460 non-null   int64  \n",
      " 46  GrLivArea      1460 non-null   int64  \n",
      " 47  BsmtFullBath   1460 non-null   int64  \n",
      " 48  BsmtHalfBath   1460 non-null   int64  \n",
      " 49  FullBath       1460 non-null   int64  \n",
      " 50  HalfBath       1460 non-null   int64  \n",
      " 51  BedroomAbvGr   1460 non-null   int64  \n",
      " 52  KitchenAbvGr   1460 non-null   int64  \n",
      " 53  KitchenQual    1460 non-null   object \n",
      " 54  TotRmsAbvGrd   1460 non-null   int64  \n",
      " 55  Functional     1460 non-null   object \n",
      " 56  Fireplaces     1460 non-null   int64  \n",
      " 57  FireplaceQu    770 non-null    object \n",
      " 58  GarageType     1379 non-null   object \n",
      " 59  GarageYrBlt    1379 non-null   float64\n",
      " 60  GarageFinish   1379 non-null   object \n",
      " 61  GarageCars     1460 non-null   int64  \n",
      " 62  GarageArea     1460 non-null   int64  \n",
      " 63  GarageQual     1379 non-null   object \n",
      " 64  GarageCond     1379 non-null   object \n",
      " 65  PavedDrive     1460 non-null   object \n",
      " 66  WoodDeckSF     1460 non-null   int64  \n",
      " 67  OpenPorchSF    1460 non-null   int64  \n",
      " 68  EnclosedPorch  1460 non-null   int64  \n",
      " 69  3SsnPorch      1460 non-null   int64  \n",
      " 70  ScreenPorch    1460 non-null   int64  \n",
      " 71  PoolArea       1460 non-null   int64  \n",
      " 72  PoolQC         7 non-null      object \n",
      " 73  Fence          281 non-null    object \n",
      " 74  MiscFeature    54 non-null     object \n",
      " 75  MiscVal        1460 non-null   int64  \n",
      " 76  MoSold         1460 non-null   int64  \n",
      " 77  YrSold         1460 non-null   int64  \n",
      " 78  SaleType       1460 non-null   object \n",
      " 79  SaleCondition  1460 non-null   object \n",
      " 80  SalePrice      1460 non-null   int64  \n",
      "dtypes: float64(3), int64(35), object(43)\n",
      "memory usage: 924.0+ KB\n"
     ]
    }
   ],
   "source": [
    "train.info()"
   ]
  },
  {
   "cell_type": "code",
   "execution_count": 5,
   "id": "aed0314b",
   "metadata": {
    "execution": {
     "iopub.execute_input": "2022-06-22T21:58:22.632349Z",
     "iopub.status.busy": "2022-06-22T21:58:22.631922Z",
     "iopub.status.idle": "2022-06-22T21:58:22.642348Z",
     "shell.execute_reply": "2022-06-22T21:58:22.641086Z"
    },
    "papermill": {
     "duration": 0.017234,
     "end_time": "2022-06-22T21:58:22.644544",
     "exception": false,
     "start_time": "2022-06-22T21:58:22.627310",
     "status": "completed"
    },
    "tags": []
   },
   "outputs": [],
   "source": [
    "def preprocesado(df):\n",
    "    df=df.drop(['Alley'], axis=1) # Eliminamos la columna Alley\n",
    "    df=df.dropna(subset=['MasVnrType']) # Eliminamos las filas con nulos\n",
    "    df['BsmtFinType2']=df['BsmtFinType2'].fillna('Unf') # Asumimos los nulos como Unf (Sin terminar)\n",
    "    df['LotFrontage']=df['LotFrontage'].fillna(df['LotFrontage'].median()) # Imputamos los nulos con la mediana\n",
    "    df['BsmtQual']=df['BsmtQual'].fillna(0) # Imputamos los nulos por 0 (No tienen sotano)\n",
    "    df['BsmtCond']=df['BsmtCond'].fillna(0) # Imputamos los nulos por 0 (No tienen sotano)\n",
    "    df['BsmtExposure']=df['BsmtExposure'].fillna(0) # Imputamos los nulos por 0 (No tienen sotano)\n",
    "    df['BsmtFinType1']=df['BsmtFinType1'].fillna(0) # Imputamos los nulos por 0 (No tienen sotano)\n",
    "    df=df.dropna(subset=['Electrical']) # Eliminamos el error en Electrical\n",
    "    df['FireplaceQu']=df['FireplaceQu'].fillna(0) # Imputamos los nulos por 0 (No tienen chimenea)\n",
    "    df['GarageType']=df['FireplaceQu'].fillna('NonHave') # Imputamos los nulos por 'NonHave' (No tienen garaje)\n",
    "    df['GarageYrBlt']=df['GarageYrBlt'].fillna(0) # Imputamos los nulos por 0 (Indicamos que los que no tienen garaje)\n",
    "    df['GarageFinish']=df['GarageFinish'].fillna('NonHave') # Imputamos los nulos por 'NonHave' (No tienen garaje)\n",
    "    df['GarageQual']=df['GarageQual'].fillna(0) # Indicamos que el garaje no existe\n",
    "    df['GarageCond']=df['GarageCond'].fillna(0) # Indicamos que el garaje no existe\n",
    "    df=df.drop(['PoolQC'], axis=1) # Eliminamos la columna Calidad de la piscina (Praticamente toda vacia)\n",
    "    df['MiscFeature']=df['MiscFeature'].fillna('NonHave') # Indicamos que no tiene características extras\n",
    "    df['Fence']=df['Fence'].fillna('NonHave') # Indicamos que no tiene vallas\n",
    "    return df"
   ]
  },
  {
   "cell_type": "code",
   "execution_count": 6,
   "id": "85921388",
   "metadata": {
    "execution": {
     "iopub.execute_input": "2022-06-22T21:58:22.653305Z",
     "iopub.status.busy": "2022-06-22T21:58:22.652913Z",
     "iopub.status.idle": "2022-06-22T21:58:22.678156Z",
     "shell.execute_reply": "2022-06-22T21:58:22.676978Z"
    },
    "papermill": {
     "duration": 0.033225,
     "end_time": "2022-06-22T21:58:22.681391",
     "exception": false,
     "start_time": "2022-06-22T21:58:22.648166",
     "status": "completed"
    },
    "tags": []
   },
   "outputs": [],
   "source": [
    "train=preprocesado(train)"
   ]
  },
  {
   "cell_type": "markdown",
   "id": "db4ae7e6",
   "metadata": {
    "papermill": {
     "duration": 0.003181,
     "end_time": "2022-06-22T21:58:22.688207",
     "exception": false,
     "start_time": "2022-06-22T21:58:22.685026",
     "status": "completed"
    },
    "tags": []
   },
   "source": [
    "## Features Selection"
   ]
  },
  {
   "cell_type": "markdown",
   "id": "87586b03",
   "metadata": {
    "papermill": {
     "duration": 0.003043,
     "end_time": "2022-06-22T21:58:22.694686",
     "exception": false,
     "start_time": "2022-06-22T21:58:22.691643",
     "status": "completed"
    },
    "tags": []
   },
   "source": [
    "##### En esta sección vamos a seleccionar solo las variables que creamos que tienen sentido para nuestro modelo, cada elección tiene que tener un porque.\n",
    "##### Sobrecargar un modelo puede provocar largos periodos de espera y hacer que nuestro modelo no encuentre las mejores relaciones.\n",
    "\n",
    "*Es necesario leerse el apartado Data Field de la página '[Datos](https://www.kaggle.com/competitions/house-prices-advanced-regression-techniques/data)' de la descripción de la competición*"
   ]
  },
  {
   "cell_type": "markdown",
   "id": "14fef6da",
   "metadata": {
    "papermill": {
     "duration": 0.003134,
     "end_time": "2022-06-22T21:58:22.701447",
     "exception": false,
     "start_time": "2022-06-22T21:58:22.698313",
     "status": "completed"
    },
    "tags": []
   },
   "source": [
    "## Técnicas multiples de regresión "
   ]
  },
  {
   "cell_type": "markdown",
   "id": "8c4bbc32",
   "metadata": {
    "papermill": {
     "duration": 0.003068,
     "end_time": "2022-06-22T21:58:22.707889",
     "exception": false,
     "start_time": "2022-06-22T21:58:22.704821",
     "status": "completed"
    },
    "tags": []
   },
   "source": [
    "### Regresión lineal multiple"
   ]
  },
  {
   "cell_type": "code",
   "execution_count": null,
   "id": "302b4fae",
   "metadata": {
    "papermill": {
     "duration": 0.00315,
     "end_time": "2022-06-22T21:58:22.714542",
     "exception": false,
     "start_time": "2022-06-22T21:58:22.711392",
     "status": "completed"
    },
    "tags": []
   },
   "outputs": [],
   "source": [
    "\n"
   ]
  }
 ],
 "metadata": {
  "kernelspec": {
   "display_name": "Python 3",
   "language": "python",
   "name": "python3"
  },
  "language_info": {
   "codemirror_mode": {
    "name": "ipython",
    "version": 3
   },
   "file_extension": ".py",
   "mimetype": "text/x-python",
   "name": "python",
   "nbconvert_exporter": "python",
   "pygments_lexer": "ipython3",
   "version": "3.7.12"
  },
  "papermill": {
   "default_parameters": {},
   "duration": 10.073077,
   "end_time": "2022-06-22T21:58:23.339584",
   "environment_variables": {},
   "exception": null,
   "input_path": "__notebook__.ipynb",
   "output_path": "__notebook__.ipynb",
   "parameters": {},
   "start_time": "2022-06-22T21:58:13.266507",
   "version": "2.3.4"
  }
 },
 "nbformat": 4,
 "nbformat_minor": 5
}
