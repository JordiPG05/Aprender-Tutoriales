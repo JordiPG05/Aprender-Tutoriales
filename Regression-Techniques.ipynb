{
 "cells": [
  {
   "cell_type": "code",
   "execution_count": 1,
   "id": "14798798",
   "metadata": {
    "_cell_guid": "b1076dfc-b9ad-4769-8c92-a6c4dae69d19",
    "_kg_hide-input": true,
    "_kg_hide-output": true,
    "_uuid": "8f2839f25d086af736a60e9eeb907d3b93b6e0e5",
    "execution": {
     "iopub.execute_input": "2022-06-25T09:54:29.966977Z",
     "iopub.status.busy": "2022-06-25T09:54:29.966471Z",
     "iopub.status.idle": "2022-06-25T09:54:29.983228Z",
     "shell.execute_reply": "2022-06-25T09:54:29.982285Z"
    },
    "papermill": {
     "duration": 0.034201,
     "end_time": "2022-06-25T09:54:29.986577",
     "exception": false,
     "start_time": "2022-06-25T09:54:29.952376",
     "status": "completed"
    },
    "tags": []
   },
   "outputs": [
    {
     "name": "stdout",
     "output_type": "stream",
     "text": [
      "/kaggle/input/house-prices-advanced-regression-techniques/sample_submission.csv\n",
      "/kaggle/input/house-prices-advanced-regression-techniques/data_description.txt\n",
      "/kaggle/input/house-prices-advanced-regression-techniques/train.csv\n",
      "/kaggle/input/house-prices-advanced-regression-techniques/test.csv\n"
     ]
    }
   ],
   "source": [
    "# This Python 3 environment comes with many helpful analytics libraries installed\n",
    "# It is defined by the kaggle/python Docker image: https://github.com/kaggle/docker-python\n",
    "# For example, here's several helpful packages to load\n",
    "\n",
    "import numpy as np # linear algebra\n",
    "import pandas as pd # data processing, CSV file I/O (e.g. pd.read_csv)\n",
    "\n",
    "# Input data files are available in the read-only \"../input/\" directory\n",
    "# For example, running this (by clicking run or pressing Shift+Enter) will list all files under the input directory\n",
    "\n",
    "import os\n",
    "for dirname, _, filenames in os.walk('/kaggle/input'):\n",
    "    for filename in filenames:\n",
    "        print(os.path.join(dirname, filename))\n",
    "\n",
    "# You can write up to 20GB to the current directory (/kaggle/working/) that gets preserved as output when you create a version using \"Save & Run All\" \n",
    "# You can also write temporary files to /kaggle/temp/, but they won't be saved outside of the current session"
   ]
  },
  {
   "cell_type": "markdown",
   "id": "546117be",
   "metadata": {
    "papermill": {
     "duration": 0.011271,
     "end_time": "2022-06-25T09:54:30.010280",
     "exception": false,
     "start_time": "2022-06-25T09:54:29.999009",
     "status": "completed"
    },
    "tags": []
   },
   "source": [
    "## Preprocesado de datos"
   ]
  },
  {
   "cell_type": "markdown",
   "id": "40f7b20c",
   "metadata": {
    "papermill": {
     "duration": 0.010512,
     "end_time": "2022-06-25T09:54:30.031657",
     "exception": false,
     "start_time": "2022-06-25T09:54:30.021145",
     "status": "completed"
    },
    "tags": []
   },
   "source": [
    "##### En este apartado, en primer lugar cargaremos las primersa líbrerias y tambíen  los datos.\n",
    "\n",
    "##### El segundo paso es visualizar los datos y gestionar los nulos de la mejor forma posible.\n",
    "\n",
    "**TIP :** *Para que tu codigo sea más eficaz y en casa de necesitarlo realizar futuras actualizaciones es recomendable el uso de funciones*"
   ]
  },
  {
   "cell_type": "code",
   "execution_count": 2,
   "id": "fb879887",
   "metadata": {
    "execution": {
     "iopub.execute_input": "2022-06-25T09:54:30.056379Z",
     "iopub.status.busy": "2022-06-25T09:54:30.055487Z",
     "iopub.status.idle": "2022-06-25T09:54:30.061303Z",
     "shell.execute_reply": "2022-06-25T09:54:30.059801Z"
    },
    "papermill": {
     "duration": 0.022006,
     "end_time": "2022-06-25T09:54:30.064605",
     "exception": false,
     "start_time": "2022-06-25T09:54:30.042599",
     "status": "completed"
    },
    "tags": []
   },
   "outputs": [],
   "source": [
    "import pandas as pd\n",
    "import numpy as np"
   ]
  },
  {
   "cell_type": "code",
   "execution_count": 3,
   "id": "1a00fc66",
   "metadata": {
    "execution": {
     "iopub.execute_input": "2022-06-25T09:54:30.089751Z",
     "iopub.status.busy": "2022-06-25T09:54:30.089242Z",
     "iopub.status.idle": "2022-06-25T09:54:30.170051Z",
     "shell.execute_reply": "2022-06-25T09:54:30.168700Z"
    },
    "papermill": {
     "duration": 0.096769,
     "end_time": "2022-06-25T09:54:30.173117",
     "exception": false,
     "start_time": "2022-06-25T09:54:30.076348",
     "status": "completed"
    },
    "tags": []
   },
   "outputs": [],
   "source": [
    "train = pd.read_csv('../input/house-prices-advanced-regression-techniques/train.csv')\n",
    "test= pd.read_csv('../input/house-prices-advanced-regression-techniques/test.csv')"
   ]
  },
  {
   "cell_type": "markdown",
   "id": "55cde1e7",
   "metadata": {
    "papermill": {
     "duration": 0.011109,
     "end_time": "2022-06-25T09:54:30.195357",
     "exception": false,
     "start_time": "2022-06-25T09:54:30.184248",
     "status": "completed"
    },
    "tags": []
   },
   "source": [
    "Visualizamos como es el dataframe"
   ]
  },
  {
   "cell_type": "code",
   "execution_count": 4,
   "id": "e8da9361",
   "metadata": {
    "execution": {
     "iopub.execute_input": "2022-06-25T09:54:30.220091Z",
     "iopub.status.busy": "2022-06-25T09:54:30.219605Z",
     "iopub.status.idle": "2022-06-25T09:54:30.266267Z",
     "shell.execute_reply": "2022-06-25T09:54:30.264015Z"
    },
    "papermill": {
     "duration": 0.062796,
     "end_time": "2022-06-25T09:54:30.269283",
     "exception": false,
     "start_time": "2022-06-25T09:54:30.206487",
     "status": "completed"
    },
    "tags": []
   },
   "outputs": [
    {
     "name": "stdout",
     "output_type": "stream",
     "text": [
      "<class 'pandas.core.frame.DataFrame'>\n",
      "RangeIndex: 1460 entries, 0 to 1459\n",
      "Data columns (total 81 columns):\n",
      " #   Column         Non-Null Count  Dtype  \n",
      "---  ------         --------------  -----  \n",
      " 0   Id             1460 non-null   int64  \n",
      " 1   MSSubClass     1460 non-null   int64  \n",
      " 2   MSZoning       1460 non-null   object \n",
      " 3   LotFrontage    1201 non-null   float64\n",
      " 4   LotArea        1460 non-null   int64  \n",
      " 5   Street         1460 non-null   object \n",
      " 6   Alley          91 non-null     object \n",
      " 7   LotShape       1460 non-null   object \n",
      " 8   LandContour    1460 non-null   object \n",
      " 9   Utilities      1460 non-null   object \n",
      " 10  LotConfig      1460 non-null   object \n",
      " 11  LandSlope      1460 non-null   object \n",
      " 12  Neighborhood   1460 non-null   object \n",
      " 13  Condition1     1460 non-null   object \n",
      " 14  Condition2     1460 non-null   object \n",
      " 15  BldgType       1460 non-null   object \n",
      " 16  HouseStyle     1460 non-null   object \n",
      " 17  OverallQual    1460 non-null   int64  \n",
      " 18  OverallCond    1460 non-null   int64  \n",
      " 19  YearBuilt      1460 non-null   int64  \n",
      " 20  YearRemodAdd   1460 non-null   int64  \n",
      " 21  RoofStyle      1460 non-null   object \n",
      " 22  RoofMatl       1460 non-null   object \n",
      " 23  Exterior1st    1460 non-null   object \n",
      " 24  Exterior2nd    1460 non-null   object \n",
      " 25  MasVnrType     1452 non-null   object \n",
      " 26  MasVnrArea     1452 non-null   float64\n",
      " 27  ExterQual      1460 non-null   object \n",
      " 28  ExterCond      1460 non-null   object \n",
      " 29  Foundation     1460 non-null   object \n",
      " 30  BsmtQual       1423 non-null   object \n",
      " 31  BsmtCond       1423 non-null   object \n",
      " 32  BsmtExposure   1422 non-null   object \n",
      " 33  BsmtFinType1   1423 non-null   object \n",
      " 34  BsmtFinSF1     1460 non-null   int64  \n",
      " 35  BsmtFinType2   1422 non-null   object \n",
      " 36  BsmtFinSF2     1460 non-null   int64  \n",
      " 37  BsmtUnfSF      1460 non-null   int64  \n",
      " 38  TotalBsmtSF    1460 non-null   int64  \n",
      " 39  Heating        1460 non-null   object \n",
      " 40  HeatingQC      1460 non-null   object \n",
      " 41  CentralAir     1460 non-null   object \n",
      " 42  Electrical     1459 non-null   object \n",
      " 43  1stFlrSF       1460 non-null   int64  \n",
      " 44  2ndFlrSF       1460 non-null   int64  \n",
      " 45  LowQualFinSF   1460 non-null   int64  \n",
      " 46  GrLivArea      1460 non-null   int64  \n",
      " 47  BsmtFullBath   1460 non-null   int64  \n",
      " 48  BsmtHalfBath   1460 non-null   int64  \n",
      " 49  FullBath       1460 non-null   int64  \n",
      " 50  HalfBath       1460 non-null   int64  \n",
      " 51  BedroomAbvGr   1460 non-null   int64  \n",
      " 52  KitchenAbvGr   1460 non-null   int64  \n",
      " 53  KitchenQual    1460 non-null   object \n",
      " 54  TotRmsAbvGrd   1460 non-null   int64  \n",
      " 55  Functional     1460 non-null   object \n",
      " 56  Fireplaces     1460 non-null   int64  \n",
      " 57  FireplaceQu    770 non-null    object \n",
      " 58  GarageType     1379 non-null   object \n",
      " 59  GarageYrBlt    1379 non-null   float64\n",
      " 60  GarageFinish   1379 non-null   object \n",
      " 61  GarageCars     1460 non-null   int64  \n",
      " 62  GarageArea     1460 non-null   int64  \n",
      " 63  GarageQual     1379 non-null   object \n",
      " 64  GarageCond     1379 non-null   object \n",
      " 65  PavedDrive     1460 non-null   object \n",
      " 66  WoodDeckSF     1460 non-null   int64  \n",
      " 67  OpenPorchSF    1460 non-null   int64  \n",
      " 68  EnclosedPorch  1460 non-null   int64  \n",
      " 69  3SsnPorch      1460 non-null   int64  \n",
      " 70  ScreenPorch    1460 non-null   int64  \n",
      " 71  PoolArea       1460 non-null   int64  \n",
      " 72  PoolQC         7 non-null      object \n",
      " 73  Fence          281 non-null    object \n",
      " 74  MiscFeature    54 non-null     object \n",
      " 75  MiscVal        1460 non-null   int64  \n",
      " 76  MoSold         1460 non-null   int64  \n",
      " 77  YrSold         1460 non-null   int64  \n",
      " 78  SaleType       1460 non-null   object \n",
      " 79  SaleCondition  1460 non-null   object \n",
      " 80  SalePrice      1460 non-null   int64  \n",
      "dtypes: float64(3), int64(35), object(43)\n",
      "memory usage: 924.0+ KB\n"
     ]
    }
   ],
   "source": [
    "train.info()"
   ]
  },
  {
   "cell_type": "code",
   "execution_count": 5,
   "id": "12413e73",
   "metadata": {
    "execution": {
     "iopub.execute_input": "2022-06-25T09:54:30.296123Z",
     "iopub.status.busy": "2022-06-25T09:54:30.295659Z",
     "iopub.status.idle": "2022-06-25T09:54:30.310212Z",
     "shell.execute_reply": "2022-06-25T09:54:30.308804Z"
    },
    "papermill": {
     "duration": 0.031289,
     "end_time": "2022-06-25T09:54:30.312784",
     "exception": false,
     "start_time": "2022-06-25T09:54:30.281495",
     "status": "completed"
    },
    "tags": []
   },
   "outputs": [],
   "source": [
    "def preprocesado(df):\n",
    "    df=df.drop(['Alley'], axis=1) # Eliminamos la columna Alley\n",
    "    df=df.dropna(subset=['MasVnrType']) # Eliminamos las filas con nulos\n",
    "    df['BsmtFinType2']=df['BsmtFinType2'].fillna('Unf') # Asumimos los nulos como Unf (Sin terminar)\n",
    "    df['LotFrontage']=df['LotFrontage'].fillna(df['LotFrontage'].median()) # Imputamos los nulos con la mediana\n",
    "    df['BsmtQual']=df['BsmtQual'].fillna(0) # Imputamos los nulos por 0 (No tienen sotano)\n",
    "    df['BsmtCond']=df['BsmtCond'].fillna(0) # Imputamos los nulos por 0 (No tienen sotano)\n",
    "    df['BsmtExposure']=df['BsmtExposure'].fillna(0) # Imputamos los nulos por 0 (No tienen sotano)\n",
    "    df['BsmtFinType1']=df['BsmtFinType1'].fillna(0) # Imputamos los nulos por 0 (No tienen sotano)\n",
    "    df=df.dropna(subset=['Electrical']) # Eliminamos el error en Electrical\n",
    "    df['FireplaceQu']=df['FireplaceQu'].fillna(0) # Imputamos los nulos por 0 (No tienen chimenea)\n",
    "    df['GarageType']=df['FireplaceQu'].fillna('NonHave') # Imputamos los nulos por 'NonHave' (No tienen garaje)\n",
    "    df['GarageYrBlt']=df['GarageYrBlt'].fillna(0) # Imputamos los nulos por 0 (Indicamos que los que no tienen garaje)\n",
    "    df['GarageFinish']=df['GarageFinish'].fillna('NonHave') # Imputamos los nulos por 'NonHave' (No tienen garaje)\n",
    "    df['GarageQual']=df['GarageQual'].fillna(0) # Indicamos que el garaje no existe\n",
    "    df['GarageCond']=df['GarageCond'].fillna(0) # Indicamos que el garaje no existe\n",
    "    df=df.drop(['PoolQC'], axis=1) # Eliminamos la columna Calidad de la piscina (Praticamente toda vacia)\n",
    "    df['MiscFeature']=df['MiscFeature'].fillna('NonHave') # Indicamos que no tiene características extras\n",
    "    df['Fence']=df['Fence'].fillna('NonHave') # Indicamos que no tiene vallas\n",
    "    return df"
   ]
  },
  {
   "cell_type": "code",
   "execution_count": 6,
   "id": "e14d8777",
   "metadata": {
    "execution": {
     "iopub.execute_input": "2022-06-25T09:54:30.339121Z",
     "iopub.status.busy": "2022-06-25T09:54:30.338653Z",
     "iopub.status.idle": "2022-06-25T09:54:30.367582Z",
     "shell.execute_reply": "2022-06-25T09:54:30.366305Z"
    },
    "papermill": {
     "duration": 0.045733,
     "end_time": "2022-06-25T09:54:30.370717",
     "exception": false,
     "start_time": "2022-06-25T09:54:30.324984",
     "status": "completed"
    },
    "tags": []
   },
   "outputs": [],
   "source": [
    "train=preprocesado(train)"
   ]
  },
  {
   "cell_type": "markdown",
   "id": "419cef52",
   "metadata": {
    "papermill": {
     "duration": 0.011568,
     "end_time": "2022-06-25T09:54:30.393792",
     "exception": false,
     "start_time": "2022-06-25T09:54:30.382224",
     "status": "completed"
    },
    "tags": []
   },
   "source": [
    "## Features Selection"
   ]
  },
  {
   "cell_type": "markdown",
   "id": "e0e33d5e",
   "metadata": {
    "papermill": {
     "duration": 0.010859,
     "end_time": "2022-06-25T09:54:30.416119",
     "exception": false,
     "start_time": "2022-06-25T09:54:30.405260",
     "status": "completed"
    },
    "tags": []
   },
   "source": [
    "##### En esta sección vamos a seleccionar solo las variables que creamos que tienen sentido para nuestro modelo, cada elección tiene que tener un porque.\n",
    "##### Sobrecargar un modelo puede provocar largos periodos de espera y hacer que nuestro modelo no encuentre las mejores relaciones.\n",
    "\n",
    "*Es necesario leerse el apartado Data Field de la página '[Datos](https://www.kaggle.com/competitions/house-prices-advanced-regression-techniques/data)' de la descripción de la competición*"
   ]
  },
  {
   "cell_type": "code",
   "execution_count": 7,
   "id": "6c68a00d",
   "metadata": {
    "execution": {
     "iopub.execute_input": "2022-06-25T09:54:30.441803Z",
     "iopub.status.busy": "2022-06-25T09:54:30.441335Z",
     "iopub.status.idle": "2022-06-25T09:54:30.456839Z",
     "shell.execute_reply": "2022-06-25T09:54:30.455620Z"
    },
    "papermill": {
     "duration": 0.031939,
     "end_time": "2022-06-25T09:54:30.459410",
     "exception": false,
     "start_time": "2022-06-25T09:54:30.427471",
     "status": "completed"
    },
    "tags": []
   },
   "outputs": [],
   "source": [
    "features=['MSSubClass','MSZoning','LandContour','Utilities','LotConfig','Neighborhood','BldgType','HouseStyle','OverallQual','OverallCond','YearRemodAdd','ExterQual','ExterCond','BsmtCond','Heating','HeatingQC','CentralAir','Electrical','GrLivArea','FullBath','KitchenQual','TotRmsAbvGrd','FireplaceQu','GarageCars','GarageCond','Fence','MiscVal','SaleType','SaleCondition']\n",
    "target=['SalePrice']"
   ]
  },
  {
   "cell_type": "code",
   "execution_count": 8,
   "id": "a35ae94f",
   "metadata": {
    "execution": {
     "iopub.execute_input": "2022-06-25T09:54:30.484632Z",
     "iopub.status.busy": "2022-06-25T09:54:30.483522Z",
     "iopub.status.idle": "2022-06-25T09:54:30.490808Z",
     "shell.execute_reply": "2022-06-25T09:54:30.489631Z"
    },
    "papermill": {
     "duration": 0.022859,
     "end_time": "2022-06-25T09:54:30.493695",
     "exception": false,
     "start_time": "2022-06-25T09:54:30.470836",
     "status": "completed"
    },
    "tags": []
   },
   "outputs": [],
   "source": [
    "def select_features(df):\n",
    "    train_df=df[features+target]\n",
    "    return train_df"
   ]
  },
  {
   "cell_type": "code",
   "execution_count": 9,
   "id": "c780017f",
   "metadata": {
    "execution": {
     "iopub.execute_input": "2022-06-25T09:54:30.518181Z",
     "iopub.status.busy": "2022-06-25T09:54:30.517682Z",
     "iopub.status.idle": "2022-06-25T09:54:30.526509Z",
     "shell.execute_reply": "2022-06-25T09:54:30.525111Z"
    },
    "papermill": {
     "duration": 0.024676,
     "end_time": "2022-06-25T09:54:30.529646",
     "exception": false,
     "start_time": "2022-06-25T09:54:30.504970",
     "status": "completed"
    },
    "tags": []
   },
   "outputs": [],
   "source": [
    "train_df=select_features(train)"
   ]
  },
  {
   "cell_type": "code",
   "execution_count": 10,
   "id": "3dcd2140",
   "metadata": {
    "execution": {
     "iopub.execute_input": "2022-06-25T09:54:30.553952Z",
     "iopub.status.busy": "2022-06-25T09:54:30.553467Z",
     "iopub.status.idle": "2022-06-25T09:54:30.598744Z",
     "shell.execute_reply": "2022-06-25T09:54:30.597486Z"
    },
    "papermill": {
     "duration": 0.060972,
     "end_time": "2022-06-25T09:54:30.601839",
     "exception": false,
     "start_time": "2022-06-25T09:54:30.540867",
     "status": "completed"
    },
    "tags": []
   },
   "outputs": [
    {
     "data": {
      "text/html": [
       "<div>\n",
       "<style scoped>\n",
       "    .dataframe tbody tr th:only-of-type {\n",
       "        vertical-align: middle;\n",
       "    }\n",
       "\n",
       "    .dataframe tbody tr th {\n",
       "        vertical-align: top;\n",
       "    }\n",
       "\n",
       "    .dataframe thead th {\n",
       "        text-align: right;\n",
       "    }\n",
       "</style>\n",
       "<table border=\"1\" class=\"dataframe\">\n",
       "  <thead>\n",
       "    <tr style=\"text-align: right;\">\n",
       "      <th></th>\n",
       "      <th>MSSubClass</th>\n",
       "      <th>MSZoning</th>\n",
       "      <th>LandContour</th>\n",
       "      <th>Utilities</th>\n",
       "      <th>LotConfig</th>\n",
       "      <th>Neighborhood</th>\n",
       "      <th>BldgType</th>\n",
       "      <th>HouseStyle</th>\n",
       "      <th>OverallQual</th>\n",
       "      <th>OverallCond</th>\n",
       "      <th>...</th>\n",
       "      <th>KitchenQual</th>\n",
       "      <th>TotRmsAbvGrd</th>\n",
       "      <th>FireplaceQu</th>\n",
       "      <th>GarageCars</th>\n",
       "      <th>GarageCond</th>\n",
       "      <th>Fence</th>\n",
       "      <th>MiscVal</th>\n",
       "      <th>SaleType</th>\n",
       "      <th>SaleCondition</th>\n",
       "      <th>SalePrice</th>\n",
       "    </tr>\n",
       "  </thead>\n",
       "  <tbody>\n",
       "    <tr>\n",
       "      <th>0</th>\n",
       "      <td>60</td>\n",
       "      <td>RL</td>\n",
       "      <td>Lvl</td>\n",
       "      <td>AllPub</td>\n",
       "      <td>Inside</td>\n",
       "      <td>CollgCr</td>\n",
       "      <td>1Fam</td>\n",
       "      <td>2Story</td>\n",
       "      <td>7</td>\n",
       "      <td>5</td>\n",
       "      <td>...</td>\n",
       "      <td>Gd</td>\n",
       "      <td>8</td>\n",
       "      <td>0</td>\n",
       "      <td>2</td>\n",
       "      <td>TA</td>\n",
       "      <td>NonHave</td>\n",
       "      <td>0</td>\n",
       "      <td>WD</td>\n",
       "      <td>Normal</td>\n",
       "      <td>208500</td>\n",
       "    </tr>\n",
       "    <tr>\n",
       "      <th>1</th>\n",
       "      <td>20</td>\n",
       "      <td>RL</td>\n",
       "      <td>Lvl</td>\n",
       "      <td>AllPub</td>\n",
       "      <td>FR2</td>\n",
       "      <td>Veenker</td>\n",
       "      <td>1Fam</td>\n",
       "      <td>1Story</td>\n",
       "      <td>6</td>\n",
       "      <td>8</td>\n",
       "      <td>...</td>\n",
       "      <td>TA</td>\n",
       "      <td>6</td>\n",
       "      <td>TA</td>\n",
       "      <td>2</td>\n",
       "      <td>TA</td>\n",
       "      <td>NonHave</td>\n",
       "      <td>0</td>\n",
       "      <td>WD</td>\n",
       "      <td>Normal</td>\n",
       "      <td>181500</td>\n",
       "    </tr>\n",
       "    <tr>\n",
       "      <th>2</th>\n",
       "      <td>60</td>\n",
       "      <td>RL</td>\n",
       "      <td>Lvl</td>\n",
       "      <td>AllPub</td>\n",
       "      <td>Inside</td>\n",
       "      <td>CollgCr</td>\n",
       "      <td>1Fam</td>\n",
       "      <td>2Story</td>\n",
       "      <td>7</td>\n",
       "      <td>5</td>\n",
       "      <td>...</td>\n",
       "      <td>Gd</td>\n",
       "      <td>6</td>\n",
       "      <td>TA</td>\n",
       "      <td>2</td>\n",
       "      <td>TA</td>\n",
       "      <td>NonHave</td>\n",
       "      <td>0</td>\n",
       "      <td>WD</td>\n",
       "      <td>Normal</td>\n",
       "      <td>223500</td>\n",
       "    </tr>\n",
       "    <tr>\n",
       "      <th>3</th>\n",
       "      <td>70</td>\n",
       "      <td>RL</td>\n",
       "      <td>Lvl</td>\n",
       "      <td>AllPub</td>\n",
       "      <td>Corner</td>\n",
       "      <td>Crawfor</td>\n",
       "      <td>1Fam</td>\n",
       "      <td>2Story</td>\n",
       "      <td>7</td>\n",
       "      <td>5</td>\n",
       "      <td>...</td>\n",
       "      <td>Gd</td>\n",
       "      <td>7</td>\n",
       "      <td>Gd</td>\n",
       "      <td>3</td>\n",
       "      <td>TA</td>\n",
       "      <td>NonHave</td>\n",
       "      <td>0</td>\n",
       "      <td>WD</td>\n",
       "      <td>Abnorml</td>\n",
       "      <td>140000</td>\n",
       "    </tr>\n",
       "    <tr>\n",
       "      <th>4</th>\n",
       "      <td>60</td>\n",
       "      <td>RL</td>\n",
       "      <td>Lvl</td>\n",
       "      <td>AllPub</td>\n",
       "      <td>FR2</td>\n",
       "      <td>NoRidge</td>\n",
       "      <td>1Fam</td>\n",
       "      <td>2Story</td>\n",
       "      <td>8</td>\n",
       "      <td>5</td>\n",
       "      <td>...</td>\n",
       "      <td>Gd</td>\n",
       "      <td>9</td>\n",
       "      <td>TA</td>\n",
       "      <td>3</td>\n",
       "      <td>TA</td>\n",
       "      <td>NonHave</td>\n",
       "      <td>0</td>\n",
       "      <td>WD</td>\n",
       "      <td>Normal</td>\n",
       "      <td>250000</td>\n",
       "    </tr>\n",
       "    <tr>\n",
       "      <th>...</th>\n",
       "      <td>...</td>\n",
       "      <td>...</td>\n",
       "      <td>...</td>\n",
       "      <td>...</td>\n",
       "      <td>...</td>\n",
       "      <td>...</td>\n",
       "      <td>...</td>\n",
       "      <td>...</td>\n",
       "      <td>...</td>\n",
       "      <td>...</td>\n",
       "      <td>...</td>\n",
       "      <td>...</td>\n",
       "      <td>...</td>\n",
       "      <td>...</td>\n",
       "      <td>...</td>\n",
       "      <td>...</td>\n",
       "      <td>...</td>\n",
       "      <td>...</td>\n",
       "      <td>...</td>\n",
       "      <td>...</td>\n",
       "      <td>...</td>\n",
       "    </tr>\n",
       "    <tr>\n",
       "      <th>1455</th>\n",
       "      <td>60</td>\n",
       "      <td>RL</td>\n",
       "      <td>Lvl</td>\n",
       "      <td>AllPub</td>\n",
       "      <td>Inside</td>\n",
       "      <td>Gilbert</td>\n",
       "      <td>1Fam</td>\n",
       "      <td>2Story</td>\n",
       "      <td>6</td>\n",
       "      <td>5</td>\n",
       "      <td>...</td>\n",
       "      <td>TA</td>\n",
       "      <td>7</td>\n",
       "      <td>TA</td>\n",
       "      <td>2</td>\n",
       "      <td>TA</td>\n",
       "      <td>NonHave</td>\n",
       "      <td>0</td>\n",
       "      <td>WD</td>\n",
       "      <td>Normal</td>\n",
       "      <td>175000</td>\n",
       "    </tr>\n",
       "    <tr>\n",
       "      <th>1456</th>\n",
       "      <td>20</td>\n",
       "      <td>RL</td>\n",
       "      <td>Lvl</td>\n",
       "      <td>AllPub</td>\n",
       "      <td>Inside</td>\n",
       "      <td>NWAmes</td>\n",
       "      <td>1Fam</td>\n",
       "      <td>1Story</td>\n",
       "      <td>6</td>\n",
       "      <td>6</td>\n",
       "      <td>...</td>\n",
       "      <td>TA</td>\n",
       "      <td>7</td>\n",
       "      <td>TA</td>\n",
       "      <td>2</td>\n",
       "      <td>TA</td>\n",
       "      <td>MnPrv</td>\n",
       "      <td>0</td>\n",
       "      <td>WD</td>\n",
       "      <td>Normal</td>\n",
       "      <td>210000</td>\n",
       "    </tr>\n",
       "    <tr>\n",
       "      <th>1457</th>\n",
       "      <td>70</td>\n",
       "      <td>RL</td>\n",
       "      <td>Lvl</td>\n",
       "      <td>AllPub</td>\n",
       "      <td>Inside</td>\n",
       "      <td>Crawfor</td>\n",
       "      <td>1Fam</td>\n",
       "      <td>2Story</td>\n",
       "      <td>7</td>\n",
       "      <td>9</td>\n",
       "      <td>...</td>\n",
       "      <td>Gd</td>\n",
       "      <td>9</td>\n",
       "      <td>Gd</td>\n",
       "      <td>1</td>\n",
       "      <td>TA</td>\n",
       "      <td>GdPrv</td>\n",
       "      <td>2500</td>\n",
       "      <td>WD</td>\n",
       "      <td>Normal</td>\n",
       "      <td>266500</td>\n",
       "    </tr>\n",
       "    <tr>\n",
       "      <th>1458</th>\n",
       "      <td>20</td>\n",
       "      <td>RL</td>\n",
       "      <td>Lvl</td>\n",
       "      <td>AllPub</td>\n",
       "      <td>Inside</td>\n",
       "      <td>NAmes</td>\n",
       "      <td>1Fam</td>\n",
       "      <td>1Story</td>\n",
       "      <td>5</td>\n",
       "      <td>6</td>\n",
       "      <td>...</td>\n",
       "      <td>Gd</td>\n",
       "      <td>5</td>\n",
       "      <td>0</td>\n",
       "      <td>1</td>\n",
       "      <td>TA</td>\n",
       "      <td>NonHave</td>\n",
       "      <td>0</td>\n",
       "      <td>WD</td>\n",
       "      <td>Normal</td>\n",
       "      <td>142125</td>\n",
       "    </tr>\n",
       "    <tr>\n",
       "      <th>1459</th>\n",
       "      <td>20</td>\n",
       "      <td>RL</td>\n",
       "      <td>Lvl</td>\n",
       "      <td>AllPub</td>\n",
       "      <td>Inside</td>\n",
       "      <td>Edwards</td>\n",
       "      <td>1Fam</td>\n",
       "      <td>1Story</td>\n",
       "      <td>5</td>\n",
       "      <td>6</td>\n",
       "      <td>...</td>\n",
       "      <td>TA</td>\n",
       "      <td>6</td>\n",
       "      <td>0</td>\n",
       "      <td>1</td>\n",
       "      <td>TA</td>\n",
       "      <td>NonHave</td>\n",
       "      <td>0</td>\n",
       "      <td>WD</td>\n",
       "      <td>Normal</td>\n",
       "      <td>147500</td>\n",
       "    </tr>\n",
       "  </tbody>\n",
       "</table>\n",
       "<p>1451 rows × 30 columns</p>\n",
       "</div>"
      ],
      "text/plain": [
       "      MSSubClass MSZoning LandContour Utilities LotConfig Neighborhood  \\\n",
       "0             60       RL         Lvl    AllPub    Inside      CollgCr   \n",
       "1             20       RL         Lvl    AllPub       FR2      Veenker   \n",
       "2             60       RL         Lvl    AllPub    Inside      CollgCr   \n",
       "3             70       RL         Lvl    AllPub    Corner      Crawfor   \n",
       "4             60       RL         Lvl    AllPub       FR2      NoRidge   \n",
       "...          ...      ...         ...       ...       ...          ...   \n",
       "1455          60       RL         Lvl    AllPub    Inside      Gilbert   \n",
       "1456          20       RL         Lvl    AllPub    Inside       NWAmes   \n",
       "1457          70       RL         Lvl    AllPub    Inside      Crawfor   \n",
       "1458          20       RL         Lvl    AllPub    Inside        NAmes   \n",
       "1459          20       RL         Lvl    AllPub    Inside      Edwards   \n",
       "\n",
       "     BldgType HouseStyle  OverallQual  OverallCond  ...  KitchenQual  \\\n",
       "0        1Fam     2Story            7            5  ...           Gd   \n",
       "1        1Fam     1Story            6            8  ...           TA   \n",
       "2        1Fam     2Story            7            5  ...           Gd   \n",
       "3        1Fam     2Story            7            5  ...           Gd   \n",
       "4        1Fam     2Story            8            5  ...           Gd   \n",
       "...       ...        ...          ...          ...  ...          ...   \n",
       "1455     1Fam     2Story            6            5  ...           TA   \n",
       "1456     1Fam     1Story            6            6  ...           TA   \n",
       "1457     1Fam     2Story            7            9  ...           Gd   \n",
       "1458     1Fam     1Story            5            6  ...           Gd   \n",
       "1459     1Fam     1Story            5            6  ...           TA   \n",
       "\n",
       "     TotRmsAbvGrd FireplaceQu GarageCars GarageCond    Fence MiscVal SaleType  \\\n",
       "0               8           0          2         TA  NonHave       0       WD   \n",
       "1               6          TA          2         TA  NonHave       0       WD   \n",
       "2               6          TA          2         TA  NonHave       0       WD   \n",
       "3               7          Gd          3         TA  NonHave       0       WD   \n",
       "4               9          TA          3         TA  NonHave       0       WD   \n",
       "...           ...         ...        ...        ...      ...     ...      ...   \n",
       "1455            7          TA          2         TA  NonHave       0       WD   \n",
       "1456            7          TA          2         TA    MnPrv       0       WD   \n",
       "1457            9          Gd          1         TA    GdPrv    2500       WD   \n",
       "1458            5           0          1         TA  NonHave       0       WD   \n",
       "1459            6           0          1         TA  NonHave       0       WD   \n",
       "\n",
       "      SaleCondition  SalePrice  \n",
       "0            Normal     208500  \n",
       "1            Normal     181500  \n",
       "2            Normal     223500  \n",
       "3           Abnorml     140000  \n",
       "4            Normal     250000  \n",
       "...             ...        ...  \n",
       "1455         Normal     175000  \n",
       "1456         Normal     210000  \n",
       "1457         Normal     266500  \n",
       "1458         Normal     142125  \n",
       "1459         Normal     147500  \n",
       "\n",
       "[1451 rows x 30 columns]"
      ]
     },
     "execution_count": 10,
     "metadata": {},
     "output_type": "execute_result"
    }
   ],
   "source": [
    "train_df"
   ]
  },
  {
   "cell_type": "code",
   "execution_count": 11,
   "id": "78c4ba07",
   "metadata": {
    "execution": {
     "iopub.execute_input": "2022-06-25T09:54:30.628292Z",
     "iopub.status.busy": "2022-06-25T09:54:30.627812Z",
     "iopub.status.idle": "2022-06-25T09:54:30.639936Z",
     "shell.execute_reply": "2022-06-25T09:54:30.638621Z"
    },
    "papermill": {
     "duration": 0.028595,
     "end_time": "2022-06-25T09:54:30.642564",
     "exception": false,
     "start_time": "2022-06-25T09:54:30.613969",
     "status": "completed"
    },
    "tags": []
   },
   "outputs": [
    {
     "data": {
      "text/plain": [
       "['MSZoning',\n",
       " 'LandContour',\n",
       " 'Utilities',\n",
       " 'LotConfig',\n",
       " 'Neighborhood',\n",
       " 'BldgType',\n",
       " 'HouseStyle',\n",
       " 'ExterQual',\n",
       " 'ExterCond',\n",
       " 'BsmtCond',\n",
       " 'Heating',\n",
       " 'HeatingQC',\n",
       " 'CentralAir',\n",
       " 'Electrical',\n",
       " 'KitchenQual',\n",
       " 'FireplaceQu',\n",
       " 'GarageCond',\n",
       " 'Fence',\n",
       " 'SaleType',\n",
       " 'SaleCondition']"
      ]
     },
     "execution_count": 11,
     "metadata": {},
     "output_type": "execute_result"
    }
   ],
   "source": [
    "object_cols=train_df.select_dtypes(include=['object'])\n",
    "object_cols=object_cols.columns.to_list()\n",
    "object_cols"
   ]
  },
  {
   "cell_type": "code",
   "execution_count": 12,
   "id": "82050dd3",
   "metadata": {
    "execution": {
     "iopub.execute_input": "2022-06-25T09:54:30.669342Z",
     "iopub.status.busy": "2022-06-25T09:54:30.668839Z",
     "iopub.status.idle": "2022-06-25T09:54:30.698863Z",
     "shell.execute_reply": "2022-06-25T09:54:30.697454Z"
    },
    "papermill": {
     "duration": 0.047204,
     "end_time": "2022-06-25T09:54:30.702054",
     "exception": false,
     "start_time": "2022-06-25T09:54:30.654850",
     "status": "completed"
    },
    "tags": []
   },
   "outputs": [],
   "source": [
    "train_df=pd.get_dummies(data=train_df, columns=object_cols)"
   ]
  },
  {
   "cell_type": "code",
   "execution_count": 13,
   "id": "0d60ec0d",
   "metadata": {
    "execution": {
     "iopub.execute_input": "2022-06-25T09:54:30.728103Z",
     "iopub.status.busy": "2022-06-25T09:54:30.727656Z",
     "iopub.status.idle": "2022-06-25T09:54:30.747923Z",
     "shell.execute_reply": "2022-06-25T09:54:30.746714Z"
    },
    "papermill": {
     "duration": 0.036742,
     "end_time": "2022-06-25T09:54:30.750664",
     "exception": false,
     "start_time": "2022-06-25T09:54:30.713922",
     "status": "completed"
    },
    "tags": []
   },
   "outputs": [
    {
     "data": {
      "text/html": [
       "<div>\n",
       "<style scoped>\n",
       "    .dataframe tbody tr th:only-of-type {\n",
       "        vertical-align: middle;\n",
       "    }\n",
       "\n",
       "    .dataframe tbody tr th {\n",
       "        vertical-align: top;\n",
       "    }\n",
       "\n",
       "    .dataframe thead th {\n",
       "        text-align: right;\n",
       "    }\n",
       "</style>\n",
       "<table border=\"1\" class=\"dataframe\">\n",
       "  <thead>\n",
       "    <tr style=\"text-align: right;\">\n",
       "      <th></th>\n",
       "      <th>MSSubClass</th>\n",
       "      <th>OverallQual</th>\n",
       "      <th>OverallCond</th>\n",
       "      <th>YearRemodAdd</th>\n",
       "      <th>GrLivArea</th>\n",
       "      <th>FullBath</th>\n",
       "      <th>TotRmsAbvGrd</th>\n",
       "      <th>GarageCars</th>\n",
       "      <th>MiscVal</th>\n",
       "      <th>SalePrice</th>\n",
       "      <th>...</th>\n",
       "      <th>SaleType_ConLw</th>\n",
       "      <th>SaleType_New</th>\n",
       "      <th>SaleType_Oth</th>\n",
       "      <th>SaleType_WD</th>\n",
       "      <th>SaleCondition_Abnorml</th>\n",
       "      <th>SaleCondition_AdjLand</th>\n",
       "      <th>SaleCondition_Alloca</th>\n",
       "      <th>SaleCondition_Family</th>\n",
       "      <th>SaleCondition_Normal</th>\n",
       "      <th>SaleCondition_Partial</th>\n",
       "    </tr>\n",
       "  </thead>\n",
       "  <tbody>\n",
       "    <tr>\n",
       "      <th>0</th>\n",
       "      <td>60</td>\n",
       "      <td>7</td>\n",
       "      <td>5</td>\n",
       "      <td>2003</td>\n",
       "      <td>1710</td>\n",
       "      <td>2</td>\n",
       "      <td>8</td>\n",
       "      <td>2</td>\n",
       "      <td>0</td>\n",
       "      <td>208500</td>\n",
       "      <td>...</td>\n",
       "      <td>0</td>\n",
       "      <td>0</td>\n",
       "      <td>0</td>\n",
       "      <td>1</td>\n",
       "      <td>0</td>\n",
       "      <td>0</td>\n",
       "      <td>0</td>\n",
       "      <td>0</td>\n",
       "      <td>1</td>\n",
       "      <td>0</td>\n",
       "    </tr>\n",
       "    <tr>\n",
       "      <th>1</th>\n",
       "      <td>20</td>\n",
       "      <td>6</td>\n",
       "      <td>8</td>\n",
       "      <td>1976</td>\n",
       "      <td>1262</td>\n",
       "      <td>2</td>\n",
       "      <td>6</td>\n",
       "      <td>2</td>\n",
       "      <td>0</td>\n",
       "      <td>181500</td>\n",
       "      <td>...</td>\n",
       "      <td>0</td>\n",
       "      <td>0</td>\n",
       "      <td>0</td>\n",
       "      <td>1</td>\n",
       "      <td>0</td>\n",
       "      <td>0</td>\n",
       "      <td>0</td>\n",
       "      <td>0</td>\n",
       "      <td>1</td>\n",
       "      <td>0</td>\n",
       "    </tr>\n",
       "    <tr>\n",
       "      <th>2</th>\n",
       "      <td>60</td>\n",
       "      <td>7</td>\n",
       "      <td>5</td>\n",
       "      <td>2002</td>\n",
       "      <td>1786</td>\n",
       "      <td>2</td>\n",
       "      <td>6</td>\n",
       "      <td>2</td>\n",
       "      <td>0</td>\n",
       "      <td>223500</td>\n",
       "      <td>...</td>\n",
       "      <td>0</td>\n",
       "      <td>0</td>\n",
       "      <td>0</td>\n",
       "      <td>1</td>\n",
       "      <td>0</td>\n",
       "      <td>0</td>\n",
       "      <td>0</td>\n",
       "      <td>0</td>\n",
       "      <td>1</td>\n",
       "      <td>0</td>\n",
       "    </tr>\n",
       "    <tr>\n",
       "      <th>3</th>\n",
       "      <td>70</td>\n",
       "      <td>7</td>\n",
       "      <td>5</td>\n",
       "      <td>1970</td>\n",
       "      <td>1717</td>\n",
       "      <td>1</td>\n",
       "      <td>7</td>\n",
       "      <td>3</td>\n",
       "      <td>0</td>\n",
       "      <td>140000</td>\n",
       "      <td>...</td>\n",
       "      <td>0</td>\n",
       "      <td>0</td>\n",
       "      <td>0</td>\n",
       "      <td>1</td>\n",
       "      <td>1</td>\n",
       "      <td>0</td>\n",
       "      <td>0</td>\n",
       "      <td>0</td>\n",
       "      <td>0</td>\n",
       "      <td>0</td>\n",
       "    </tr>\n",
       "    <tr>\n",
       "      <th>4</th>\n",
       "      <td>60</td>\n",
       "      <td>8</td>\n",
       "      <td>5</td>\n",
       "      <td>2000</td>\n",
       "      <td>2198</td>\n",
       "      <td>2</td>\n",
       "      <td>9</td>\n",
       "      <td>3</td>\n",
       "      <td>0</td>\n",
       "      <td>250000</td>\n",
       "      <td>...</td>\n",
       "      <td>0</td>\n",
       "      <td>0</td>\n",
       "      <td>0</td>\n",
       "      <td>1</td>\n",
       "      <td>0</td>\n",
       "      <td>0</td>\n",
       "      <td>0</td>\n",
       "      <td>0</td>\n",
       "      <td>1</td>\n",
       "      <td>0</td>\n",
       "    </tr>\n",
       "  </tbody>\n",
       "</table>\n",
       "<p>5 rows × 132 columns</p>\n",
       "</div>"
      ],
      "text/plain": [
       "   MSSubClass  OverallQual  OverallCond  YearRemodAdd  GrLivArea  FullBath  \\\n",
       "0          60            7            5          2003       1710         2   \n",
       "1          20            6            8          1976       1262         2   \n",
       "2          60            7            5          2002       1786         2   \n",
       "3          70            7            5          1970       1717         1   \n",
       "4          60            8            5          2000       2198         2   \n",
       "\n",
       "   TotRmsAbvGrd  GarageCars  MiscVal  SalePrice  ...  SaleType_ConLw  \\\n",
       "0             8           2        0     208500  ...               0   \n",
       "1             6           2        0     181500  ...               0   \n",
       "2             6           2        0     223500  ...               0   \n",
       "3             7           3        0     140000  ...               0   \n",
       "4             9           3        0     250000  ...               0   \n",
       "\n",
       "   SaleType_New  SaleType_Oth  SaleType_WD  SaleCondition_Abnorml  \\\n",
       "0             0             0            1                      0   \n",
       "1             0             0            1                      0   \n",
       "2             0             0            1                      0   \n",
       "3             0             0            1                      1   \n",
       "4             0             0            1                      0   \n",
       "\n",
       "   SaleCondition_AdjLand  SaleCondition_Alloca  SaleCondition_Family  \\\n",
       "0                      0                     0                     0   \n",
       "1                      0                     0                     0   \n",
       "2                      0                     0                     0   \n",
       "3                      0                     0                     0   \n",
       "4                      0                     0                     0   \n",
       "\n",
       "   SaleCondition_Normal  SaleCondition_Partial  \n",
       "0                     1                      0  \n",
       "1                     1                      0  \n",
       "2                     1                      0  \n",
       "3                     0                      0  \n",
       "4                     1                      0  \n",
       "\n",
       "[5 rows x 132 columns]"
      ]
     },
     "execution_count": 13,
     "metadata": {},
     "output_type": "execute_result"
    }
   ],
   "source": [
    "train_df.head()"
   ]
  },
  {
   "cell_type": "code",
   "execution_count": 14,
   "id": "01f7eb19",
   "metadata": {
    "execution": {
     "iopub.execute_input": "2022-06-25T09:54:30.777058Z",
     "iopub.status.busy": "2022-06-25T09:54:30.776613Z",
     "iopub.status.idle": "2022-06-25T09:54:30.781714Z",
     "shell.execute_reply": "2022-06-25T09:54:30.780623Z"
    },
    "papermill": {
     "duration": 0.021426,
     "end_time": "2022-06-25T09:54:30.784168",
     "exception": false,
     "start_time": "2022-06-25T09:54:30.762742",
     "status": "completed"
    },
    "tags": []
   },
   "outputs": [],
   "source": [
    "features=train_df.columns.tolist()\n",
    "features.remove('SalePrice')"
   ]
  },
  {
   "cell_type": "code",
   "execution_count": 15,
   "id": "56fd5878",
   "metadata": {
    "execution": {
     "iopub.execute_input": "2022-06-25T09:54:30.810337Z",
     "iopub.status.busy": "2022-06-25T09:54:30.809862Z",
     "iopub.status.idle": "2022-06-25T09:54:32.175922Z",
     "shell.execute_reply": "2022-06-25T09:54:32.174523Z"
    },
    "papermill": {
     "duration": 1.382451,
     "end_time": "2022-06-25T09:54:32.178984",
     "exception": false,
     "start_time": "2022-06-25T09:54:30.796533",
     "status": "completed"
    },
    "tags": []
   },
   "outputs": [],
   "source": [
    "from sklearn.model_selection import train_test_split\n",
    "X_train, X_test, y_train, y_test = train_test_split(train_df[features], train_df[target], test_size=0.2, random_state=123)"
   ]
  },
  {
   "cell_type": "markdown",
   "id": "2d9a361b",
   "metadata": {
    "papermill": {
     "duration": 0.01156,
     "end_time": "2022-06-25T09:54:32.203078",
     "exception": false,
     "start_time": "2022-06-25T09:54:32.191518",
     "status": "completed"
    },
    "tags": []
   },
   "source": [
    "## Técnicas multiples de regresión "
   ]
  },
  {
   "cell_type": "markdown",
   "id": "91d6c595",
   "metadata": {
    "papermill": {
     "duration": 0.011996,
     "end_time": "2022-06-25T09:54:32.227244",
     "exception": false,
     "start_time": "2022-06-25T09:54:32.215248",
     "status": "completed"
    },
    "tags": []
   },
   "source": [
    "### Regresión lineal multiple"
   ]
  },
  {
   "cell_type": "code",
   "execution_count": 16,
   "id": "ae6ca733",
   "metadata": {
    "execution": {
     "iopub.execute_input": "2022-06-25T09:54:32.254818Z",
     "iopub.status.busy": "2022-06-25T09:54:32.254006Z",
     "iopub.status.idle": "2022-06-25T09:54:32.398053Z",
     "shell.execute_reply": "2022-06-25T09:54:32.396831Z"
    },
    "papermill": {
     "duration": 0.162365,
     "end_time": "2022-06-25T09:54:32.401941",
     "exception": false,
     "start_time": "2022-06-25T09:54:32.239576",
     "status": "completed"
    },
    "tags": []
   },
   "outputs": [
    {
     "data": {
      "text/plain": [
       "LinearRegression()"
      ]
     },
     "execution_count": 16,
     "metadata": {},
     "output_type": "execute_result"
    }
   ],
   "source": [
    "from sklearn.linear_model import LinearRegression\n",
    "\n",
    "linearregress = LinearRegression()\n",
    "\n",
    "linearregress.fit(X_train, y_train)"
   ]
  },
  {
   "cell_type": "code",
   "execution_count": 17,
   "id": "2fb267cb",
   "metadata": {
    "execution": {
     "iopub.execute_input": "2022-06-25T09:54:32.451130Z",
     "iopub.status.busy": "2022-06-25T09:54:32.450381Z",
     "iopub.status.idle": "2022-06-25T09:54:32.498456Z",
     "shell.execute_reply": "2022-06-25T09:54:32.496099Z"
    },
    "papermill": {
     "duration": 0.078982,
     "end_time": "2022-06-25T09:54:32.503671",
     "exception": false,
     "start_time": "2022-06-25T09:54:32.424689",
     "status": "completed"
    },
    "tags": []
   },
   "outputs": [
    {
     "data": {
      "text/plain": [
       "19681.74796596476"
      ]
     },
     "execution_count": 17,
     "metadata": {},
     "output_type": "execute_result"
    }
   ],
   "source": [
    "from sklearn.metrics import mean_absolute_error\n",
    "\n",
    "predicted_linear = linearregress.predict(X_test)\n",
    "linear_error=mean_absolute_error(y_test, predicted_linear)\n",
    "linear_error"
   ]
  },
  {
   "cell_type": "markdown",
   "id": "c45e6fa4",
   "metadata": {
    "papermill": {
     "duration": 0.022596,
     "end_time": "2022-06-25T09:54:32.551052",
     "exception": false,
     "start_time": "2022-06-25T09:54:32.528456",
     "status": "completed"
    },
    "tags": []
   },
   "source": [
    "### Árbol de decisión"
   ]
  },
  {
   "cell_type": "code",
   "execution_count": 18,
   "id": "a52e29cf",
   "metadata": {
    "execution": {
     "iopub.execute_input": "2022-06-25T09:54:32.595976Z",
     "iopub.status.busy": "2022-06-25T09:54:32.595505Z",
     "iopub.status.idle": "2022-06-25T09:54:32.712350Z",
     "shell.execute_reply": "2022-06-25T09:54:32.710908Z"
    },
    "papermill": {
     "duration": 0.141493,
     "end_time": "2022-06-25T09:54:32.715325",
     "exception": false,
     "start_time": "2022-06-25T09:54:32.573832",
     "status": "completed"
    },
    "tags": []
   },
   "outputs": [
    {
     "data": {
      "text/plain": [
       "DecisionTreeRegressor(random_state=123)"
      ]
     },
     "execution_count": 18,
     "metadata": {},
     "output_type": "execute_result"
    }
   ],
   "source": [
    "from sklearn.tree import DecisionTreeRegressor\n",
    "\n",
    "treeregress = DecisionTreeRegressor(random_state=123)\n",
    "\n",
    "treeregress.fit(X_train, y_train)"
   ]
  },
  {
   "cell_type": "code",
   "execution_count": 19,
   "id": "1a8aea0e",
   "metadata": {
    "execution": {
     "iopub.execute_input": "2022-06-25T09:54:32.742080Z",
     "iopub.status.busy": "2022-06-25T09:54:32.741607Z",
     "iopub.status.idle": "2022-06-25T09:54:32.757085Z",
     "shell.execute_reply": "2022-06-25T09:54:32.755913Z"
    },
    "papermill": {
     "duration": 0.031977,
     "end_time": "2022-06-25T09:54:32.759684",
     "exception": false,
     "start_time": "2022-06-25T09:54:32.727707",
     "status": "completed"
    },
    "tags": []
   },
   "outputs": [
    {
     "data": {
      "text/plain": [
       "29539.1529209622"
      ]
     },
     "execution_count": 19,
     "metadata": {},
     "output_type": "execute_result"
    }
   ],
   "source": [
    "from sklearn.metrics import mean_absolute_error\n",
    "\n",
    "predicted_tree = treeregress.predict(X_test)\n",
    "tree_error=mean_absolute_error(y_test, predicted_tree)\n",
    "tree_error"
   ]
  },
  {
   "cell_type": "markdown",
   "id": "ffe5405d",
   "metadata": {
    "papermill": {
     "duration": 0.012078,
     "end_time": "2022-06-25T09:54:32.784453",
     "exception": false,
     "start_time": "2022-06-25T09:54:32.772375",
     "status": "completed"
    },
    "tags": []
   },
   "source": [
    "### Random Forest"
   ]
  },
  {
   "cell_type": "code",
   "execution_count": 20,
   "id": "a71e7a37",
   "metadata": {
    "execution": {
     "iopub.execute_input": "2022-06-25T09:54:32.812077Z",
     "iopub.status.busy": "2022-06-25T09:54:32.811578Z",
     "iopub.status.idle": "2022-06-25T09:54:34.022376Z",
     "shell.execute_reply": "2022-06-25T09:54:34.021003Z"
    },
    "papermill": {
     "duration": 1.228124,
     "end_time": "2022-06-25T09:54:34.025281",
     "exception": false,
     "start_time": "2022-06-25T09:54:32.797157",
     "status": "completed"
    },
    "tags": []
   },
   "outputs": [
    {
     "name": "stderr",
     "output_type": "stream",
     "text": [
      "/opt/conda/lib/python3.7/site-packages/ipykernel_launcher.py:4: DataConversionWarning: A column-vector y was passed when a 1d array was expected. Please change the shape of y to (n_samples,), for example using ravel().\n",
      "  after removing the cwd from sys.path.\n"
     ]
    },
    {
     "data": {
      "text/plain": [
       "RandomForestRegressor(random_state=123)"
      ]
     },
     "execution_count": 20,
     "metadata": {},
     "output_type": "execute_result"
    }
   ],
   "source": [
    "from sklearn.ensemble import RandomForestRegressor\n",
    "randomregress = RandomForestRegressor(random_state=123)\n",
    "\n",
    "randomregress.fit(X_train, y_train)"
   ]
  },
  {
   "cell_type": "code",
   "execution_count": 21,
   "id": "f09cbc8b",
   "metadata": {
    "execution": {
     "iopub.execute_input": "2022-06-25T09:54:34.053888Z",
     "iopub.status.busy": "2022-06-25T09:54:34.053367Z",
     "iopub.status.idle": "2022-06-25T09:54:34.089289Z",
     "shell.execute_reply": "2022-06-25T09:54:34.087941Z"
    },
    "papermill": {
     "duration": 0.053695,
     "end_time": "2022-06-25T09:54:34.092148",
     "exception": false,
     "start_time": "2022-06-25T09:54:34.038453",
     "status": "completed"
    },
    "tags": []
   },
   "outputs": [
    {
     "data": {
      "text/plain": [
       "19252.439080756012"
      ]
     },
     "execution_count": 21,
     "metadata": {},
     "output_type": "execute_result"
    }
   ],
   "source": [
    "predicted_random = randomregress.predict(X_test)\n",
    "random_error=mean_absolute_error(y_test, predicted_random)\n",
    "random_error"
   ]
  },
  {
   "cell_type": "markdown",
   "id": "2a2f57c6",
   "metadata": {
    "papermill": {
     "duration": 0.012456,
     "end_time": "2022-06-25T09:54:34.117958",
     "exception": false,
     "start_time": "2022-06-25T09:54:34.105502",
     "status": "completed"
    },
    "tags": []
   },
   "source": [
    "### XG REGRESSOR"
   ]
  },
  {
   "cell_type": "code",
   "execution_count": 22,
   "id": "0ac37a18",
   "metadata": {
    "execution": {
     "iopub.execute_input": "2022-06-25T09:54:34.146463Z",
     "iopub.status.busy": "2022-06-25T09:54:34.145485Z",
     "iopub.status.idle": "2022-06-25T09:54:34.262256Z",
     "shell.execute_reply": "2022-06-25T09:54:34.260885Z"
    },
    "papermill": {
     "duration": 0.134767,
     "end_time": "2022-06-25T09:54:34.265694",
     "exception": false,
     "start_time": "2022-06-25T09:54:34.130927",
     "status": "completed"
    },
    "tags": []
   },
   "outputs": [],
   "source": [
    "from xgboost import XGBRegressor\n",
    "from sklearn.model_selection import GridSearchCV, RepeatedKFold\n",
    "import multiprocessing"
   ]
  },
  {
   "cell_type": "code",
   "execution_count": 23,
   "id": "a347e5b6",
   "metadata": {
    "execution": {
     "iopub.execute_input": "2022-06-25T09:54:34.294682Z",
     "iopub.status.busy": "2022-06-25T09:54:34.293821Z",
     "iopub.status.idle": "2022-06-25T09:57:32.942810Z",
     "shell.execute_reply": "2022-06-25T09:57:32.941318Z"
    },
    "papermill": {
     "duration": 178.66696,
     "end_time": "2022-06-25T09:57:32.945773",
     "exception": false,
     "start_time": "2022-06-25T09:54:34.278813",
     "status": "completed"
    },
    "tags": []
   },
   "outputs": [
    {
     "name": "stderr",
     "output_type": "stream",
     "text": [
      "/opt/conda/lib/python3.7/site-packages/xgboost/sklearn.py:797: UserWarning: `eval_metric` in `fit` method is deprecated for better compatibility with scikit-learn, use `eval_metric` in constructor or`set_params` instead.\n",
      "  UserWarning,\n",
      "/opt/conda/lib/python3.7/site-packages/xgboost/sklearn.py:797: UserWarning: `early_stopping_rounds` in `fit` method is deprecated for better compatibility with scikit-learn, use `early_stopping_rounds` in constructor or`set_params` instead.\n",
      "  UserWarning,\n",
      "/opt/conda/lib/python3.7/site-packages/xgboost/sklearn.py:797: UserWarning: `eval_metric` in `fit` method is deprecated for better compatibility with scikit-learn, use `eval_metric` in constructor or`set_params` instead.\n",
      "  UserWarning,\n",
      "/opt/conda/lib/python3.7/site-packages/xgboost/sklearn.py:797: UserWarning: `early_stopping_rounds` in `fit` method is deprecated for better compatibility with scikit-learn, use `early_stopping_rounds` in constructor or`set_params` instead.\n",
      "  UserWarning,\n",
      "/opt/conda/lib/python3.7/site-packages/xgboost/sklearn.py:797: UserWarning: `eval_metric` in `fit` method is deprecated for better compatibility with scikit-learn, use `eval_metric` in constructor or`set_params` instead.\n",
      "  UserWarning,\n",
      "/opt/conda/lib/python3.7/site-packages/xgboost/sklearn.py:797: UserWarning: `early_stopping_rounds` in `fit` method is deprecated for better compatibility with scikit-learn, use `early_stopping_rounds` in constructor or`set_params` instead.\n",
      "  UserWarning,\n",
      "/opt/conda/lib/python3.7/site-packages/xgboost/sklearn.py:797: UserWarning: `eval_metric` in `fit` method is deprecated for better compatibility with scikit-learn, use `eval_metric` in constructor or`set_params` instead.\n",
      "  UserWarning,\n",
      "/opt/conda/lib/python3.7/site-packages/xgboost/sklearn.py:797: UserWarning: `early_stopping_rounds` in `fit` method is deprecated for better compatibility with scikit-learn, use `early_stopping_rounds` in constructor or`set_params` instead.\n",
      "  UserWarning,\n",
      "/opt/conda/lib/python3.7/site-packages/xgboost/sklearn.py:797: UserWarning: `eval_metric` in `fit` method is deprecated for better compatibility with scikit-learn, use `eval_metric` in constructor or`set_params` instead.\n",
      "  UserWarning,\n",
      "/opt/conda/lib/python3.7/site-packages/xgboost/sklearn.py:797: UserWarning: `early_stopping_rounds` in `fit` method is deprecated for better compatibility with scikit-learn, use `early_stopping_rounds` in constructor or`set_params` instead.\n",
      "  UserWarning,\n",
      "/opt/conda/lib/python3.7/site-packages/xgboost/sklearn.py:797: UserWarning: `eval_metric` in `fit` method is deprecated for better compatibility with scikit-learn, use `eval_metric` in constructor or`set_params` instead.\n",
      "  UserWarning,\n",
      "/opt/conda/lib/python3.7/site-packages/xgboost/sklearn.py:797: UserWarning: `early_stopping_rounds` in `fit` method is deprecated for better compatibility with scikit-learn, use `early_stopping_rounds` in constructor or`set_params` instead.\n",
      "  UserWarning,\n",
      "/opt/conda/lib/python3.7/site-packages/xgboost/sklearn.py:797: UserWarning: `eval_metric` in `fit` method is deprecated for better compatibility with scikit-learn, use `eval_metric` in constructor or`set_params` instead.\n",
      "  UserWarning,\n",
      "/opt/conda/lib/python3.7/site-packages/xgboost/sklearn.py:797: UserWarning: `early_stopping_rounds` in `fit` method is deprecated for better compatibility with scikit-learn, use `early_stopping_rounds` in constructor or`set_params` instead.\n",
      "  UserWarning,\n",
      "/opt/conda/lib/python3.7/site-packages/xgboost/sklearn.py:797: UserWarning: `eval_metric` in `fit` method is deprecated for better compatibility with scikit-learn, use `eval_metric` in constructor or`set_params` instead.\n",
      "  UserWarning,\n",
      "/opt/conda/lib/python3.7/site-packages/xgboost/sklearn.py:797: UserWarning: `early_stopping_rounds` in `fit` method is deprecated for better compatibility with scikit-learn, use `early_stopping_rounds` in constructor or`set_params` instead.\n",
      "  UserWarning,\n",
      "/opt/conda/lib/python3.7/site-packages/xgboost/sklearn.py:797: UserWarning: `eval_metric` in `fit` method is deprecated for better compatibility with scikit-learn, use `eval_metric` in constructor or`set_params` instead.\n",
      "  UserWarning,\n",
      "/opt/conda/lib/python3.7/site-packages/xgboost/sklearn.py:797: UserWarning: `early_stopping_rounds` in `fit` method is deprecated for better compatibility with scikit-learn, use `early_stopping_rounds` in constructor or`set_params` instead.\n",
      "  UserWarning,\n",
      "/opt/conda/lib/python3.7/site-packages/xgboost/sklearn.py:797: UserWarning: `eval_metric` in `fit` method is deprecated for better compatibility with scikit-learn, use `eval_metric` in constructor or`set_params` instead.\n",
      "  UserWarning,\n",
      "/opt/conda/lib/python3.7/site-packages/xgboost/sklearn.py:797: UserWarning: `early_stopping_rounds` in `fit` method is deprecated for better compatibility with scikit-learn, use `early_stopping_rounds` in constructor or`set_params` instead.\n",
      "  UserWarning,\n",
      "/opt/conda/lib/python3.7/site-packages/xgboost/sklearn.py:797: UserWarning: `eval_metric` in `fit` method is deprecated for better compatibility with scikit-learn, use `eval_metric` in constructor or`set_params` instead.\n",
      "  UserWarning,\n",
      "/opt/conda/lib/python3.7/site-packages/xgboost/sklearn.py:797: UserWarning: `early_stopping_rounds` in `fit` method is deprecated for better compatibility with scikit-learn, use `early_stopping_rounds` in constructor or`set_params` instead.\n",
      "  UserWarning,\n",
      "/opt/conda/lib/python3.7/site-packages/xgboost/sklearn.py:797: UserWarning: `eval_metric` in `fit` method is deprecated for better compatibility with scikit-learn, use `eval_metric` in constructor or`set_params` instead.\n",
      "  UserWarning,\n",
      "/opt/conda/lib/python3.7/site-packages/xgboost/sklearn.py:797: UserWarning: `early_stopping_rounds` in `fit` method is deprecated for better compatibility with scikit-learn, use `early_stopping_rounds` in constructor or`set_params` instead.\n",
      "  UserWarning,\n",
      "/opt/conda/lib/python3.7/site-packages/xgboost/sklearn.py:797: UserWarning: `eval_metric` in `fit` method is deprecated for better compatibility with scikit-learn, use `eval_metric` in constructor or`set_params` instead.\n",
      "  UserWarning,\n",
      "/opt/conda/lib/python3.7/site-packages/xgboost/sklearn.py:797: UserWarning: `early_stopping_rounds` in `fit` method is deprecated for better compatibility with scikit-learn, use `early_stopping_rounds` in constructor or`set_params` instead.\n",
      "  UserWarning,\n",
      "/opt/conda/lib/python3.7/site-packages/xgboost/sklearn.py:797: UserWarning: `eval_metric` in `fit` method is deprecated for better compatibility with scikit-learn, use `eval_metric` in constructor or`set_params` instead.\n",
      "  UserWarning,\n",
      "/opt/conda/lib/python3.7/site-packages/xgboost/sklearn.py:797: UserWarning: `early_stopping_rounds` in `fit` method is deprecated for better compatibility with scikit-learn, use `early_stopping_rounds` in constructor or`set_params` instead.\n",
      "  UserWarning,\n",
      "/opt/conda/lib/python3.7/site-packages/xgboost/sklearn.py:797: UserWarning: `eval_metric` in `fit` method is deprecated for better compatibility with scikit-learn, use `eval_metric` in constructor or`set_params` instead.\n",
      "  UserWarning,\n",
      "/opt/conda/lib/python3.7/site-packages/xgboost/sklearn.py:797: UserWarning: `early_stopping_rounds` in `fit` method is deprecated for better compatibility with scikit-learn, use `early_stopping_rounds` in constructor or`set_params` instead.\n",
      "  UserWarning,\n",
      "/opt/conda/lib/python3.7/site-packages/xgboost/sklearn.py:797: UserWarning: `eval_metric` in `fit` method is deprecated for better compatibility with scikit-learn, use `eval_metric` in constructor or`set_params` instead.\n",
      "  UserWarning,\n",
      "/opt/conda/lib/python3.7/site-packages/xgboost/sklearn.py:797: UserWarning: `early_stopping_rounds` in `fit` method is deprecated for better compatibility with scikit-learn, use `early_stopping_rounds` in constructor or`set_params` instead.\n",
      "  UserWarning,\n",
      "/opt/conda/lib/python3.7/site-packages/xgboost/sklearn.py:797: UserWarning: `eval_metric` in `fit` method is deprecated for better compatibility with scikit-learn, use `eval_metric` in constructor or`set_params` instead.\n",
      "  UserWarning,\n",
      "/opt/conda/lib/python3.7/site-packages/xgboost/sklearn.py:797: UserWarning: `early_stopping_rounds` in `fit` method is deprecated for better compatibility with scikit-learn, use `early_stopping_rounds` in constructor or`set_params` instead.\n",
      "  UserWarning,\n",
      "/opt/conda/lib/python3.7/site-packages/xgboost/sklearn.py:797: UserWarning: `eval_metric` in `fit` method is deprecated for better compatibility with scikit-learn, use `eval_metric` in constructor or`set_params` instead.\n",
      "  UserWarning,\n",
      "/opt/conda/lib/python3.7/site-packages/xgboost/sklearn.py:797: UserWarning: `early_stopping_rounds` in `fit` method is deprecated for better compatibility with scikit-learn, use `early_stopping_rounds` in constructor or`set_params` instead.\n",
      "  UserWarning,\n"
     ]
    },
    {
     "data": {
      "text/html": [
       "<div>\n",
       "<style scoped>\n",
       "    .dataframe tbody tr th:only-of-type {\n",
       "        vertical-align: middle;\n",
       "    }\n",
       "\n",
       "    .dataframe tbody tr th {\n",
       "        vertical-align: top;\n",
       "    }\n",
       "\n",
       "    .dataframe thead th {\n",
       "        text-align: right;\n",
       "    }\n",
       "</style>\n",
       "<table border=\"1\" class=\"dataframe\">\n",
       "  <thead>\n",
       "    <tr style=\"text-align: right;\">\n",
       "      <th></th>\n",
       "      <th>param_booster</th>\n",
       "      <th>param_learning_rate</th>\n",
       "      <th>param_max_depth</th>\n",
       "      <th>param_subsample</th>\n",
       "      <th>mean_test_score</th>\n",
       "      <th>std_test_score</th>\n",
       "      <th>mean_train_score</th>\n",
       "      <th>std_train_score</th>\n",
       "    </tr>\n",
       "  </thead>\n",
       "  <tbody>\n",
       "    <tr>\n",
       "      <th>4</th>\n",
       "      <td>gbtree</td>\n",
       "      <td>0.01</td>\n",
       "      <td>10</td>\n",
       "      <td>0.5</td>\n",
       "      <td>-17971.485060</td>\n",
       "      <td>615.251600</td>\n",
       "      <td>-5417.034778</td>\n",
       "      <td>1803.778745</td>\n",
       "    </tr>\n",
       "    <tr>\n",
       "      <th>6</th>\n",
       "      <td>gbtree</td>\n",
       "      <td>0.01</td>\n",
       "      <td>20</td>\n",
       "      <td>0.5</td>\n",
       "      <td>-18100.001168</td>\n",
       "      <td>596.747473</td>\n",
       "      <td>-3368.511946</td>\n",
       "      <td>2276.046871</td>\n",
       "    </tr>\n",
       "    <tr>\n",
       "      <th>2</th>\n",
       "      <td>gbtree</td>\n",
       "      <td>0.01</td>\n",
       "      <td>5</td>\n",
       "      <td>0.5</td>\n",
       "      <td>-18180.219060</td>\n",
       "      <td>641.654386</td>\n",
       "      <td>-10502.390669</td>\n",
       "      <td>937.118021</td>\n",
       "    </tr>\n",
       "    <tr>\n",
       "      <th>9</th>\n",
       "      <td>gbtree</td>\n",
       "      <td>0.1</td>\n",
       "      <td>3</td>\n",
       "      <td>1</td>\n",
       "      <td>-18526.246532</td>\n",
       "      <td>626.158566</td>\n",
       "      <td>-8994.605419</td>\n",
       "      <td>2349.718247</td>\n",
       "    </tr>\n",
       "  </tbody>\n",
       "</table>\n",
       "</div>"
      ],
      "text/plain": [
       "  param_booster param_learning_rate param_max_depth param_subsample  \\\n",
       "4        gbtree                0.01              10             0.5   \n",
       "6        gbtree                0.01              20             0.5   \n",
       "2        gbtree                0.01               5             0.5   \n",
       "9        gbtree                 0.1               3               1   \n",
       "\n",
       "   mean_test_score  std_test_score  mean_train_score  std_train_score  \n",
       "4    -17971.485060      615.251600      -5417.034778      1803.778745  \n",
       "6    -18100.001168      596.747473      -3368.511946      2276.046871  \n",
       "2    -18180.219060      641.654386     -10502.390669       937.118021  \n",
       "9    -18526.246532      626.158566      -8994.605419      2349.718247  "
      ]
     },
     "execution_count": 23,
     "metadata": {},
     "output_type": "execute_result"
    }
   ],
   "source": [
    "# Grid de hiperparámetros evaluados\n",
    "# ==============================================================================\n",
    "param_grid = {'max_depth'        : [3, 5, 10, 20],\n",
    "              'subsample'        : [0.5, 1],\n",
    "              'learning_rate'    : [0.01, 0.1],\n",
    "              'booster'          : ['gbtree']\n",
    "             }\n",
    "\n",
    "\n",
    "# Crear conjunto de validación\n",
    "# ==============================================================================\n",
    "np.random.seed(123)\n",
    "idx_validacion = np.random.choice(\n",
    "                    X_train.shape[0],\n",
    "                    size= int(X_train.shape[0]*0.1),\n",
    "                    replace=False\n",
    "                 )\n",
    "\n",
    "X_val = X_train.iloc[idx_validacion, :].copy()\n",
    "y_val = y_train.iloc[idx_validacion].copy()\n",
    "\n",
    "X_train_grid = X_train.reset_index(drop = True).drop(idx_validacion, axis = 0).copy()\n",
    "y_train_grid = y_train.reset_index(drop = True).drop(idx_validacion, axis = 0).copy()\n",
    "\n",
    "# XGBoost necesita pasar los paramétros específicos del entrenamiento al llamar\n",
    "# al método .fit()\n",
    "fit_params = {\"early_stopping_rounds\" : 5, \n",
    "              \"eval_metric\"           : \"rmse\", \n",
    "              \"eval_set\"              : [(X_val, y_val)],\n",
    "              \"verbose\"               : 0\n",
    "             }\n",
    "\n",
    "# Búsqueda por grid search con validación cruzada\n",
    "# ==============================================================================\n",
    "grid = GridSearchCV(\n",
    "        estimator  = XGBRegressor(\n",
    "                        n_estimators = 1000,\n",
    "                        random_state = 123\n",
    "                    ),\n",
    "        param_grid = param_grid,\n",
    "        scoring    = 'neg_mean_absolute_error',\n",
    "        n_jobs     = multiprocessing.cpu_count() - 1,\n",
    "        cv         = RepeatedKFold(n_splits=3, n_repeats=1, random_state=123), \n",
    "        refit      = True,\n",
    "        verbose    = 0,\n",
    "        return_train_score = True\n",
    "       )\n",
    "\n",
    "grid.fit(X = X_train, y = y_train, **fit_params)\n",
    "\n",
    "# Resultados\n",
    "# ==============================================================================\n",
    "resultados = pd.DataFrame(grid.cv_results_)\n",
    "resultados.filter(regex = '(param.*|mean_t|std_t)') \\\n",
    "    .drop(columns = 'params') \\\n",
    "    .sort_values('mean_test_score', ascending = False) \\\n",
    "    .head(4)"
   ]
  },
  {
   "cell_type": "code",
   "execution_count": 24,
   "id": "6fa56f55",
   "metadata": {
    "execution": {
     "iopub.execute_input": "2022-06-25T09:57:32.976633Z",
     "iopub.status.busy": "2022-06-25T09:57:32.975755Z",
     "iopub.status.idle": "2022-06-25T09:57:33.325930Z",
     "shell.execute_reply": "2022-06-25T09:57:33.324817Z"
    },
    "papermill": {
     "duration": 0.369291,
     "end_time": "2022-06-25T09:57:33.328789",
     "exception": false,
     "start_time": "2022-06-25T09:57:32.959498",
     "status": "completed"
    },
    "tags": []
   },
   "outputs": [
    {
     "name": "stdout",
     "output_type": "stream",
     "text": [
      "----------------------------------------\n",
      "Mejores hiperparámetros encontrados (cv)\n",
      "----------------------------------------\n",
      "{'booster': 'gbtree', 'learning_rate': 0.01, 'max_depth': 10, 'subsample': 0.5} : -17971.485059992305 neg_mean_absolute_error\n",
      "Número de árboles incluidos en el modelo: 1000\n"
     ]
    }
   ],
   "source": [
    "# Mejores hiperparámetros por validación cruzada\n",
    "# ==============================================================================\n",
    "print(\"----------------------------------------\")\n",
    "print(\"Mejores hiperparámetros encontrados (cv)\")\n",
    "print(\"----------------------------------------\")\n",
    "print(grid.best_params_, \":\", grid.best_score_, grid.scoring)\n",
    "\n",
    "# Número de árboles del modelo final (early stopping)\n",
    "# ==============================================================================\n",
    "n_arboles_incluidos = len(grid.best_estimator_.get_booster().get_dump())\n",
    "print(f\"Número de árboles incluidos en el modelo: {n_arboles_incluidos}\")"
   ]
  },
  {
   "cell_type": "code",
   "execution_count": 25,
   "id": "56f09178",
   "metadata": {
    "execution": {
     "iopub.execute_input": "2022-06-25T09:57:33.360911Z",
     "iopub.status.busy": "2022-06-25T09:57:33.360020Z",
     "iopub.status.idle": "2022-06-25T09:57:33.403068Z",
     "shell.execute_reply": "2022-06-25T09:57:33.401960Z"
    },
    "papermill": {
     "duration": 0.064038,
     "end_time": "2022-06-25T09:57:33.406541",
     "exception": false,
     "start_time": "2022-06-25T09:57:33.342503",
     "status": "completed"
    },
    "tags": []
   },
   "outputs": [
    {
     "data": {
      "text/plain": [
       "18131.464347079036"
      ]
     },
     "execution_count": 25,
     "metadata": {},
     "output_type": "execute_result"
    }
   ],
   "source": [
    "XGregress = grid.best_estimator_\n",
    "predicted_XG = XGregress.predict(X_test)\n",
    "XG_error=mean_absolute_error(y_test, predicted_XG)\n",
    "XG_error"
   ]
  },
  {
   "cell_type": "markdown",
   "id": "72091394",
   "metadata": {
    "papermill": {
     "duration": 0.013995,
     "end_time": "2022-06-25T09:57:33.434765",
     "exception": false,
     "start_time": "2022-06-25T09:57:33.420770",
     "status": "completed"
    },
    "tags": []
   },
   "source": [
    "### LightGBM\n",
    "\n",
    "*Añadimos GridSearchCV"
   ]
  },
  {
   "cell_type": "code",
   "execution_count": 26,
   "id": "fd828849",
   "metadata": {
    "execution": {
     "iopub.execute_input": "2022-06-25T09:57:33.466130Z",
     "iopub.status.busy": "2022-06-25T09:57:33.464884Z",
     "iopub.status.idle": "2022-06-25T09:57:34.606998Z",
     "shell.execute_reply": "2022-06-25T09:57:34.605631Z"
    },
    "papermill": {
     "duration": 1.161163,
     "end_time": "2022-06-25T09:57:34.610238",
     "exception": false,
     "start_time": "2022-06-25T09:57:33.449075",
     "status": "completed"
    },
    "tags": []
   },
   "outputs": [
    {
     "data": {
      "text/html": [
       "<style type='text/css'>\n",
       ".datatable table.frame { margin-bottom: 0; }\n",
       ".datatable table.frame thead { border-bottom: none; }\n",
       ".datatable table.frame tr.coltypes td {  color: #FFFFFF;  line-height: 6px;  padding: 0 0.5em;}\n",
       ".datatable .bool    { background: #DDDD99; }\n",
       ".datatable .object  { background: #565656; }\n",
       ".datatable .int     { background: #5D9E5D; }\n",
       ".datatable .float   { background: #4040CC; }\n",
       ".datatable .str     { background: #CC4040; }\n",
       ".datatable .time    { background: #40CC40; }\n",
       ".datatable .row_index {  background: var(--jp-border-color3);  border-right: 1px solid var(--jp-border-color0);  color: var(--jp-ui-font-color3);  font-size: 9px;}\n",
       ".datatable .frame tbody td { text-align: left; }\n",
       ".datatable .frame tr.coltypes .row_index {  background: var(--jp-border-color0);}\n",
       ".datatable th:nth-child(2) { padding-left: 12px; }\n",
       ".datatable .hellipsis {  color: var(--jp-cell-editor-border-color);}\n",
       ".datatable .vellipsis {  background: var(--jp-layout-color0);  color: var(--jp-cell-editor-border-color);}\n",
       ".datatable .na {  color: var(--jp-cell-editor-border-color);  font-size: 80%;}\n",
       ".datatable .sp {  opacity: 0.25;}\n",
       ".datatable .footer { font-size: 9px; }\n",
       ".datatable .frame_dimensions {  background: var(--jp-border-color3);  border-top: 1px solid var(--jp-border-color0);  color: var(--jp-ui-font-color3);  display: inline-block;  opacity: 0.6;  padding: 1px 10px 1px 5px;}\n",
       "</style>\n"
      ],
      "text/plain": [
       "<IPython.core.display.HTML object>"
      ]
     },
     "metadata": {},
     "output_type": "display_data"
    }
   ],
   "source": [
    "from lightgbm.sklearn import LGBMRegressor\n"
   ]
  },
  {
   "cell_type": "code",
   "execution_count": 27,
   "id": "c4b52e22",
   "metadata": {
    "execution": {
     "iopub.execute_input": "2022-06-25T09:57:34.640771Z",
     "iopub.status.busy": "2022-06-25T09:57:34.640320Z",
     "iopub.status.idle": "2022-06-25T09:58:59.985910Z",
     "shell.execute_reply": "2022-06-25T09:58:59.984627Z"
    },
    "papermill": {
     "duration": 85.378557,
     "end_time": "2022-06-25T09:59:00.003142",
     "exception": false,
     "start_time": "2022-06-25T09:57:34.624585",
     "status": "completed"
    },
    "tags": []
   },
   "outputs": [
    {
     "data": {
      "text/html": [
       "<div>\n",
       "<style scoped>\n",
       "    .dataframe tbody tr th:only-of-type {\n",
       "        vertical-align: middle;\n",
       "    }\n",
       "\n",
       "    .dataframe tbody tr th {\n",
       "        vertical-align: top;\n",
       "    }\n",
       "\n",
       "    .dataframe thead th {\n",
       "        text-align: right;\n",
       "    }\n",
       "</style>\n",
       "<table border=\"1\" class=\"dataframe\">\n",
       "  <thead>\n",
       "    <tr style=\"text-align: right;\">\n",
       "      <th></th>\n",
       "      <th>param_boosting_type</th>\n",
       "      <th>param_learning_rate</th>\n",
       "      <th>param_max_depth</th>\n",
       "      <th>param_n_estimators</th>\n",
       "      <th>param_subsample</th>\n",
       "      <th>mean_test_score</th>\n",
       "      <th>std_test_score</th>\n",
       "      <th>mean_train_score</th>\n",
       "      <th>std_train_score</th>\n",
       "    </tr>\n",
       "  </thead>\n",
       "  <tbody>\n",
       "    <tr>\n",
       "      <th>7</th>\n",
       "      <td>gbdt</td>\n",
       "      <td>0.01</td>\n",
       "      <td>5</td>\n",
       "      <td>5000</td>\n",
       "      <td>1</td>\n",
       "      <td>-18701.020815</td>\n",
       "      <td>267.090123</td>\n",
       "      <td>-8726.521264</td>\n",
       "      <td>856.286038</td>\n",
       "    </tr>\n",
       "    <tr>\n",
       "      <th>6</th>\n",
       "      <td>gbdt</td>\n",
       "      <td>0.01</td>\n",
       "      <td>5</td>\n",
       "      <td>5000</td>\n",
       "      <td>0.5</td>\n",
       "      <td>-18701.020815</td>\n",
       "      <td>267.090123</td>\n",
       "      <td>-8726.521264</td>\n",
       "      <td>856.286038</td>\n",
       "    </tr>\n",
       "    <tr>\n",
       "      <th>27</th>\n",
       "      <td>gbdt</td>\n",
       "      <td>0.1</td>\n",
       "      <td>5</td>\n",
       "      <td>500</td>\n",
       "      <td>1</td>\n",
       "      <td>-18780.327530</td>\n",
       "      <td>381.337302</td>\n",
       "      <td>-8481.486577</td>\n",
       "      <td>863.590067</td>\n",
       "    </tr>\n",
       "    <tr>\n",
       "      <th>26</th>\n",
       "      <td>gbdt</td>\n",
       "      <td>0.1</td>\n",
       "      <td>5</td>\n",
       "      <td>500</td>\n",
       "      <td>0.5</td>\n",
       "      <td>-18780.327530</td>\n",
       "      <td>381.337302</td>\n",
       "      <td>-8481.486577</td>\n",
       "      <td>863.590067</td>\n",
       "    </tr>\n",
       "  </tbody>\n",
       "</table>\n",
       "</div>"
      ],
      "text/plain": [
       "   param_boosting_type param_learning_rate param_max_depth param_n_estimators  \\\n",
       "7                 gbdt                0.01               5               5000   \n",
       "6                 gbdt                0.01               5               5000   \n",
       "27                gbdt                 0.1               5                500   \n",
       "26                gbdt                 0.1               5                500   \n",
       "\n",
       "   param_subsample  mean_test_score  std_test_score  mean_train_score  \\\n",
       "7                1    -18701.020815      267.090123      -8726.521264   \n",
       "6              0.5    -18701.020815      267.090123      -8726.521264   \n",
       "27               1    -18780.327530      381.337302      -8481.486577   \n",
       "26             0.5    -18780.327530      381.337302      -8481.486577   \n",
       "\n",
       "    std_train_score  \n",
       "7        856.286038  \n",
       "6        856.286038  \n",
       "27       863.590067  \n",
       "26       863.590067  "
      ]
     },
     "execution_count": 27,
     "metadata": {},
     "output_type": "execute_result"
    }
   ],
   "source": [
    "# Grid de hiperparámetros evaluados\n",
    "# ==============================================================================\n",
    "param_grid = {'n_estimators'     : [100, 500, 1000, 5000],\n",
    "              'max_depth'        : [5, 10, 20],\n",
    "              'subsample'        : [0.5, 1],\n",
    "              'learning_rate'    : [0.01, 0.1],\n",
    "              'boosting_type'    : ['gbdt']\n",
    "             }\n",
    "\n",
    "# Búsqueda por grid search con validación cruzada\n",
    "# ==============================================================================\n",
    "grid = GridSearchCV(\n",
    "        estimator  = LGBMRegressor(random_state=123),\n",
    "        param_grid = param_grid,\n",
    "        scoring    = 'neg_mean_absolute_error',\n",
    "        n_jobs     = multiprocessing.cpu_count() - 1,\n",
    "        cv         = RepeatedKFold(n_splits=3, n_repeats=1, random_state=123), \n",
    "        refit      = True,\n",
    "        verbose    = 0,\n",
    "        return_train_score = True\n",
    "       )\n",
    "\n",
    "grid.fit(X = X_train, y = y_train)\n",
    "\n",
    "# Resultados\n",
    "# ==============================================================================\n",
    "resultados = pd.DataFrame(grid.cv_results_)\n",
    "resultados.filter(regex = '(param.*|mean_t|std_t)') \\\n",
    "    .drop(columns = 'params') \\\n",
    "    .sort_values('mean_test_score', ascending = False) \\\n",
    "    .head(4)"
   ]
  },
  {
   "cell_type": "code",
   "execution_count": 28,
   "id": "9d781047",
   "metadata": {
    "execution": {
     "iopub.execute_input": "2022-06-25T09:59:00.034974Z",
     "iopub.status.busy": "2022-06-25T09:59:00.034468Z",
     "iopub.status.idle": "2022-06-25T09:59:00.041059Z",
     "shell.execute_reply": "2022-06-25T09:59:00.039685Z"
    },
    "papermill": {
     "duration": 0.02656,
     "end_time": "2022-06-25T09:59:00.044376",
     "exception": false,
     "start_time": "2022-06-25T09:59:00.017816",
     "status": "completed"
    },
    "tags": []
   },
   "outputs": [
    {
     "name": "stdout",
     "output_type": "stream",
     "text": [
      "----------------------------------------\n",
      "Mejores hiperparámetros encontrados (cv)\n",
      "----------------------------------------\n",
      "{'boosting_type': 'gbdt', 'learning_rate': 0.01, 'max_depth': 5, 'n_estimators': 5000, 'subsample': 0.5} : -18701.02081489661 neg_mean_absolute_error\n"
     ]
    }
   ],
   "source": [
    "# Mejores hiperparámetros por validación cruzada\n",
    "# ==============================================================================\n",
    "print(\"----------------------------------------\")\n",
    "print(\"Mejores hiperparámetros encontrados (cv)\")\n",
    "print(\"----------------------------------------\")\n",
    "print(grid.best_params_, \":\", grid.best_score_, grid.scoring)"
   ]
  },
  {
   "cell_type": "code",
   "execution_count": 29,
   "id": "20a4af03",
   "metadata": {
    "execution": {
     "iopub.execute_input": "2022-06-25T09:59:00.076003Z",
     "iopub.status.busy": "2022-06-25T09:59:00.075521Z",
     "iopub.status.idle": "2022-06-25T09:59:00.125721Z",
     "shell.execute_reply": "2022-06-25T09:59:00.124016Z"
    },
    "papermill": {
     "duration": 0.069842,
     "end_time": "2022-06-25T09:59:00.128754",
     "exception": false,
     "start_time": "2022-06-25T09:59:00.058912",
     "status": "completed"
    },
    "tags": []
   },
   "outputs": [
    {
     "data": {
      "text/plain": [
       "19465.838286595226"
      ]
     },
     "execution_count": 29,
     "metadata": {},
     "output_type": "execute_result"
    }
   ],
   "source": [
    "Light_regress = grid.best_estimator_\n",
    "predicted_Light = Light_regress.predict(X = X_test,)\n",
    "Light_error=mean_absolute_error(y_test, predicted_Light)\n",
    "Light_error"
   ]
  },
  {
   "cell_type": "code",
   "execution_count": 30,
   "id": "6706d1e0",
   "metadata": {
    "execution": {
     "iopub.execute_input": "2022-06-25T09:59:00.161866Z",
     "iopub.status.busy": "2022-06-25T09:59:00.161396Z",
     "iopub.status.idle": "2022-06-25T10:01:50.477707Z",
     "shell.execute_reply": "2022-06-25T10:01:50.476664Z"
    },
    "papermill": {
     "duration": 170.349524,
     "end_time": "2022-06-25T10:01:50.494791",
     "exception": false,
     "start_time": "2022-06-25T09:59:00.145267",
     "status": "completed"
    },
    "tags": []
   },
   "outputs": [
    {
     "data": {
      "text/html": [
       "<div>\n",
       "<style scoped>\n",
       "    .dataframe tbody tr th:only-of-type {\n",
       "        vertical-align: middle;\n",
       "    }\n",
       "\n",
       "    .dataframe tbody tr th {\n",
       "        vertical-align: top;\n",
       "    }\n",
       "\n",
       "    .dataframe thead th {\n",
       "        text-align: right;\n",
       "    }\n",
       "</style>\n",
       "<table border=\"1\" class=\"dataframe\">\n",
       "  <thead>\n",
       "    <tr style=\"text-align: right;\">\n",
       "      <th></th>\n",
       "      <th>importances_mean</th>\n",
       "      <th>importances_std</th>\n",
       "      <th>feature</th>\n",
       "    </tr>\n",
       "  </thead>\n",
       "  <tbody>\n",
       "    <tr>\n",
       "      <th>4</th>\n",
       "      <td>34325.853355</td>\n",
       "      <td>643.520914</td>\n",
       "      <td>GrLivArea</td>\n",
       "    </tr>\n",
       "    <tr>\n",
       "      <th>1</th>\n",
       "      <td>31141.758682</td>\n",
       "      <td>1049.846071</td>\n",
       "      <td>OverallQual</td>\n",
       "    </tr>\n",
       "    <tr>\n",
       "      <th>7</th>\n",
       "      <td>8177.577241</td>\n",
       "      <td>316.696482</td>\n",
       "      <td>GarageCars</td>\n",
       "    </tr>\n",
       "    <tr>\n",
       "      <th>3</th>\n",
       "      <td>5948.071398</td>\n",
       "      <td>355.061712</td>\n",
       "      <td>YearRemodAdd</td>\n",
       "    </tr>\n",
       "    <tr>\n",
       "      <th>0</th>\n",
       "      <td>4586.446414</td>\n",
       "      <td>290.696105</td>\n",
       "      <td>MSSubClass</td>\n",
       "    </tr>\n",
       "    <tr>\n",
       "      <th>...</th>\n",
       "      <td>...</td>\n",
       "      <td>...</td>\n",
       "      <td>...</td>\n",
       "    </tr>\n",
       "    <tr>\n",
       "      <th>59</th>\n",
       "      <td>0.000000</td>\n",
       "      <td>0.000000</td>\n",
       "      <td>HouseStyle_2.5Unf</td>\n",
       "    </tr>\n",
       "    <tr>\n",
       "      <th>100</th>\n",
       "      <td>0.000000</td>\n",
       "      <td>0.000000</td>\n",
       "      <td>FireplaceQu_Ex</td>\n",
       "    </tr>\n",
       "    <tr>\n",
       "      <th>70</th>\n",
       "      <td>0.000000</td>\n",
       "      <td>0.000000</td>\n",
       "      <td>ExterCond_Po</td>\n",
       "    </tr>\n",
       "    <tr>\n",
       "      <th>103</th>\n",
       "      <td>0.000000</td>\n",
       "      <td>0.000000</td>\n",
       "      <td>FireplaceQu_Po</td>\n",
       "    </tr>\n",
       "    <tr>\n",
       "      <th>50</th>\n",
       "      <td>0.000000</td>\n",
       "      <td>0.000000</td>\n",
       "      <td>BldgType_1Fam</td>\n",
       "    </tr>\n",
       "  </tbody>\n",
       "</table>\n",
       "<p>131 rows × 3 columns</p>\n",
       "</div>"
      ],
      "text/plain": [
       "     importances_mean  importances_std            feature\n",
       "4        34325.853355       643.520914          GrLivArea\n",
       "1        31141.758682      1049.846071        OverallQual\n",
       "7         8177.577241       316.696482         GarageCars\n",
       "3         5948.071398       355.061712       YearRemodAdd\n",
       "0         4586.446414       290.696105         MSSubClass\n",
       "..                ...              ...                ...\n",
       "59           0.000000         0.000000  HouseStyle_2.5Unf\n",
       "100          0.000000         0.000000     FireplaceQu_Ex\n",
       "70           0.000000         0.000000       ExterCond_Po\n",
       "103          0.000000         0.000000     FireplaceQu_Po\n",
       "50           0.000000         0.000000      BldgType_1Fam\n",
       "\n",
       "[131 rows x 3 columns]"
      ]
     },
     "execution_count": 30,
     "metadata": {},
     "output_type": "execute_result"
    }
   ],
   "source": [
    "from sklearn.inspection import permutation_importance\n",
    "importancia = permutation_importance(\n",
    "                estimator    = Light_regress,\n",
    "                X            = X_train,\n",
    "                y            = y_train,\n",
    "                n_repeats    = 5,\n",
    "                scoring      = 'neg_root_mean_squared_error',\n",
    "                n_jobs       = multiprocessing.cpu_count() - 1,\n",
    "                random_state = 123\n",
    "             )\n",
    "\n",
    "# Se almacenan los resultados (media y desviación) en un dataframe\n",
    "df_importancia = pd.DataFrame(\n",
    "                    {k: importancia[k] for k in ['importances_mean', 'importances_std']}\n",
    "                 )\n",
    "df_importancia['feature'] = X_train.columns\n",
    "df_importancia.sort_values('importances_mean', ascending=False)"
   ]
  }
 ],
 "metadata": {
  "kernelspec": {
   "display_name": "Python 3",
   "language": "python",
   "name": "python3"
  },
  "language_info": {
   "codemirror_mode": {
    "name": "ipython",
    "version": 3
   },
   "file_extension": ".py",
   "mimetype": "text/x-python",
   "name": "python",
   "nbconvert_exporter": "python",
   "pygments_lexer": "ipython3",
   "version": "3.7.12"
  },
  "papermill": {
   "default_parameters": {},
   "duration": 454.756313,
   "end_time": "2022-06-25T10:01:53.134161",
   "environment_variables": {},
   "exception": null,
   "input_path": "__notebook__.ipynb",
   "output_path": "__notebook__.ipynb",
   "parameters": {},
   "start_time": "2022-06-25T09:54:18.377848",
   "version": "2.3.4"
  }
 },
 "nbformat": 4,
 "nbformat_minor": 5
}
