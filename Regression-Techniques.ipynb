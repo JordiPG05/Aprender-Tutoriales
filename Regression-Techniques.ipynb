{
 "cells": [
  {
   "cell_type": "code",
   "execution_count": 1,
   "id": "2da6c34c",
   "metadata": {
    "_cell_guid": "b1076dfc-b9ad-4769-8c92-a6c4dae69d19",
    "_kg_hide-input": true,
    "_kg_hide-output": true,
    "_uuid": "8f2839f25d086af736a60e9eeb907d3b93b6e0e5",
    "execution": {
     "iopub.execute_input": "2022-06-25T09:38:33.968278Z",
     "iopub.status.busy": "2022-06-25T09:38:33.967799Z",
     "iopub.status.idle": "2022-06-25T09:38:33.982068Z",
     "shell.execute_reply": "2022-06-25T09:38:33.981283Z"
    },
    "papermill": {
     "duration": 0.031254,
     "end_time": "2022-06-25T09:38:33.985127",
     "exception": false,
     "start_time": "2022-06-25T09:38:33.953873",
     "status": "completed"
    },
    "tags": []
   },
   "outputs": [
    {
     "name": "stdout",
     "output_type": "stream",
     "text": [
      "/kaggle/input/house-prices-advanced-regression-techniques/sample_submission.csv\n",
      "/kaggle/input/house-prices-advanced-regression-techniques/data_description.txt\n",
      "/kaggle/input/house-prices-advanced-regression-techniques/train.csv\n",
      "/kaggle/input/house-prices-advanced-regression-techniques/test.csv\n"
     ]
    }
   ],
   "source": [
    "# This Python 3 environment comes with many helpful analytics libraries installed\n",
    "# It is defined by the kaggle/python Docker image: https://github.com/kaggle/docker-python\n",
    "# For example, here's several helpful packages to load\n",
    "\n",
    "import numpy as np # linear algebra\n",
    "import pandas as pd # data processing, CSV file I/O (e.g. pd.read_csv)\n",
    "\n",
    "# Input data files are available in the read-only \"../input/\" directory\n",
    "# For example, running this (by clicking run or pressing Shift+Enter) will list all files under the input directory\n",
    "\n",
    "import os\n",
    "for dirname, _, filenames in os.walk('/kaggle/input'):\n",
    "    for filename in filenames:\n",
    "        print(os.path.join(dirname, filename))\n",
    "\n",
    "# You can write up to 20GB to the current directory (/kaggle/working/) that gets preserved as output when you create a version using \"Save & Run All\" \n",
    "# You can also write temporary files to /kaggle/temp/, but they won't be saved outside of the current session"
   ]
  },
  {
   "cell_type": "markdown",
   "id": "c636b650",
   "metadata": {
    "papermill": {
     "duration": 0.01061,
     "end_time": "2022-06-25T09:38:34.006496",
     "exception": false,
     "start_time": "2022-06-25T09:38:33.995886",
     "status": "completed"
    },
    "tags": []
   },
   "source": [
    "## Preprocesado de datos"
   ]
  },
  {
   "cell_type": "markdown",
   "id": "25cdc9f5",
   "metadata": {
    "papermill": {
     "duration": 0.009677,
     "end_time": "2022-06-25T09:38:34.026267",
     "exception": false,
     "start_time": "2022-06-25T09:38:34.016590",
     "status": "completed"
    },
    "tags": []
   },
   "source": [
    "##### En este apartado, en primer lugar cargaremos las primersa líbrerias y tambíen  los datos.\n",
    "\n",
    "##### El segundo paso es visualizar los datos y gestionar los nulos de la mejor forma posible.\n",
    "\n",
    "**TIP :** *Para que tu codigo sea más eficaz y en casa de necesitarlo realizar futuras actualizaciones es recomendable el uso de funciones*"
   ]
  },
  {
   "cell_type": "code",
   "execution_count": 2,
   "id": "5112ca32",
   "metadata": {
    "execution": {
     "iopub.execute_input": "2022-06-25T09:38:34.048591Z",
     "iopub.status.busy": "2022-06-25T09:38:34.047996Z",
     "iopub.status.idle": "2022-06-25T09:38:34.052770Z",
     "shell.execute_reply": "2022-06-25T09:38:34.051488Z"
    },
    "papermill": {
     "duration": 0.018817,
     "end_time": "2022-06-25T09:38:34.054983",
     "exception": false,
     "start_time": "2022-06-25T09:38:34.036166",
     "status": "completed"
    },
    "tags": []
   },
   "outputs": [],
   "source": [
    "import pandas as pd\n",
    "import numpy as np"
   ]
  },
  {
   "cell_type": "code",
   "execution_count": 3,
   "id": "02a0602e",
   "metadata": {
    "execution": {
     "iopub.execute_input": "2022-06-25T09:38:34.078117Z",
     "iopub.status.busy": "2022-06-25T09:38:34.077032Z",
     "iopub.status.idle": "2022-06-25T09:38:34.160345Z",
     "shell.execute_reply": "2022-06-25T09:38:34.158643Z"
    },
    "papermill": {
     "duration": 0.098309,
     "end_time": "2022-06-25T09:38:34.163311",
     "exception": false,
     "start_time": "2022-06-25T09:38:34.065002",
     "status": "completed"
    },
    "tags": []
   },
   "outputs": [],
   "source": [
    "train = pd.read_csv('../input/house-prices-advanced-regression-techniques/train.csv')\n",
    "test= pd.read_csv('../input/house-prices-advanced-regression-techniques/test.csv')"
   ]
  },
  {
   "cell_type": "markdown",
   "id": "2a5ea06e",
   "metadata": {
    "papermill": {
     "duration": 0.009742,
     "end_time": "2022-06-25T09:38:34.183150",
     "exception": false,
     "start_time": "2022-06-25T09:38:34.173408",
     "status": "completed"
    },
    "tags": []
   },
   "source": [
    "Visualizamos como es el dataframe"
   ]
  },
  {
   "cell_type": "code",
   "execution_count": 4,
   "id": "15908bbe",
   "metadata": {
    "execution": {
     "iopub.execute_input": "2022-06-25T09:38:34.205391Z",
     "iopub.status.busy": "2022-06-25T09:38:34.204871Z",
     "iopub.status.idle": "2022-06-25T09:38:34.251577Z",
     "shell.execute_reply": "2022-06-25T09:38:34.250383Z"
    },
    "papermill": {
     "duration": 0.061802,
     "end_time": "2022-06-25T09:38:34.254819",
     "exception": false,
     "start_time": "2022-06-25T09:38:34.193017",
     "status": "completed"
    },
    "tags": []
   },
   "outputs": [
    {
     "name": "stdout",
     "output_type": "stream",
     "text": [
      "<class 'pandas.core.frame.DataFrame'>\n",
      "RangeIndex: 1460 entries, 0 to 1459\n",
      "Data columns (total 81 columns):\n",
      " #   Column         Non-Null Count  Dtype  \n",
      "---  ------         --------------  -----  \n",
      " 0   Id             1460 non-null   int64  \n",
      " 1   MSSubClass     1460 non-null   int64  \n",
      " 2   MSZoning       1460 non-null   object \n",
      " 3   LotFrontage    1201 non-null   float64\n",
      " 4   LotArea        1460 non-null   int64  \n",
      " 5   Street         1460 non-null   object \n",
      " 6   Alley          91 non-null     object \n",
      " 7   LotShape       1460 non-null   object \n",
      " 8   LandContour    1460 non-null   object \n",
      " 9   Utilities      1460 non-null   object \n",
      " 10  LotConfig      1460 non-null   object \n",
      " 11  LandSlope      1460 non-null   object \n",
      " 12  Neighborhood   1460 non-null   object \n",
      " 13  Condition1     1460 non-null   object \n",
      " 14  Condition2     1460 non-null   object \n",
      " 15  BldgType       1460 non-null   object \n",
      " 16  HouseStyle     1460 non-null   object \n",
      " 17  OverallQual    1460 non-null   int64  \n",
      " 18  OverallCond    1460 non-null   int64  \n",
      " 19  YearBuilt      1460 non-null   int64  \n",
      " 20  YearRemodAdd   1460 non-null   int64  \n",
      " 21  RoofStyle      1460 non-null   object \n",
      " 22  RoofMatl       1460 non-null   object \n",
      " 23  Exterior1st    1460 non-null   object \n",
      " 24  Exterior2nd    1460 non-null   object \n",
      " 25  MasVnrType     1452 non-null   object \n",
      " 26  MasVnrArea     1452 non-null   float64\n",
      " 27  ExterQual      1460 non-null   object \n",
      " 28  ExterCond      1460 non-null   object \n",
      " 29  Foundation     1460 non-null   object \n",
      " 30  BsmtQual       1423 non-null   object \n",
      " 31  BsmtCond       1423 non-null   object \n",
      " 32  BsmtExposure   1422 non-null   object \n",
      " 33  BsmtFinType1   1423 non-null   object \n",
      " 34  BsmtFinSF1     1460 non-null   int64  \n",
      " 35  BsmtFinType2   1422 non-null   object \n",
      " 36  BsmtFinSF2     1460 non-null   int64  \n",
      " 37  BsmtUnfSF      1460 non-null   int64  \n",
      " 38  TotalBsmtSF    1460 non-null   int64  \n",
      " 39  Heating        1460 non-null   object \n",
      " 40  HeatingQC      1460 non-null   object \n",
      " 41  CentralAir     1460 non-null   object \n",
      " 42  Electrical     1459 non-null   object \n",
      " 43  1stFlrSF       1460 non-null   int64  \n",
      " 44  2ndFlrSF       1460 non-null   int64  \n",
      " 45  LowQualFinSF   1460 non-null   int64  \n",
      " 46  GrLivArea      1460 non-null   int64  \n",
      " 47  BsmtFullBath   1460 non-null   int64  \n",
      " 48  BsmtHalfBath   1460 non-null   int64  \n",
      " 49  FullBath       1460 non-null   int64  \n",
      " 50  HalfBath       1460 non-null   int64  \n",
      " 51  BedroomAbvGr   1460 non-null   int64  \n",
      " 52  KitchenAbvGr   1460 non-null   int64  \n",
      " 53  KitchenQual    1460 non-null   object \n",
      " 54  TotRmsAbvGrd   1460 non-null   int64  \n",
      " 55  Functional     1460 non-null   object \n",
      " 56  Fireplaces     1460 non-null   int64  \n",
      " 57  FireplaceQu    770 non-null    object \n",
      " 58  GarageType     1379 non-null   object \n",
      " 59  GarageYrBlt    1379 non-null   float64\n",
      " 60  GarageFinish   1379 non-null   object \n",
      " 61  GarageCars     1460 non-null   int64  \n",
      " 62  GarageArea     1460 non-null   int64  \n",
      " 63  GarageQual     1379 non-null   object \n",
      " 64  GarageCond     1379 non-null   object \n",
      " 65  PavedDrive     1460 non-null   object \n",
      " 66  WoodDeckSF     1460 non-null   int64  \n",
      " 67  OpenPorchSF    1460 non-null   int64  \n",
      " 68  EnclosedPorch  1460 non-null   int64  \n",
      " 69  3SsnPorch      1460 non-null   int64  \n",
      " 70  ScreenPorch    1460 non-null   int64  \n",
      " 71  PoolArea       1460 non-null   int64  \n",
      " 72  PoolQC         7 non-null      object \n",
      " 73  Fence          281 non-null    object \n",
      " 74  MiscFeature    54 non-null     object \n",
      " 75  MiscVal        1460 non-null   int64  \n",
      " 76  MoSold         1460 non-null   int64  \n",
      " 77  YrSold         1460 non-null   int64  \n",
      " 78  SaleType       1460 non-null   object \n",
      " 79  SaleCondition  1460 non-null   object \n",
      " 80  SalePrice      1460 non-null   int64  \n",
      "dtypes: float64(3), int64(35), object(43)\n",
      "memory usage: 924.0+ KB\n"
     ]
    }
   ],
   "source": [
    "train.info()"
   ]
  },
  {
   "cell_type": "code",
   "execution_count": 5,
   "id": "058c1997",
   "metadata": {
    "execution": {
     "iopub.execute_input": "2022-06-25T09:38:34.277617Z",
     "iopub.status.busy": "2022-06-25T09:38:34.276476Z",
     "iopub.status.idle": "2022-06-25T09:38:34.288679Z",
     "shell.execute_reply": "2022-06-25T09:38:34.287714Z"
    },
    "papermill": {
     "duration": 0.026349,
     "end_time": "2022-06-25T09:38:34.291455",
     "exception": false,
     "start_time": "2022-06-25T09:38:34.265106",
     "status": "completed"
    },
    "tags": []
   },
   "outputs": [],
   "source": [
    "def preprocesado(df):\n",
    "    df=df.drop(['Alley'], axis=1) # Eliminamos la columna Alley\n",
    "    df=df.dropna(subset=['MasVnrType']) # Eliminamos las filas con nulos\n",
    "    df['BsmtFinType2']=df['BsmtFinType2'].fillna('Unf') # Asumimos los nulos como Unf (Sin terminar)\n",
    "    df['LotFrontage']=df['LotFrontage'].fillna(df['LotFrontage'].median()) # Imputamos los nulos con la mediana\n",
    "    df['BsmtQual']=df['BsmtQual'].fillna(0) # Imputamos los nulos por 0 (No tienen sotano)\n",
    "    df['BsmtCond']=df['BsmtCond'].fillna(0) # Imputamos los nulos por 0 (No tienen sotano)\n",
    "    df['BsmtExposure']=df['BsmtExposure'].fillna(0) # Imputamos los nulos por 0 (No tienen sotano)\n",
    "    df['BsmtFinType1']=df['BsmtFinType1'].fillna(0) # Imputamos los nulos por 0 (No tienen sotano)\n",
    "    df=df.dropna(subset=['Electrical']) # Eliminamos el error en Electrical\n",
    "    df['FireplaceQu']=df['FireplaceQu'].fillna(0) # Imputamos los nulos por 0 (No tienen chimenea)\n",
    "    df['GarageType']=df['FireplaceQu'].fillna('NonHave') # Imputamos los nulos por 'NonHave' (No tienen garaje)\n",
    "    df['GarageYrBlt']=df['GarageYrBlt'].fillna(0) # Imputamos los nulos por 0 (Indicamos que los que no tienen garaje)\n",
    "    df['GarageFinish']=df['GarageFinish'].fillna('NonHave') # Imputamos los nulos por 'NonHave' (No tienen garaje)\n",
    "    df['GarageQual']=df['GarageQual'].fillna(0) # Indicamos que el garaje no existe\n",
    "    df['GarageCond']=df['GarageCond'].fillna(0) # Indicamos que el garaje no existe\n",
    "    df=df.drop(['PoolQC'], axis=1) # Eliminamos la columna Calidad de la piscina (Praticamente toda vacia)\n",
    "    df['MiscFeature']=df['MiscFeature'].fillna('NonHave') # Indicamos que no tiene características extras\n",
    "    df['Fence']=df['Fence'].fillna('NonHave') # Indicamos que no tiene vallas\n",
    "    return df"
   ]
  },
  {
   "cell_type": "code",
   "execution_count": 6,
   "id": "b137f3ef",
   "metadata": {
    "execution": {
     "iopub.execute_input": "2022-06-25T09:38:34.315793Z",
     "iopub.status.busy": "2022-06-25T09:38:34.315100Z",
     "iopub.status.idle": "2022-06-25T09:38:34.342655Z",
     "shell.execute_reply": "2022-06-25T09:38:34.341521Z"
    },
    "papermill": {
     "duration": 0.043032,
     "end_time": "2022-06-25T09:38:34.345409",
     "exception": false,
     "start_time": "2022-06-25T09:38:34.302377",
     "status": "completed"
    },
    "tags": []
   },
   "outputs": [],
   "source": [
    "train=preprocesado(train)"
   ]
  },
  {
   "cell_type": "markdown",
   "id": "c345922b",
   "metadata": {
    "papermill": {
     "duration": 0.010807,
     "end_time": "2022-06-25T09:38:34.367415",
     "exception": false,
     "start_time": "2022-06-25T09:38:34.356608",
     "status": "completed"
    },
    "tags": []
   },
   "source": [
    "## Features Selection"
   ]
  },
  {
   "cell_type": "markdown",
   "id": "28824cf9",
   "metadata": {
    "papermill": {
     "duration": 0.010679,
     "end_time": "2022-06-25T09:38:34.388825",
     "exception": false,
     "start_time": "2022-06-25T09:38:34.378146",
     "status": "completed"
    },
    "tags": []
   },
   "source": [
    "##### En esta sección vamos a seleccionar solo las variables que creamos que tienen sentido para nuestro modelo, cada elección tiene que tener un porque.\n",
    "##### Sobrecargar un modelo puede provocar largos periodos de espera y hacer que nuestro modelo no encuentre las mejores relaciones.\n",
    "\n",
    "*Es necesario leerse el apartado Data Field de la página '[Datos](https://www.kaggle.com/competitions/house-prices-advanced-regression-techniques/data)' de la descripción de la competición*"
   ]
  },
  {
   "cell_type": "code",
   "execution_count": 7,
   "id": "7efdb989",
   "metadata": {
    "execution": {
     "iopub.execute_input": "2022-06-25T09:38:34.412797Z",
     "iopub.status.busy": "2022-06-25T09:38:34.412024Z",
     "iopub.status.idle": "2022-06-25T09:38:34.423247Z",
     "shell.execute_reply": "2022-06-25T09:38:34.422409Z"
    },
    "papermill": {
     "duration": 0.026003,
     "end_time": "2022-06-25T09:38:34.425863",
     "exception": false,
     "start_time": "2022-06-25T09:38:34.399860",
     "status": "completed"
    },
    "tags": []
   },
   "outputs": [],
   "source": [
    "features=['MSSubClass','MSZoning','LandContour','Utilities','LotConfig','Neighborhood','BldgType','HouseStyle','OverallQual','OverallCond','YearRemodAdd','ExterQual','ExterCond','BsmtCond','Heating','HeatingQC','CentralAir','Electrical','GrLivArea','FullBath','KitchenQual','TotRmsAbvGrd','FireplaceQu','GarageCars','GarageCond','Fence','MiscVal','SaleType','SaleCondition']\n",
    "target=['SalePrice']"
   ]
  },
  {
   "cell_type": "code",
   "execution_count": 8,
   "id": "d29fd9f8",
   "metadata": {
    "execution": {
     "iopub.execute_input": "2022-06-25T09:38:34.449493Z",
     "iopub.status.busy": "2022-06-25T09:38:34.448761Z",
     "iopub.status.idle": "2022-06-25T09:38:34.453188Z",
     "shell.execute_reply": "2022-06-25T09:38:34.452389Z"
    },
    "papermill": {
     "duration": 0.018802,
     "end_time": "2022-06-25T09:38:34.455283",
     "exception": false,
     "start_time": "2022-06-25T09:38:34.436481",
     "status": "completed"
    },
    "tags": []
   },
   "outputs": [],
   "source": [
    "def select_features(df):\n",
    "    train_df=df[features+target]\n",
    "    return train_df"
   ]
  },
  {
   "cell_type": "code",
   "execution_count": 9,
   "id": "912d0a84",
   "metadata": {
    "execution": {
     "iopub.execute_input": "2022-06-25T09:38:34.478295Z",
     "iopub.status.busy": "2022-06-25T09:38:34.477592Z",
     "iopub.status.idle": "2022-06-25T09:38:34.483084Z",
     "shell.execute_reply": "2022-06-25T09:38:34.482249Z"
    },
    "papermill": {
     "duration": 0.019687,
     "end_time": "2022-06-25T09:38:34.485468",
     "exception": false,
     "start_time": "2022-06-25T09:38:34.465781",
     "status": "completed"
    },
    "tags": []
   },
   "outputs": [],
   "source": [
    "train_df=select_features(train)"
   ]
  },
  {
   "cell_type": "code",
   "execution_count": 10,
   "id": "017532a7",
   "metadata": {
    "execution": {
     "iopub.execute_input": "2022-06-25T09:38:34.508994Z",
     "iopub.status.busy": "2022-06-25T09:38:34.508331Z",
     "iopub.status.idle": "2022-06-25T09:38:34.549782Z",
     "shell.execute_reply": "2022-06-25T09:38:34.548241Z"
    },
    "papermill": {
     "duration": 0.057064,
     "end_time": "2022-06-25T09:38:34.553357",
     "exception": false,
     "start_time": "2022-06-25T09:38:34.496293",
     "status": "completed"
    },
    "tags": []
   },
   "outputs": [
    {
     "data": {
      "text/html": [
       "<div>\n",
       "<style scoped>\n",
       "    .dataframe tbody tr th:only-of-type {\n",
       "        vertical-align: middle;\n",
       "    }\n",
       "\n",
       "    .dataframe tbody tr th {\n",
       "        vertical-align: top;\n",
       "    }\n",
       "\n",
       "    .dataframe thead th {\n",
       "        text-align: right;\n",
       "    }\n",
       "</style>\n",
       "<table border=\"1\" class=\"dataframe\">\n",
       "  <thead>\n",
       "    <tr style=\"text-align: right;\">\n",
       "      <th></th>\n",
       "      <th>MSSubClass</th>\n",
       "      <th>MSZoning</th>\n",
       "      <th>LandContour</th>\n",
       "      <th>Utilities</th>\n",
       "      <th>LotConfig</th>\n",
       "      <th>Neighborhood</th>\n",
       "      <th>BldgType</th>\n",
       "      <th>HouseStyle</th>\n",
       "      <th>OverallQual</th>\n",
       "      <th>OverallCond</th>\n",
       "      <th>...</th>\n",
       "      <th>KitchenQual</th>\n",
       "      <th>TotRmsAbvGrd</th>\n",
       "      <th>FireplaceQu</th>\n",
       "      <th>GarageCars</th>\n",
       "      <th>GarageCond</th>\n",
       "      <th>Fence</th>\n",
       "      <th>MiscVal</th>\n",
       "      <th>SaleType</th>\n",
       "      <th>SaleCondition</th>\n",
       "      <th>SalePrice</th>\n",
       "    </tr>\n",
       "  </thead>\n",
       "  <tbody>\n",
       "    <tr>\n",
       "      <th>0</th>\n",
       "      <td>60</td>\n",
       "      <td>RL</td>\n",
       "      <td>Lvl</td>\n",
       "      <td>AllPub</td>\n",
       "      <td>Inside</td>\n",
       "      <td>CollgCr</td>\n",
       "      <td>1Fam</td>\n",
       "      <td>2Story</td>\n",
       "      <td>7</td>\n",
       "      <td>5</td>\n",
       "      <td>...</td>\n",
       "      <td>Gd</td>\n",
       "      <td>8</td>\n",
       "      <td>0</td>\n",
       "      <td>2</td>\n",
       "      <td>TA</td>\n",
       "      <td>NonHave</td>\n",
       "      <td>0</td>\n",
       "      <td>WD</td>\n",
       "      <td>Normal</td>\n",
       "      <td>208500</td>\n",
       "    </tr>\n",
       "    <tr>\n",
       "      <th>1</th>\n",
       "      <td>20</td>\n",
       "      <td>RL</td>\n",
       "      <td>Lvl</td>\n",
       "      <td>AllPub</td>\n",
       "      <td>FR2</td>\n",
       "      <td>Veenker</td>\n",
       "      <td>1Fam</td>\n",
       "      <td>1Story</td>\n",
       "      <td>6</td>\n",
       "      <td>8</td>\n",
       "      <td>...</td>\n",
       "      <td>TA</td>\n",
       "      <td>6</td>\n",
       "      <td>TA</td>\n",
       "      <td>2</td>\n",
       "      <td>TA</td>\n",
       "      <td>NonHave</td>\n",
       "      <td>0</td>\n",
       "      <td>WD</td>\n",
       "      <td>Normal</td>\n",
       "      <td>181500</td>\n",
       "    </tr>\n",
       "    <tr>\n",
       "      <th>2</th>\n",
       "      <td>60</td>\n",
       "      <td>RL</td>\n",
       "      <td>Lvl</td>\n",
       "      <td>AllPub</td>\n",
       "      <td>Inside</td>\n",
       "      <td>CollgCr</td>\n",
       "      <td>1Fam</td>\n",
       "      <td>2Story</td>\n",
       "      <td>7</td>\n",
       "      <td>5</td>\n",
       "      <td>...</td>\n",
       "      <td>Gd</td>\n",
       "      <td>6</td>\n",
       "      <td>TA</td>\n",
       "      <td>2</td>\n",
       "      <td>TA</td>\n",
       "      <td>NonHave</td>\n",
       "      <td>0</td>\n",
       "      <td>WD</td>\n",
       "      <td>Normal</td>\n",
       "      <td>223500</td>\n",
       "    </tr>\n",
       "    <tr>\n",
       "      <th>3</th>\n",
       "      <td>70</td>\n",
       "      <td>RL</td>\n",
       "      <td>Lvl</td>\n",
       "      <td>AllPub</td>\n",
       "      <td>Corner</td>\n",
       "      <td>Crawfor</td>\n",
       "      <td>1Fam</td>\n",
       "      <td>2Story</td>\n",
       "      <td>7</td>\n",
       "      <td>5</td>\n",
       "      <td>...</td>\n",
       "      <td>Gd</td>\n",
       "      <td>7</td>\n",
       "      <td>Gd</td>\n",
       "      <td>3</td>\n",
       "      <td>TA</td>\n",
       "      <td>NonHave</td>\n",
       "      <td>0</td>\n",
       "      <td>WD</td>\n",
       "      <td>Abnorml</td>\n",
       "      <td>140000</td>\n",
       "    </tr>\n",
       "    <tr>\n",
       "      <th>4</th>\n",
       "      <td>60</td>\n",
       "      <td>RL</td>\n",
       "      <td>Lvl</td>\n",
       "      <td>AllPub</td>\n",
       "      <td>FR2</td>\n",
       "      <td>NoRidge</td>\n",
       "      <td>1Fam</td>\n",
       "      <td>2Story</td>\n",
       "      <td>8</td>\n",
       "      <td>5</td>\n",
       "      <td>...</td>\n",
       "      <td>Gd</td>\n",
       "      <td>9</td>\n",
       "      <td>TA</td>\n",
       "      <td>3</td>\n",
       "      <td>TA</td>\n",
       "      <td>NonHave</td>\n",
       "      <td>0</td>\n",
       "      <td>WD</td>\n",
       "      <td>Normal</td>\n",
       "      <td>250000</td>\n",
       "    </tr>\n",
       "    <tr>\n",
       "      <th>...</th>\n",
       "      <td>...</td>\n",
       "      <td>...</td>\n",
       "      <td>...</td>\n",
       "      <td>...</td>\n",
       "      <td>...</td>\n",
       "      <td>...</td>\n",
       "      <td>...</td>\n",
       "      <td>...</td>\n",
       "      <td>...</td>\n",
       "      <td>...</td>\n",
       "      <td>...</td>\n",
       "      <td>...</td>\n",
       "      <td>...</td>\n",
       "      <td>...</td>\n",
       "      <td>...</td>\n",
       "      <td>...</td>\n",
       "      <td>...</td>\n",
       "      <td>...</td>\n",
       "      <td>...</td>\n",
       "      <td>...</td>\n",
       "      <td>...</td>\n",
       "    </tr>\n",
       "    <tr>\n",
       "      <th>1455</th>\n",
       "      <td>60</td>\n",
       "      <td>RL</td>\n",
       "      <td>Lvl</td>\n",
       "      <td>AllPub</td>\n",
       "      <td>Inside</td>\n",
       "      <td>Gilbert</td>\n",
       "      <td>1Fam</td>\n",
       "      <td>2Story</td>\n",
       "      <td>6</td>\n",
       "      <td>5</td>\n",
       "      <td>...</td>\n",
       "      <td>TA</td>\n",
       "      <td>7</td>\n",
       "      <td>TA</td>\n",
       "      <td>2</td>\n",
       "      <td>TA</td>\n",
       "      <td>NonHave</td>\n",
       "      <td>0</td>\n",
       "      <td>WD</td>\n",
       "      <td>Normal</td>\n",
       "      <td>175000</td>\n",
       "    </tr>\n",
       "    <tr>\n",
       "      <th>1456</th>\n",
       "      <td>20</td>\n",
       "      <td>RL</td>\n",
       "      <td>Lvl</td>\n",
       "      <td>AllPub</td>\n",
       "      <td>Inside</td>\n",
       "      <td>NWAmes</td>\n",
       "      <td>1Fam</td>\n",
       "      <td>1Story</td>\n",
       "      <td>6</td>\n",
       "      <td>6</td>\n",
       "      <td>...</td>\n",
       "      <td>TA</td>\n",
       "      <td>7</td>\n",
       "      <td>TA</td>\n",
       "      <td>2</td>\n",
       "      <td>TA</td>\n",
       "      <td>MnPrv</td>\n",
       "      <td>0</td>\n",
       "      <td>WD</td>\n",
       "      <td>Normal</td>\n",
       "      <td>210000</td>\n",
       "    </tr>\n",
       "    <tr>\n",
       "      <th>1457</th>\n",
       "      <td>70</td>\n",
       "      <td>RL</td>\n",
       "      <td>Lvl</td>\n",
       "      <td>AllPub</td>\n",
       "      <td>Inside</td>\n",
       "      <td>Crawfor</td>\n",
       "      <td>1Fam</td>\n",
       "      <td>2Story</td>\n",
       "      <td>7</td>\n",
       "      <td>9</td>\n",
       "      <td>...</td>\n",
       "      <td>Gd</td>\n",
       "      <td>9</td>\n",
       "      <td>Gd</td>\n",
       "      <td>1</td>\n",
       "      <td>TA</td>\n",
       "      <td>GdPrv</td>\n",
       "      <td>2500</td>\n",
       "      <td>WD</td>\n",
       "      <td>Normal</td>\n",
       "      <td>266500</td>\n",
       "    </tr>\n",
       "    <tr>\n",
       "      <th>1458</th>\n",
       "      <td>20</td>\n",
       "      <td>RL</td>\n",
       "      <td>Lvl</td>\n",
       "      <td>AllPub</td>\n",
       "      <td>Inside</td>\n",
       "      <td>NAmes</td>\n",
       "      <td>1Fam</td>\n",
       "      <td>1Story</td>\n",
       "      <td>5</td>\n",
       "      <td>6</td>\n",
       "      <td>...</td>\n",
       "      <td>Gd</td>\n",
       "      <td>5</td>\n",
       "      <td>0</td>\n",
       "      <td>1</td>\n",
       "      <td>TA</td>\n",
       "      <td>NonHave</td>\n",
       "      <td>0</td>\n",
       "      <td>WD</td>\n",
       "      <td>Normal</td>\n",
       "      <td>142125</td>\n",
       "    </tr>\n",
       "    <tr>\n",
       "      <th>1459</th>\n",
       "      <td>20</td>\n",
       "      <td>RL</td>\n",
       "      <td>Lvl</td>\n",
       "      <td>AllPub</td>\n",
       "      <td>Inside</td>\n",
       "      <td>Edwards</td>\n",
       "      <td>1Fam</td>\n",
       "      <td>1Story</td>\n",
       "      <td>5</td>\n",
       "      <td>6</td>\n",
       "      <td>...</td>\n",
       "      <td>TA</td>\n",
       "      <td>6</td>\n",
       "      <td>0</td>\n",
       "      <td>1</td>\n",
       "      <td>TA</td>\n",
       "      <td>NonHave</td>\n",
       "      <td>0</td>\n",
       "      <td>WD</td>\n",
       "      <td>Normal</td>\n",
       "      <td>147500</td>\n",
       "    </tr>\n",
       "  </tbody>\n",
       "</table>\n",
       "<p>1451 rows × 30 columns</p>\n",
       "</div>"
      ],
      "text/plain": [
       "      MSSubClass MSZoning LandContour Utilities LotConfig Neighborhood  \\\n",
       "0             60       RL         Lvl    AllPub    Inside      CollgCr   \n",
       "1             20       RL         Lvl    AllPub       FR2      Veenker   \n",
       "2             60       RL         Lvl    AllPub    Inside      CollgCr   \n",
       "3             70       RL         Lvl    AllPub    Corner      Crawfor   \n",
       "4             60       RL         Lvl    AllPub       FR2      NoRidge   \n",
       "...          ...      ...         ...       ...       ...          ...   \n",
       "1455          60       RL         Lvl    AllPub    Inside      Gilbert   \n",
       "1456          20       RL         Lvl    AllPub    Inside       NWAmes   \n",
       "1457          70       RL         Lvl    AllPub    Inside      Crawfor   \n",
       "1458          20       RL         Lvl    AllPub    Inside        NAmes   \n",
       "1459          20       RL         Lvl    AllPub    Inside      Edwards   \n",
       "\n",
       "     BldgType HouseStyle  OverallQual  OverallCond  ...  KitchenQual  \\\n",
       "0        1Fam     2Story            7            5  ...           Gd   \n",
       "1        1Fam     1Story            6            8  ...           TA   \n",
       "2        1Fam     2Story            7            5  ...           Gd   \n",
       "3        1Fam     2Story            7            5  ...           Gd   \n",
       "4        1Fam     2Story            8            5  ...           Gd   \n",
       "...       ...        ...          ...          ...  ...          ...   \n",
       "1455     1Fam     2Story            6            5  ...           TA   \n",
       "1456     1Fam     1Story            6            6  ...           TA   \n",
       "1457     1Fam     2Story            7            9  ...           Gd   \n",
       "1458     1Fam     1Story            5            6  ...           Gd   \n",
       "1459     1Fam     1Story            5            6  ...           TA   \n",
       "\n",
       "     TotRmsAbvGrd FireplaceQu GarageCars GarageCond    Fence MiscVal SaleType  \\\n",
       "0               8           0          2         TA  NonHave       0       WD   \n",
       "1               6          TA          2         TA  NonHave       0       WD   \n",
       "2               6          TA          2         TA  NonHave       0       WD   \n",
       "3               7          Gd          3         TA  NonHave       0       WD   \n",
       "4               9          TA          3         TA  NonHave       0       WD   \n",
       "...           ...         ...        ...        ...      ...     ...      ...   \n",
       "1455            7          TA          2         TA  NonHave       0       WD   \n",
       "1456            7          TA          2         TA    MnPrv       0       WD   \n",
       "1457            9          Gd          1         TA    GdPrv    2500       WD   \n",
       "1458            5           0          1         TA  NonHave       0       WD   \n",
       "1459            6           0          1         TA  NonHave       0       WD   \n",
       "\n",
       "      SaleCondition  SalePrice  \n",
       "0            Normal     208500  \n",
       "1            Normal     181500  \n",
       "2            Normal     223500  \n",
       "3           Abnorml     140000  \n",
       "4            Normal     250000  \n",
       "...             ...        ...  \n",
       "1455         Normal     175000  \n",
       "1456         Normal     210000  \n",
       "1457         Normal     266500  \n",
       "1458         Normal     142125  \n",
       "1459         Normal     147500  \n",
       "\n",
       "[1451 rows x 30 columns]"
      ]
     },
     "execution_count": 10,
     "metadata": {},
     "output_type": "execute_result"
    }
   ],
   "source": [
    "train_df"
   ]
  },
  {
   "cell_type": "code",
   "execution_count": 11,
   "id": "0c9550db",
   "metadata": {
    "execution": {
     "iopub.execute_input": "2022-06-25T09:38:34.579078Z",
     "iopub.status.busy": "2022-06-25T09:38:34.578579Z",
     "iopub.status.idle": "2022-06-25T09:38:34.589286Z",
     "shell.execute_reply": "2022-06-25T09:38:34.588395Z"
    },
    "papermill": {
     "duration": 0.026061,
     "end_time": "2022-06-25T09:38:34.591475",
     "exception": false,
     "start_time": "2022-06-25T09:38:34.565414",
     "status": "completed"
    },
    "tags": []
   },
   "outputs": [
    {
     "data": {
      "text/plain": [
       "['MSZoning',\n",
       " 'LandContour',\n",
       " 'Utilities',\n",
       " 'LotConfig',\n",
       " 'Neighborhood',\n",
       " 'BldgType',\n",
       " 'HouseStyle',\n",
       " 'ExterQual',\n",
       " 'ExterCond',\n",
       " 'BsmtCond',\n",
       " 'Heating',\n",
       " 'HeatingQC',\n",
       " 'CentralAir',\n",
       " 'Electrical',\n",
       " 'KitchenQual',\n",
       " 'FireplaceQu',\n",
       " 'GarageCond',\n",
       " 'Fence',\n",
       " 'SaleType',\n",
       " 'SaleCondition']"
      ]
     },
     "execution_count": 11,
     "metadata": {},
     "output_type": "execute_result"
    }
   ],
   "source": [
    "object_cols=train_df.select_dtypes(include=['object'])\n",
    "object_cols=object_cols.columns.to_list()\n",
    "object_cols"
   ]
  },
  {
   "cell_type": "code",
   "execution_count": 12,
   "id": "a2d12584",
   "metadata": {
    "execution": {
     "iopub.execute_input": "2022-06-25T09:38:34.616842Z",
     "iopub.status.busy": "2022-06-25T09:38:34.616153Z",
     "iopub.status.idle": "2022-06-25T09:38:34.640774Z",
     "shell.execute_reply": "2022-06-25T09:38:34.639503Z"
    },
    "papermill": {
     "duration": 0.040419,
     "end_time": "2022-06-25T09:38:34.643830",
     "exception": false,
     "start_time": "2022-06-25T09:38:34.603411",
     "status": "completed"
    },
    "tags": []
   },
   "outputs": [],
   "source": [
    "train_df=pd.get_dummies(data=train_df, columns=object_cols)"
   ]
  },
  {
   "cell_type": "code",
   "execution_count": 13,
   "id": "86272220",
   "metadata": {
    "execution": {
     "iopub.execute_input": "2022-06-25T09:38:34.668239Z",
     "iopub.status.busy": "2022-06-25T09:38:34.667542Z",
     "iopub.status.idle": "2022-06-25T09:38:34.686802Z",
     "shell.execute_reply": "2022-06-25T09:38:34.685321Z"
    },
    "papermill": {
     "duration": 0.03454,
     "end_time": "2022-06-25T09:38:34.689605",
     "exception": false,
     "start_time": "2022-06-25T09:38:34.655065",
     "status": "completed"
    },
    "tags": []
   },
   "outputs": [
    {
     "data": {
      "text/html": [
       "<div>\n",
       "<style scoped>\n",
       "    .dataframe tbody tr th:only-of-type {\n",
       "        vertical-align: middle;\n",
       "    }\n",
       "\n",
       "    .dataframe tbody tr th {\n",
       "        vertical-align: top;\n",
       "    }\n",
       "\n",
       "    .dataframe thead th {\n",
       "        text-align: right;\n",
       "    }\n",
       "</style>\n",
       "<table border=\"1\" class=\"dataframe\">\n",
       "  <thead>\n",
       "    <tr style=\"text-align: right;\">\n",
       "      <th></th>\n",
       "      <th>MSSubClass</th>\n",
       "      <th>OverallQual</th>\n",
       "      <th>OverallCond</th>\n",
       "      <th>YearRemodAdd</th>\n",
       "      <th>GrLivArea</th>\n",
       "      <th>FullBath</th>\n",
       "      <th>TotRmsAbvGrd</th>\n",
       "      <th>GarageCars</th>\n",
       "      <th>MiscVal</th>\n",
       "      <th>SalePrice</th>\n",
       "      <th>...</th>\n",
       "      <th>SaleType_ConLw</th>\n",
       "      <th>SaleType_New</th>\n",
       "      <th>SaleType_Oth</th>\n",
       "      <th>SaleType_WD</th>\n",
       "      <th>SaleCondition_Abnorml</th>\n",
       "      <th>SaleCondition_AdjLand</th>\n",
       "      <th>SaleCondition_Alloca</th>\n",
       "      <th>SaleCondition_Family</th>\n",
       "      <th>SaleCondition_Normal</th>\n",
       "      <th>SaleCondition_Partial</th>\n",
       "    </tr>\n",
       "  </thead>\n",
       "  <tbody>\n",
       "    <tr>\n",
       "      <th>0</th>\n",
       "      <td>60</td>\n",
       "      <td>7</td>\n",
       "      <td>5</td>\n",
       "      <td>2003</td>\n",
       "      <td>1710</td>\n",
       "      <td>2</td>\n",
       "      <td>8</td>\n",
       "      <td>2</td>\n",
       "      <td>0</td>\n",
       "      <td>208500</td>\n",
       "      <td>...</td>\n",
       "      <td>0</td>\n",
       "      <td>0</td>\n",
       "      <td>0</td>\n",
       "      <td>1</td>\n",
       "      <td>0</td>\n",
       "      <td>0</td>\n",
       "      <td>0</td>\n",
       "      <td>0</td>\n",
       "      <td>1</td>\n",
       "      <td>0</td>\n",
       "    </tr>\n",
       "    <tr>\n",
       "      <th>1</th>\n",
       "      <td>20</td>\n",
       "      <td>6</td>\n",
       "      <td>8</td>\n",
       "      <td>1976</td>\n",
       "      <td>1262</td>\n",
       "      <td>2</td>\n",
       "      <td>6</td>\n",
       "      <td>2</td>\n",
       "      <td>0</td>\n",
       "      <td>181500</td>\n",
       "      <td>...</td>\n",
       "      <td>0</td>\n",
       "      <td>0</td>\n",
       "      <td>0</td>\n",
       "      <td>1</td>\n",
       "      <td>0</td>\n",
       "      <td>0</td>\n",
       "      <td>0</td>\n",
       "      <td>0</td>\n",
       "      <td>1</td>\n",
       "      <td>0</td>\n",
       "    </tr>\n",
       "    <tr>\n",
       "      <th>2</th>\n",
       "      <td>60</td>\n",
       "      <td>7</td>\n",
       "      <td>5</td>\n",
       "      <td>2002</td>\n",
       "      <td>1786</td>\n",
       "      <td>2</td>\n",
       "      <td>6</td>\n",
       "      <td>2</td>\n",
       "      <td>0</td>\n",
       "      <td>223500</td>\n",
       "      <td>...</td>\n",
       "      <td>0</td>\n",
       "      <td>0</td>\n",
       "      <td>0</td>\n",
       "      <td>1</td>\n",
       "      <td>0</td>\n",
       "      <td>0</td>\n",
       "      <td>0</td>\n",
       "      <td>0</td>\n",
       "      <td>1</td>\n",
       "      <td>0</td>\n",
       "    </tr>\n",
       "    <tr>\n",
       "      <th>3</th>\n",
       "      <td>70</td>\n",
       "      <td>7</td>\n",
       "      <td>5</td>\n",
       "      <td>1970</td>\n",
       "      <td>1717</td>\n",
       "      <td>1</td>\n",
       "      <td>7</td>\n",
       "      <td>3</td>\n",
       "      <td>0</td>\n",
       "      <td>140000</td>\n",
       "      <td>...</td>\n",
       "      <td>0</td>\n",
       "      <td>0</td>\n",
       "      <td>0</td>\n",
       "      <td>1</td>\n",
       "      <td>1</td>\n",
       "      <td>0</td>\n",
       "      <td>0</td>\n",
       "      <td>0</td>\n",
       "      <td>0</td>\n",
       "      <td>0</td>\n",
       "    </tr>\n",
       "    <tr>\n",
       "      <th>4</th>\n",
       "      <td>60</td>\n",
       "      <td>8</td>\n",
       "      <td>5</td>\n",
       "      <td>2000</td>\n",
       "      <td>2198</td>\n",
       "      <td>2</td>\n",
       "      <td>9</td>\n",
       "      <td>3</td>\n",
       "      <td>0</td>\n",
       "      <td>250000</td>\n",
       "      <td>...</td>\n",
       "      <td>0</td>\n",
       "      <td>0</td>\n",
       "      <td>0</td>\n",
       "      <td>1</td>\n",
       "      <td>0</td>\n",
       "      <td>0</td>\n",
       "      <td>0</td>\n",
       "      <td>0</td>\n",
       "      <td>1</td>\n",
       "      <td>0</td>\n",
       "    </tr>\n",
       "  </tbody>\n",
       "</table>\n",
       "<p>5 rows × 132 columns</p>\n",
       "</div>"
      ],
      "text/plain": [
       "   MSSubClass  OverallQual  OverallCond  YearRemodAdd  GrLivArea  FullBath  \\\n",
       "0          60            7            5          2003       1710         2   \n",
       "1          20            6            8          1976       1262         2   \n",
       "2          60            7            5          2002       1786         2   \n",
       "3          70            7            5          1970       1717         1   \n",
       "4          60            8            5          2000       2198         2   \n",
       "\n",
       "   TotRmsAbvGrd  GarageCars  MiscVal  SalePrice  ...  SaleType_ConLw  \\\n",
       "0             8           2        0     208500  ...               0   \n",
       "1             6           2        0     181500  ...               0   \n",
       "2             6           2        0     223500  ...               0   \n",
       "3             7           3        0     140000  ...               0   \n",
       "4             9           3        0     250000  ...               0   \n",
       "\n",
       "   SaleType_New  SaleType_Oth  SaleType_WD  SaleCondition_Abnorml  \\\n",
       "0             0             0            1                      0   \n",
       "1             0             0            1                      0   \n",
       "2             0             0            1                      0   \n",
       "3             0             0            1                      1   \n",
       "4             0             0            1                      0   \n",
       "\n",
       "   SaleCondition_AdjLand  SaleCondition_Alloca  SaleCondition_Family  \\\n",
       "0                      0                     0                     0   \n",
       "1                      0                     0                     0   \n",
       "2                      0                     0                     0   \n",
       "3                      0                     0                     0   \n",
       "4                      0                     0                     0   \n",
       "\n",
       "   SaleCondition_Normal  SaleCondition_Partial  \n",
       "0                     1                      0  \n",
       "1                     1                      0  \n",
       "2                     1                      0  \n",
       "3                     0                      0  \n",
       "4                     1                      0  \n",
       "\n",
       "[5 rows x 132 columns]"
      ]
     },
     "execution_count": 13,
     "metadata": {},
     "output_type": "execute_result"
    }
   ],
   "source": [
    "train_df.head()"
   ]
  },
  {
   "cell_type": "code",
   "execution_count": 14,
   "id": "e5eb2ddb",
   "metadata": {
    "execution": {
     "iopub.execute_input": "2022-06-25T09:38:34.716467Z",
     "iopub.status.busy": "2022-06-25T09:38:34.714727Z",
     "iopub.status.idle": "2022-06-25T09:38:34.722229Z",
     "shell.execute_reply": "2022-06-25T09:38:34.720696Z"
    },
    "papermill": {
     "duration": 0.023445,
     "end_time": "2022-06-25T09:38:34.724906",
     "exception": false,
     "start_time": "2022-06-25T09:38:34.701461",
     "status": "completed"
    },
    "tags": []
   },
   "outputs": [],
   "source": [
    "features=train_df.columns.tolist()\n",
    "features.remove('SalePrice')"
   ]
  },
  {
   "cell_type": "code",
   "execution_count": 15,
   "id": "3a49e1b6",
   "metadata": {
    "execution": {
     "iopub.execute_input": "2022-06-25T09:38:34.752355Z",
     "iopub.status.busy": "2022-06-25T09:38:34.751318Z",
     "iopub.status.idle": "2022-06-25T09:38:35.965291Z",
     "shell.execute_reply": "2022-06-25T09:38:35.963857Z"
    },
    "papermill": {
     "duration": 1.230365,
     "end_time": "2022-06-25T09:38:35.968182",
     "exception": false,
     "start_time": "2022-06-25T09:38:34.737817",
     "status": "completed"
    },
    "tags": []
   },
   "outputs": [],
   "source": [
    "from sklearn.model_selection import train_test_split\n",
    "X_train, X_test, y_train, y_test = train_test_split(train_df[features], train_df[target], test_size=0.2, random_state=123)"
   ]
  },
  {
   "cell_type": "markdown",
   "id": "e060e8bb",
   "metadata": {
    "papermill": {
     "duration": 0.010755,
     "end_time": "2022-06-25T09:38:35.990344",
     "exception": false,
     "start_time": "2022-06-25T09:38:35.979589",
     "status": "completed"
    },
    "tags": []
   },
   "source": [
    "## Técnicas multiples de regresión "
   ]
  },
  {
   "cell_type": "markdown",
   "id": "77b9f0d0",
   "metadata": {
    "papermill": {
     "duration": 0.010776,
     "end_time": "2022-06-25T09:38:36.012322",
     "exception": false,
     "start_time": "2022-06-25T09:38:36.001546",
     "status": "completed"
    },
    "tags": []
   },
   "source": [
    "### Regresión lineal multiple"
   ]
  },
  {
   "cell_type": "code",
   "execution_count": 16,
   "id": "36f3c8fc",
   "metadata": {
    "execution": {
     "iopub.execute_input": "2022-06-25T09:38:36.036307Z",
     "iopub.status.busy": "2022-06-25T09:38:36.035896Z",
     "iopub.status.idle": "2022-06-25T09:38:36.191152Z",
     "shell.execute_reply": "2022-06-25T09:38:36.189357Z"
    },
    "papermill": {
     "duration": 0.186424,
     "end_time": "2022-06-25T09:38:36.209903",
     "exception": false,
     "start_time": "2022-06-25T09:38:36.023479",
     "status": "completed"
    },
    "tags": []
   },
   "outputs": [
    {
     "data": {
      "text/plain": [
       "LinearRegression()"
      ]
     },
     "execution_count": 16,
     "metadata": {},
     "output_type": "execute_result"
    }
   ],
   "source": [
    "from sklearn.linear_model import LinearRegression\n",
    "\n",
    "linearregress = LinearRegression()\n",
    "\n",
    "linearregress.fit(X_train, y_train)"
   ]
  },
  {
   "cell_type": "code",
   "execution_count": 17,
   "id": "a55c8ef7",
   "metadata": {
    "execution": {
     "iopub.execute_input": "2022-06-25T09:38:36.261798Z",
     "iopub.status.busy": "2022-06-25T09:38:36.259572Z",
     "iopub.status.idle": "2022-06-25T09:38:36.305051Z",
     "shell.execute_reply": "2022-06-25T09:38:36.303184Z"
    },
    "papermill": {
     "duration": 0.076852,
     "end_time": "2022-06-25T09:38:36.308837",
     "exception": false,
     "start_time": "2022-06-25T09:38:36.231985",
     "status": "completed"
    },
    "tags": []
   },
   "outputs": [
    {
     "data": {
      "text/plain": [
       "19681.74796596476"
      ]
     },
     "execution_count": 17,
     "metadata": {},
     "output_type": "execute_result"
    }
   ],
   "source": [
    "from sklearn.metrics import mean_absolute_error\n",
    "\n",
    "predicted_linear = linearregress.predict(X_test)\n",
    "linear_error=mean_absolute_error(y_test, predicted_linear)\n",
    "linear_error"
   ]
  },
  {
   "cell_type": "markdown",
   "id": "0c885b8e",
   "metadata": {
    "papermill": {
     "duration": 0.023155,
     "end_time": "2022-06-25T09:38:36.355762",
     "exception": false,
     "start_time": "2022-06-25T09:38:36.332607",
     "status": "completed"
    },
    "tags": []
   },
   "source": [
    "### Árbol de decisión"
   ]
  },
  {
   "cell_type": "code",
   "execution_count": 18,
   "id": "adb1a6ae",
   "metadata": {
    "execution": {
     "iopub.execute_input": "2022-06-25T09:38:36.404726Z",
     "iopub.status.busy": "2022-06-25T09:38:36.404191Z",
     "iopub.status.idle": "2022-06-25T09:38:36.535775Z",
     "shell.execute_reply": "2022-06-25T09:38:36.534480Z"
    },
    "papermill": {
     "duration": 0.159557,
     "end_time": "2022-06-25T09:38:36.538718",
     "exception": false,
     "start_time": "2022-06-25T09:38:36.379161",
     "status": "completed"
    },
    "tags": []
   },
   "outputs": [
    {
     "data": {
      "text/plain": [
       "DecisionTreeRegressor(random_state=123)"
      ]
     },
     "execution_count": 18,
     "metadata": {},
     "output_type": "execute_result"
    }
   ],
   "source": [
    "from sklearn.tree import DecisionTreeRegressor\n",
    "\n",
    "treeregress = DecisionTreeRegressor(random_state=123)\n",
    "\n",
    "treeregress.fit(X_train, y_train)"
   ]
  },
  {
   "cell_type": "code",
   "execution_count": 19,
   "id": "bc14e17a",
   "metadata": {
    "execution": {
     "iopub.execute_input": "2022-06-25T09:38:36.572615Z",
     "iopub.status.busy": "2022-06-25T09:38:36.571247Z",
     "iopub.status.idle": "2022-06-25T09:38:36.587272Z",
     "shell.execute_reply": "2022-06-25T09:38:36.585915Z"
    },
    "papermill": {
     "duration": 0.034455,
     "end_time": "2022-06-25T09:38:36.590176",
     "exception": false,
     "start_time": "2022-06-25T09:38:36.555721",
     "status": "completed"
    },
    "tags": []
   },
   "outputs": [
    {
     "data": {
      "text/plain": [
       "29539.1529209622"
      ]
     },
     "execution_count": 19,
     "metadata": {},
     "output_type": "execute_result"
    }
   ],
   "source": [
    "from sklearn.metrics import mean_absolute_error\n",
    "\n",
    "predicted_tree = treeregress.predict(X_test)\n",
    "tree_error=mean_absolute_error(y_test, predicted_tree)\n",
    "tree_error"
   ]
  },
  {
   "cell_type": "markdown",
   "id": "c02dffec",
   "metadata": {
    "papermill": {
     "duration": 0.016111,
     "end_time": "2022-06-25T09:38:36.619240",
     "exception": false,
     "start_time": "2022-06-25T09:38:36.603129",
     "status": "completed"
    },
    "tags": []
   },
   "source": [
    "### Random Forest"
   ]
  },
  {
   "cell_type": "code",
   "execution_count": 20,
   "id": "db43afe7",
   "metadata": {
    "execution": {
     "iopub.execute_input": "2022-06-25T09:38:36.655651Z",
     "iopub.status.busy": "2022-06-25T09:38:36.654495Z",
     "iopub.status.idle": "2022-06-25T09:38:37.875680Z",
     "shell.execute_reply": "2022-06-25T09:38:37.874150Z"
    },
    "papermill": {
     "duration": 1.238465,
     "end_time": "2022-06-25T09:38:37.878146",
     "exception": false,
     "start_time": "2022-06-25T09:38:36.639681",
     "status": "completed"
    },
    "tags": []
   },
   "outputs": [
    {
     "name": "stderr",
     "output_type": "stream",
     "text": [
      "/opt/conda/lib/python3.7/site-packages/ipykernel_launcher.py:4: DataConversionWarning: A column-vector y was passed when a 1d array was expected. Please change the shape of y to (n_samples,), for example using ravel().\n",
      "  after removing the cwd from sys.path.\n"
     ]
    },
    {
     "data": {
      "text/plain": [
       "RandomForestRegressor(random_state=123)"
      ]
     },
     "execution_count": 20,
     "metadata": {},
     "output_type": "execute_result"
    }
   ],
   "source": [
    "from sklearn.ensemble import RandomForestRegressor\n",
    "randomregress = RandomForestRegressor(random_state=123)\n",
    "\n",
    "randomregress.fit(X_train, y_train)"
   ]
  },
  {
   "cell_type": "code",
   "execution_count": 21,
   "id": "d3ab915c",
   "metadata": {
    "execution": {
     "iopub.execute_input": "2022-06-25T09:38:37.907714Z",
     "iopub.status.busy": "2022-06-25T09:38:37.906709Z",
     "iopub.status.idle": "2022-06-25T09:38:37.942869Z",
     "shell.execute_reply": "2022-06-25T09:38:37.941326Z"
    },
    "papermill": {
     "duration": 0.054203,
     "end_time": "2022-06-25T09:38:37.945765",
     "exception": false,
     "start_time": "2022-06-25T09:38:37.891562",
     "status": "completed"
    },
    "tags": []
   },
   "outputs": [
    {
     "data": {
      "text/plain": [
       "19252.439080756012"
      ]
     },
     "execution_count": 21,
     "metadata": {},
     "output_type": "execute_result"
    }
   ],
   "source": [
    "predicted_random = randomregress.predict(X_test)\n",
    "random_error=mean_absolute_error(y_test, predicted_random)\n",
    "random_error"
   ]
  },
  {
   "cell_type": "markdown",
   "id": "04823919",
   "metadata": {
    "papermill": {
     "duration": 0.012246,
     "end_time": "2022-06-25T09:38:37.970660",
     "exception": false,
     "start_time": "2022-06-25T09:38:37.958414",
     "status": "completed"
    },
    "tags": []
   },
   "source": [
    "### XG REGRESSOR"
   ]
  },
  {
   "cell_type": "code",
   "execution_count": 22,
   "id": "f8521054",
   "metadata": {
    "execution": {
     "iopub.execute_input": "2022-06-25T09:38:37.999303Z",
     "iopub.status.busy": "2022-06-25T09:38:37.998830Z",
     "iopub.status.idle": "2022-06-25T09:38:38.126609Z",
     "shell.execute_reply": "2022-06-25T09:38:38.125402Z"
    },
    "papermill": {
     "duration": 0.145265,
     "end_time": "2022-06-25T09:38:38.129577",
     "exception": false,
     "start_time": "2022-06-25T09:38:37.984312",
     "status": "completed"
    },
    "tags": []
   },
   "outputs": [],
   "source": [
    "from xgboost import XGBRegressor\n",
    "from sklearn.model_selection import GridSearchCV, RepeatedKFold\n",
    "import multiprocessing"
   ]
  },
  {
   "cell_type": "code",
   "execution_count": 23,
   "id": "6d3702b5",
   "metadata": {
    "execution": {
     "iopub.execute_input": "2022-06-25T09:38:38.155803Z",
     "iopub.status.busy": "2022-06-25T09:38:38.155422Z",
     "iopub.status.idle": "2022-06-25T09:41:33.656444Z",
     "shell.execute_reply": "2022-06-25T09:41:33.655013Z"
    },
    "papermill": {
     "duration": 175.517917,
     "end_time": "2022-06-25T09:41:33.659756",
     "exception": false,
     "start_time": "2022-06-25T09:38:38.141839",
     "status": "completed"
    },
    "tags": []
   },
   "outputs": [
    {
     "name": "stderr",
     "output_type": "stream",
     "text": [
      "/opt/conda/lib/python3.7/site-packages/xgboost/sklearn.py:797: UserWarning: `eval_metric` in `fit` method is deprecated for better compatibility with scikit-learn, use `eval_metric` in constructor or`set_params` instead.\n",
      "  UserWarning,\n",
      "/opt/conda/lib/python3.7/site-packages/xgboost/sklearn.py:797: UserWarning: `early_stopping_rounds` in `fit` method is deprecated for better compatibility with scikit-learn, use `early_stopping_rounds` in constructor or`set_params` instead.\n",
      "  UserWarning,\n",
      "/opt/conda/lib/python3.7/site-packages/xgboost/sklearn.py:797: UserWarning: `eval_metric` in `fit` method is deprecated for better compatibility with scikit-learn, use `eval_metric` in constructor or`set_params` instead.\n",
      "  UserWarning,\n",
      "/opt/conda/lib/python3.7/site-packages/xgboost/sklearn.py:797: UserWarning: `early_stopping_rounds` in `fit` method is deprecated for better compatibility with scikit-learn, use `early_stopping_rounds` in constructor or`set_params` instead.\n",
      "  UserWarning,\n",
      "/opt/conda/lib/python3.7/site-packages/xgboost/sklearn.py:797: UserWarning: `eval_metric` in `fit` method is deprecated for better compatibility with scikit-learn, use `eval_metric` in constructor or`set_params` instead.\n",
      "  UserWarning,\n",
      "/opt/conda/lib/python3.7/site-packages/xgboost/sklearn.py:797: UserWarning: `early_stopping_rounds` in `fit` method is deprecated for better compatibility with scikit-learn, use `early_stopping_rounds` in constructor or`set_params` instead.\n",
      "  UserWarning,\n",
      "/opt/conda/lib/python3.7/site-packages/xgboost/sklearn.py:797: UserWarning: `eval_metric` in `fit` method is deprecated for better compatibility with scikit-learn, use `eval_metric` in constructor or`set_params` instead.\n",
      "  UserWarning,\n",
      "/opt/conda/lib/python3.7/site-packages/xgboost/sklearn.py:797: UserWarning: `early_stopping_rounds` in `fit` method is deprecated for better compatibility with scikit-learn, use `early_stopping_rounds` in constructor or`set_params` instead.\n",
      "  UserWarning,\n",
      "/opt/conda/lib/python3.7/site-packages/xgboost/sklearn.py:797: UserWarning: `eval_metric` in `fit` method is deprecated for better compatibility with scikit-learn, use `eval_metric` in constructor or`set_params` instead.\n",
      "  UserWarning,\n",
      "/opt/conda/lib/python3.7/site-packages/xgboost/sklearn.py:797: UserWarning: `early_stopping_rounds` in `fit` method is deprecated for better compatibility with scikit-learn, use `early_stopping_rounds` in constructor or`set_params` instead.\n",
      "  UserWarning,\n",
      "/opt/conda/lib/python3.7/site-packages/xgboost/sklearn.py:797: UserWarning: `eval_metric` in `fit` method is deprecated for better compatibility with scikit-learn, use `eval_metric` in constructor or`set_params` instead.\n",
      "  UserWarning,\n",
      "/opt/conda/lib/python3.7/site-packages/xgboost/sklearn.py:797: UserWarning: `early_stopping_rounds` in `fit` method is deprecated for better compatibility with scikit-learn, use `early_stopping_rounds` in constructor or`set_params` instead.\n",
      "  UserWarning,\n",
      "/opt/conda/lib/python3.7/site-packages/xgboost/sklearn.py:797: UserWarning: `eval_metric` in `fit` method is deprecated for better compatibility with scikit-learn, use `eval_metric` in constructor or`set_params` instead.\n",
      "  UserWarning,\n",
      "/opt/conda/lib/python3.7/site-packages/xgboost/sklearn.py:797: UserWarning: `early_stopping_rounds` in `fit` method is deprecated for better compatibility with scikit-learn, use `early_stopping_rounds` in constructor or`set_params` instead.\n",
      "  UserWarning,\n",
      "/opt/conda/lib/python3.7/site-packages/xgboost/sklearn.py:797: UserWarning: `eval_metric` in `fit` method is deprecated for better compatibility with scikit-learn, use `eval_metric` in constructor or`set_params` instead.\n",
      "  UserWarning,\n",
      "/opt/conda/lib/python3.7/site-packages/xgboost/sklearn.py:797: UserWarning: `early_stopping_rounds` in `fit` method is deprecated for better compatibility with scikit-learn, use `early_stopping_rounds` in constructor or`set_params` instead.\n",
      "  UserWarning,\n",
      "/opt/conda/lib/python3.7/site-packages/xgboost/sklearn.py:797: UserWarning: `eval_metric` in `fit` method is deprecated for better compatibility with scikit-learn, use `eval_metric` in constructor or`set_params` instead.\n",
      "  UserWarning,\n",
      "/opt/conda/lib/python3.7/site-packages/xgboost/sklearn.py:797: UserWarning: `early_stopping_rounds` in `fit` method is deprecated for better compatibility with scikit-learn, use `early_stopping_rounds` in constructor or`set_params` instead.\n",
      "  UserWarning,\n",
      "/opt/conda/lib/python3.7/site-packages/xgboost/sklearn.py:797: UserWarning: `eval_metric` in `fit` method is deprecated for better compatibility with scikit-learn, use `eval_metric` in constructor or`set_params` instead.\n",
      "  UserWarning,\n",
      "/opt/conda/lib/python3.7/site-packages/xgboost/sklearn.py:797: UserWarning: `early_stopping_rounds` in `fit` method is deprecated for better compatibility with scikit-learn, use `early_stopping_rounds` in constructor or`set_params` instead.\n",
      "  UserWarning,\n",
      "/opt/conda/lib/python3.7/site-packages/xgboost/sklearn.py:797: UserWarning: `eval_metric` in `fit` method is deprecated for better compatibility with scikit-learn, use `eval_metric` in constructor or`set_params` instead.\n",
      "  UserWarning,\n",
      "/opt/conda/lib/python3.7/site-packages/xgboost/sklearn.py:797: UserWarning: `early_stopping_rounds` in `fit` method is deprecated for better compatibility with scikit-learn, use `early_stopping_rounds` in constructor or`set_params` instead.\n",
      "  UserWarning,\n",
      "/opt/conda/lib/python3.7/site-packages/xgboost/sklearn.py:797: UserWarning: `eval_metric` in `fit` method is deprecated for better compatibility with scikit-learn, use `eval_metric` in constructor or`set_params` instead.\n",
      "  UserWarning,\n",
      "/opt/conda/lib/python3.7/site-packages/xgboost/sklearn.py:797: UserWarning: `early_stopping_rounds` in `fit` method is deprecated for better compatibility with scikit-learn, use `early_stopping_rounds` in constructor or`set_params` instead.\n",
      "  UserWarning,\n",
      "/opt/conda/lib/python3.7/site-packages/xgboost/sklearn.py:797: UserWarning: `eval_metric` in `fit` method is deprecated for better compatibility with scikit-learn, use `eval_metric` in constructor or`set_params` instead.\n",
      "  UserWarning,\n",
      "/opt/conda/lib/python3.7/site-packages/xgboost/sklearn.py:797: UserWarning: `early_stopping_rounds` in `fit` method is deprecated for better compatibility with scikit-learn, use `early_stopping_rounds` in constructor or`set_params` instead.\n",
      "  UserWarning,\n",
      "/opt/conda/lib/python3.7/site-packages/xgboost/sklearn.py:797: UserWarning: `eval_metric` in `fit` method is deprecated for better compatibility with scikit-learn, use `eval_metric` in constructor or`set_params` instead.\n",
      "  UserWarning,\n",
      "/opt/conda/lib/python3.7/site-packages/xgboost/sklearn.py:797: UserWarning: `early_stopping_rounds` in `fit` method is deprecated for better compatibility with scikit-learn, use `early_stopping_rounds` in constructor or`set_params` instead.\n",
      "  UserWarning,\n",
      "/opt/conda/lib/python3.7/site-packages/xgboost/sklearn.py:797: UserWarning: `eval_metric` in `fit` method is deprecated for better compatibility with scikit-learn, use `eval_metric` in constructor or`set_params` instead.\n",
      "  UserWarning,\n",
      "/opt/conda/lib/python3.7/site-packages/xgboost/sklearn.py:797: UserWarning: `early_stopping_rounds` in `fit` method is deprecated for better compatibility with scikit-learn, use `early_stopping_rounds` in constructor or`set_params` instead.\n",
      "  UserWarning,\n",
      "/opt/conda/lib/python3.7/site-packages/xgboost/sklearn.py:797: UserWarning: `eval_metric` in `fit` method is deprecated for better compatibility with scikit-learn, use `eval_metric` in constructor or`set_params` instead.\n",
      "  UserWarning,\n",
      "/opt/conda/lib/python3.7/site-packages/xgboost/sklearn.py:797: UserWarning: `early_stopping_rounds` in `fit` method is deprecated for better compatibility with scikit-learn, use `early_stopping_rounds` in constructor or`set_params` instead.\n",
      "  UserWarning,\n",
      "/opt/conda/lib/python3.7/site-packages/xgboost/sklearn.py:797: UserWarning: `eval_metric` in `fit` method is deprecated for better compatibility with scikit-learn, use `eval_metric` in constructor or`set_params` instead.\n",
      "  UserWarning,\n",
      "/opt/conda/lib/python3.7/site-packages/xgboost/sklearn.py:797: UserWarning: `early_stopping_rounds` in `fit` method is deprecated for better compatibility with scikit-learn, use `early_stopping_rounds` in constructor or`set_params` instead.\n",
      "  UserWarning,\n",
      "/opt/conda/lib/python3.7/site-packages/xgboost/sklearn.py:797: UserWarning: `eval_metric` in `fit` method is deprecated for better compatibility with scikit-learn, use `eval_metric` in constructor or`set_params` instead.\n",
      "  UserWarning,\n",
      "/opt/conda/lib/python3.7/site-packages/xgboost/sklearn.py:797: UserWarning: `early_stopping_rounds` in `fit` method is deprecated for better compatibility with scikit-learn, use `early_stopping_rounds` in constructor or`set_params` instead.\n",
      "  UserWarning,\n"
     ]
    },
    {
     "data": {
      "text/html": [
       "<div>\n",
       "<style scoped>\n",
       "    .dataframe tbody tr th:only-of-type {\n",
       "        vertical-align: middle;\n",
       "    }\n",
       "\n",
       "    .dataframe tbody tr th {\n",
       "        vertical-align: top;\n",
       "    }\n",
       "\n",
       "    .dataframe thead th {\n",
       "        text-align: right;\n",
       "    }\n",
       "</style>\n",
       "<table border=\"1\" class=\"dataframe\">\n",
       "  <thead>\n",
       "    <tr style=\"text-align: right;\">\n",
       "      <th></th>\n",
       "      <th>param_booster</th>\n",
       "      <th>param_learning_rate</th>\n",
       "      <th>param_max_depth</th>\n",
       "      <th>param_subsample</th>\n",
       "      <th>mean_test_score</th>\n",
       "      <th>std_test_score</th>\n",
       "      <th>mean_train_score</th>\n",
       "      <th>std_train_score</th>\n",
       "    </tr>\n",
       "  </thead>\n",
       "  <tbody>\n",
       "    <tr>\n",
       "      <th>4</th>\n",
       "      <td>gbtree</td>\n",
       "      <td>0.01</td>\n",
       "      <td>10</td>\n",
       "      <td>0.5</td>\n",
       "      <td>-17971.485060</td>\n",
       "      <td>615.251600</td>\n",
       "      <td>-5417.034778</td>\n",
       "      <td>1803.778745</td>\n",
       "    </tr>\n",
       "    <tr>\n",
       "      <th>6</th>\n",
       "      <td>gbtree</td>\n",
       "      <td>0.01</td>\n",
       "      <td>20</td>\n",
       "      <td>0.5</td>\n",
       "      <td>-18100.001168</td>\n",
       "      <td>596.747473</td>\n",
       "      <td>-3368.511946</td>\n",
       "      <td>2276.046871</td>\n",
       "    </tr>\n",
       "    <tr>\n",
       "      <th>2</th>\n",
       "      <td>gbtree</td>\n",
       "      <td>0.01</td>\n",
       "      <td>5</td>\n",
       "      <td>0.5</td>\n",
       "      <td>-18180.219060</td>\n",
       "      <td>641.654386</td>\n",
       "      <td>-10502.390669</td>\n",
       "      <td>937.118021</td>\n",
       "    </tr>\n",
       "    <tr>\n",
       "      <th>9</th>\n",
       "      <td>gbtree</td>\n",
       "      <td>0.1</td>\n",
       "      <td>3</td>\n",
       "      <td>1</td>\n",
       "      <td>-18526.246532</td>\n",
       "      <td>626.158566</td>\n",
       "      <td>-8994.605419</td>\n",
       "      <td>2349.718247</td>\n",
       "    </tr>\n",
       "  </tbody>\n",
       "</table>\n",
       "</div>"
      ],
      "text/plain": [
       "  param_booster param_learning_rate param_max_depth param_subsample  \\\n",
       "4        gbtree                0.01              10             0.5   \n",
       "6        gbtree                0.01              20             0.5   \n",
       "2        gbtree                0.01               5             0.5   \n",
       "9        gbtree                 0.1               3               1   \n",
       "\n",
       "   mean_test_score  std_test_score  mean_train_score  std_train_score  \n",
       "4    -17971.485060      615.251600      -5417.034778      1803.778745  \n",
       "6    -18100.001168      596.747473      -3368.511946      2276.046871  \n",
       "2    -18180.219060      641.654386     -10502.390669       937.118021  \n",
       "9    -18526.246532      626.158566      -8994.605419      2349.718247  "
      ]
     },
     "execution_count": 23,
     "metadata": {},
     "output_type": "execute_result"
    }
   ],
   "source": [
    "# Grid de hiperparámetros evaluados\n",
    "# ==============================================================================\n",
    "param_grid = {'max_depth'        : [3, 5, 10, 20],\n",
    "              'subsample'        : [0.5, 1],\n",
    "              'learning_rate'    : [0.01, 0.1],\n",
    "              'booster'          : ['gbtree']\n",
    "             }\n",
    "\n",
    "\n",
    "# Crear conjunto de validación\n",
    "# ==============================================================================\n",
    "np.random.seed(123)\n",
    "idx_validacion = np.random.choice(\n",
    "                    X_train.shape[0],\n",
    "                    size= int(X_train.shape[0]*0.1),\n",
    "                    replace=False\n",
    "                 )\n",
    "\n",
    "X_val = X_train.iloc[idx_validacion, :].copy()\n",
    "y_val = y_train.iloc[idx_validacion].copy()\n",
    "\n",
    "X_train_grid = X_train.reset_index(drop = True).drop(idx_validacion, axis = 0).copy()\n",
    "y_train_grid = y_train.reset_index(drop = True).drop(idx_validacion, axis = 0).copy()\n",
    "\n",
    "# XGBoost necesita pasar los paramétros específicos del entrenamiento al llamar\n",
    "# al método .fit()\n",
    "fit_params = {\"early_stopping_rounds\" : 5, \n",
    "              \"eval_metric\"           : \"rmse\", \n",
    "              \"eval_set\"              : [(X_val, y_val)],\n",
    "              \"verbose\"               : 0\n",
    "             }\n",
    "\n",
    "# Búsqueda por grid search con validación cruzada\n",
    "# ==============================================================================\n",
    "grid = GridSearchCV(\n",
    "        estimator  = XGBRegressor(\n",
    "                        n_estimators = 1000,\n",
    "                        random_state = 123\n",
    "                    ),\n",
    "        param_grid = param_grid,\n",
    "        scoring    = 'neg_mean_absolute_error',\n",
    "        n_jobs     = multiprocessing.cpu_count() - 1,\n",
    "        cv         = RepeatedKFold(n_splits=3, n_repeats=1, random_state=123), \n",
    "        refit      = True,\n",
    "        verbose    = 0,\n",
    "        return_train_score = True\n",
    "       )\n",
    "\n",
    "grid.fit(X = X_train, y = y_train, **fit_params)\n",
    "\n",
    "# Resultados\n",
    "# ==============================================================================\n",
    "resultados = pd.DataFrame(grid.cv_results_)\n",
    "resultados.filter(regex = '(param.*|mean_t|std_t)') \\\n",
    "    .drop(columns = 'params') \\\n",
    "    .sort_values('mean_test_score', ascending = False) \\\n",
    "    .head(4)"
   ]
  },
  {
   "cell_type": "code",
   "execution_count": 24,
   "id": "3b265c2f",
   "metadata": {
    "execution": {
     "iopub.execute_input": "2022-06-25T09:41:33.690370Z",
     "iopub.status.busy": "2022-06-25T09:41:33.688654Z",
     "iopub.status.idle": "2022-06-25T09:41:34.020698Z",
     "shell.execute_reply": "2022-06-25T09:41:34.019816Z"
    },
    "papermill": {
     "duration": 0.349618,
     "end_time": "2022-06-25T09:41:34.023057",
     "exception": false,
     "start_time": "2022-06-25T09:41:33.673439",
     "status": "completed"
    },
    "tags": []
   },
   "outputs": [
    {
     "name": "stdout",
     "output_type": "stream",
     "text": [
      "----------------------------------------\n",
      "Mejores hiperparámetros encontrados (cv)\n",
      "----------------------------------------\n",
      "{'booster': 'gbtree', 'learning_rate': 0.01, 'max_depth': 10, 'subsample': 0.5} : -17971.485059992305 neg_mean_absolute_error\n",
      "Número de árboles incluidos en el modelo: 1000\n"
     ]
    }
   ],
   "source": [
    "# Mejores hiperparámetros por validación cruzada\n",
    "# ==============================================================================\n",
    "print(\"----------------------------------------\")\n",
    "print(\"Mejores hiperparámetros encontrados (cv)\")\n",
    "print(\"----------------------------------------\")\n",
    "print(grid.best_params_, \":\", grid.best_score_, grid.scoring)\n",
    "\n",
    "# Número de árboles del modelo final (early stopping)\n",
    "# ==============================================================================\n",
    "n_arboles_incluidos = len(grid.best_estimator_.get_booster().get_dump())\n",
    "print(f\"Número de árboles incluidos en el modelo: {n_arboles_incluidos}\")"
   ]
  },
  {
   "cell_type": "code",
   "execution_count": 25,
   "id": "25bd3e4f",
   "metadata": {
    "execution": {
     "iopub.execute_input": "2022-06-25T09:41:34.050921Z",
     "iopub.status.busy": "2022-06-25T09:41:34.050536Z",
     "iopub.status.idle": "2022-06-25T09:41:34.082778Z",
     "shell.execute_reply": "2022-06-25T09:41:34.081304Z"
    },
    "papermill": {
     "duration": 0.049696,
     "end_time": "2022-06-25T09:41:34.085786",
     "exception": false,
     "start_time": "2022-06-25T09:41:34.036090",
     "status": "completed"
    },
    "tags": []
   },
   "outputs": [
    {
     "data": {
      "text/plain": [
       "18131.464347079036"
      ]
     },
     "execution_count": 25,
     "metadata": {},
     "output_type": "execute_result"
    }
   ],
   "source": [
    "XGregress = grid.best_estimator_\n",
    "predicted_XG = XGregress.predict(X_test)\n",
    "XG_error=mean_absolute_error(y_test, predicted_XG)\n",
    "XG_error"
   ]
  },
  {
   "cell_type": "markdown",
   "id": "a8a97631",
   "metadata": {
    "papermill": {
     "duration": 0.014092,
     "end_time": "2022-06-25T09:41:34.115013",
     "exception": false,
     "start_time": "2022-06-25T09:41:34.100921",
     "status": "completed"
    },
    "tags": []
   },
   "source": [
    "### LightGBM\n",
    "\n",
    "*Añadimos GridSearchCV"
   ]
  },
  {
   "cell_type": "code",
   "execution_count": 26,
   "id": "dd615382",
   "metadata": {
    "execution": {
     "iopub.execute_input": "2022-06-25T09:41:34.144684Z",
     "iopub.status.busy": "2022-06-25T09:41:34.144272Z",
     "iopub.status.idle": "2022-06-25T09:41:35.196347Z",
     "shell.execute_reply": "2022-06-25T09:41:35.194899Z"
    },
    "papermill": {
     "duration": 1.070298,
     "end_time": "2022-06-25T09:41:35.199319",
     "exception": false,
     "start_time": "2022-06-25T09:41:34.129021",
     "status": "completed"
    },
    "tags": []
   },
   "outputs": [
    {
     "data": {
      "text/html": [
       "<style type='text/css'>\n",
       ".datatable table.frame { margin-bottom: 0; }\n",
       ".datatable table.frame thead { border-bottom: none; }\n",
       ".datatable table.frame tr.coltypes td {  color: #FFFFFF;  line-height: 6px;  padding: 0 0.5em;}\n",
       ".datatable .bool    { background: #DDDD99; }\n",
       ".datatable .object  { background: #565656; }\n",
       ".datatable .int     { background: #5D9E5D; }\n",
       ".datatable .float   { background: #4040CC; }\n",
       ".datatable .str     { background: #CC4040; }\n",
       ".datatable .time    { background: #40CC40; }\n",
       ".datatable .row_index {  background: var(--jp-border-color3);  border-right: 1px solid var(--jp-border-color0);  color: var(--jp-ui-font-color3);  font-size: 9px;}\n",
       ".datatable .frame tbody td { text-align: left; }\n",
       ".datatable .frame tr.coltypes .row_index {  background: var(--jp-border-color0);}\n",
       ".datatable th:nth-child(2) { padding-left: 12px; }\n",
       ".datatable .hellipsis {  color: var(--jp-cell-editor-border-color);}\n",
       ".datatable .vellipsis {  background: var(--jp-layout-color0);  color: var(--jp-cell-editor-border-color);}\n",
       ".datatable .na {  color: var(--jp-cell-editor-border-color);  font-size: 80%;}\n",
       ".datatable .sp {  opacity: 0.25;}\n",
       ".datatable .footer { font-size: 9px; }\n",
       ".datatable .frame_dimensions {  background: var(--jp-border-color3);  border-top: 1px solid var(--jp-border-color0);  color: var(--jp-ui-font-color3);  display: inline-block;  opacity: 0.6;  padding: 1px 10px 1px 5px;}\n",
       "</style>\n"
      ],
      "text/plain": [
       "<IPython.core.display.HTML object>"
      ]
     },
     "metadata": {},
     "output_type": "display_data"
    }
   ],
   "source": [
    "from lightgbm.sklearn import LGBMRegressor\n"
   ]
  },
  {
   "cell_type": "code",
   "execution_count": 27,
   "id": "bcfdc85a",
   "metadata": {
    "execution": {
     "iopub.execute_input": "2022-06-25T09:41:35.229638Z",
     "iopub.status.busy": "2022-06-25T09:41:35.229182Z",
     "iopub.status.idle": "2022-06-25T09:42:56.020370Z",
     "shell.execute_reply": "2022-06-25T09:42:56.018716Z"
    },
    "papermill": {
     "duration": 80.821707,
     "end_time": "2022-06-25T09:42:56.035541",
     "exception": false,
     "start_time": "2022-06-25T09:41:35.213834",
     "status": "completed"
    },
    "tags": []
   },
   "outputs": [
    {
     "data": {
      "text/html": [
       "<div>\n",
       "<style scoped>\n",
       "    .dataframe tbody tr th:only-of-type {\n",
       "        vertical-align: middle;\n",
       "    }\n",
       "\n",
       "    .dataframe tbody tr th {\n",
       "        vertical-align: top;\n",
       "    }\n",
       "\n",
       "    .dataframe thead th {\n",
       "        text-align: right;\n",
       "    }\n",
       "</style>\n",
       "<table border=\"1\" class=\"dataframe\">\n",
       "  <thead>\n",
       "    <tr style=\"text-align: right;\">\n",
       "      <th></th>\n",
       "      <th>param_boosting_type</th>\n",
       "      <th>param_learning_rate</th>\n",
       "      <th>param_max_depth</th>\n",
       "      <th>param_n_estimators</th>\n",
       "      <th>param_subsample</th>\n",
       "      <th>mean_test_score</th>\n",
       "      <th>std_test_score</th>\n",
       "      <th>mean_train_score</th>\n",
       "      <th>std_train_score</th>\n",
       "    </tr>\n",
       "  </thead>\n",
       "  <tbody>\n",
       "    <tr>\n",
       "      <th>7</th>\n",
       "      <td>gbdt</td>\n",
       "      <td>0.01</td>\n",
       "      <td>5</td>\n",
       "      <td>5000</td>\n",
       "      <td>1</td>\n",
       "      <td>-18701.020815</td>\n",
       "      <td>267.090123</td>\n",
       "      <td>-8726.521264</td>\n",
       "      <td>856.286038</td>\n",
       "    </tr>\n",
       "    <tr>\n",
       "      <th>6</th>\n",
       "      <td>gbdt</td>\n",
       "      <td>0.01</td>\n",
       "      <td>5</td>\n",
       "      <td>5000</td>\n",
       "      <td>0.5</td>\n",
       "      <td>-18701.020815</td>\n",
       "      <td>267.090123</td>\n",
       "      <td>-8726.521264</td>\n",
       "      <td>856.286038</td>\n",
       "    </tr>\n",
       "    <tr>\n",
       "      <th>27</th>\n",
       "      <td>gbdt</td>\n",
       "      <td>0.1</td>\n",
       "      <td>5</td>\n",
       "      <td>500</td>\n",
       "      <td>1</td>\n",
       "      <td>-18780.327530</td>\n",
       "      <td>381.337302</td>\n",
       "      <td>-8481.486577</td>\n",
       "      <td>863.590067</td>\n",
       "    </tr>\n",
       "    <tr>\n",
       "      <th>26</th>\n",
       "      <td>gbdt</td>\n",
       "      <td>0.1</td>\n",
       "      <td>5</td>\n",
       "      <td>500</td>\n",
       "      <td>0.5</td>\n",
       "      <td>-18780.327530</td>\n",
       "      <td>381.337302</td>\n",
       "      <td>-8481.486577</td>\n",
       "      <td>863.590067</td>\n",
       "    </tr>\n",
       "  </tbody>\n",
       "</table>\n",
       "</div>"
      ],
      "text/plain": [
       "   param_boosting_type param_learning_rate param_max_depth param_n_estimators  \\\n",
       "7                 gbdt                0.01               5               5000   \n",
       "6                 gbdt                0.01               5               5000   \n",
       "27                gbdt                 0.1               5                500   \n",
       "26                gbdt                 0.1               5                500   \n",
       "\n",
       "   param_subsample  mean_test_score  std_test_score  mean_train_score  \\\n",
       "7                1    -18701.020815      267.090123      -8726.521264   \n",
       "6              0.5    -18701.020815      267.090123      -8726.521264   \n",
       "27               1    -18780.327530      381.337302      -8481.486577   \n",
       "26             0.5    -18780.327530      381.337302      -8481.486577   \n",
       "\n",
       "    std_train_score  \n",
       "7        856.286038  \n",
       "6        856.286038  \n",
       "27       863.590067  \n",
       "26       863.590067  "
      ]
     },
     "execution_count": 27,
     "metadata": {},
     "output_type": "execute_result"
    }
   ],
   "source": [
    "# Grid de hiperparámetros evaluados\n",
    "# ==============================================================================\n",
    "param_grid = {'n_estimators'     : [100, 500, 1000, 5000],\n",
    "              'max_depth'        : [5, 10, 20],\n",
    "              'subsample'        : [0.5, 1],\n",
    "              'learning_rate'    : [0.01, 0.1],\n",
    "              'boosting_type'    : ['gbdt']\n",
    "             }\n",
    "\n",
    "# Búsqueda por grid search con validación cruzada\n",
    "# ==============================================================================\n",
    "grid = GridSearchCV(\n",
    "        estimator  = LGBMRegressor(random_state=123),\n",
    "        param_grid = param_grid,\n",
    "        scoring    = 'neg_mean_absolute_error',\n",
    "        n_jobs     = multiprocessing.cpu_count() - 1,\n",
    "        cv         = RepeatedKFold(n_splits=3, n_repeats=1, random_state=123), \n",
    "        refit      = True,\n",
    "        verbose    = 0,\n",
    "        return_train_score = True\n",
    "       )\n",
    "\n",
    "grid.fit(X = X_train, y = y_train)\n",
    "\n",
    "# Resultados\n",
    "# ==============================================================================\n",
    "resultados = pd.DataFrame(grid.cv_results_)\n",
    "resultados.filter(regex = '(param.*|mean_t|std_t)') \\\n",
    "    .drop(columns = 'params') \\\n",
    "    .sort_values('mean_test_score', ascending = False) \\\n",
    "    .head(4)"
   ]
  },
  {
   "cell_type": "code",
   "execution_count": 28,
   "id": "e0b81a83",
   "metadata": {
    "execution": {
     "iopub.execute_input": "2022-06-25T09:42:56.064957Z",
     "iopub.status.busy": "2022-06-25T09:42:56.064074Z",
     "iopub.status.idle": "2022-06-25T09:42:56.071089Z",
     "shell.execute_reply": "2022-06-25T09:42:56.069630Z"
    },
    "papermill": {
     "duration": 0.024861,
     "end_time": "2022-06-25T09:42:56.073627",
     "exception": false,
     "start_time": "2022-06-25T09:42:56.048766",
     "status": "completed"
    },
    "tags": []
   },
   "outputs": [
    {
     "name": "stdout",
     "output_type": "stream",
     "text": [
      "----------------------------------------\n",
      "Mejores hiperparámetros encontrados (cv)\n",
      "----------------------------------------\n",
      "{'boosting_type': 'gbdt', 'learning_rate': 0.01, 'max_depth': 5, 'n_estimators': 5000, 'subsample': 0.5} : -18701.02081489661 neg_mean_absolute_error\n"
     ]
    }
   ],
   "source": [
    "# Mejores hiperparámetros por validación cruzada\n",
    "# ==============================================================================\n",
    "print(\"----------------------------------------\")\n",
    "print(\"Mejores hiperparámetros encontrados (cv)\")\n",
    "print(\"----------------------------------------\")\n",
    "print(grid.best_params_, \":\", grid.best_score_, grid.scoring)"
   ]
  },
  {
   "cell_type": "code",
   "execution_count": 29,
   "id": "e3fbe49a",
   "metadata": {
    "execution": {
     "iopub.execute_input": "2022-06-25T09:42:56.103751Z",
     "iopub.status.busy": "2022-06-25T09:42:56.102927Z",
     "iopub.status.idle": "2022-06-25T09:42:56.153187Z",
     "shell.execute_reply": "2022-06-25T09:42:56.151777Z"
    },
    "papermill": {
     "duration": 0.069293,
     "end_time": "2022-06-25T09:42:56.156410",
     "exception": false,
     "start_time": "2022-06-25T09:42:56.087117",
     "status": "completed"
    },
    "tags": []
   },
   "outputs": [
    {
     "data": {
      "text/plain": [
       "19465.838286595226"
      ]
     },
     "execution_count": 29,
     "metadata": {},
     "output_type": "execute_result"
    }
   ],
   "source": [
    "Light_regress = grid.best_estimator_\n",
    "predicted_Light = Light_regress.predict(X = X_test,)\n",
    "Light_error=mean_absolute_error(y_test, predicted_Light)\n",
    "Light_error"
   ]
  }
 ],
 "metadata": {
  "kernelspec": {
   "display_name": "Python 3",
   "language": "python",
   "name": "python3"
  },
  "language_info": {
   "codemirror_mode": {
    "name": "ipython",
    "version": 3
   },
   "file_extension": ".py",
   "mimetype": "text/x-python",
   "name": "python",
   "nbconvert_exporter": "python",
   "pygments_lexer": "ipython3",
   "version": "3.7.12"
  },
  "papermill": {
   "default_parameters": {},
   "duration": 275.277806,
   "end_time": "2022-06-25T09:42:58.796180",
   "environment_variables": {},
   "exception": null,
   "input_path": "__notebook__.ipynb",
   "output_path": "__notebook__.ipynb",
   "parameters": {},
   "start_time": "2022-06-25T09:38:23.518374",
   "version": "2.3.4"
  }
 },
 "nbformat": 4,
 "nbformat_minor": 5
}
